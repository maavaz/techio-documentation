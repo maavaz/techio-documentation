{
 "cells": [
  {
   "cell_type": "markdown",
   "metadata": {},
   "source": [
    "# TUPLAS E DICIONÁRIOS"
   ]
  },
  {
   "cell_type": "markdown",
   "metadata": {},
   "source": [
    "## TUPLAS "
   ]
  },
  {
   "cell_type": "markdown",
   "metadata": {},
   "source": [
    "Tuplas são basicamente listas que nunca podem ser alteradas.Você pode modificar qualquer elemento que quiser em uma lista. Às vezes gostamos desse comportamento, mas outras vezes podemos querer garantir que nenhum usuário ou nenhuma parte de um programa possa mudar uma lista. É para isso que as tuplas são.\n",
    "Tecnicamente, listas são objetos mutáveis e tuplas são objetos imutáveis. Objetos mutáveis podem mudar (pense em mutações), e objetos imutáveis não podem mudar."
   ]
  },
  {
   "cell_type": "markdown",
   "metadata": {},
   "source": [
    "⚫1- Crie uma tupla com apenas 1 elemento. Mostre a tupla criada e verifique se o tipo (comando type()) é realmente uma tupla"
   ]
  },
  {
   "cell_type": "code",
   "execution_count": null,
   "metadata": {},
   "outputs": [],
   "source": [
    "tupla = (1,)\n",
    "type(tupla)"
   ]
  },
  {
   "cell_type": "markdown",
   "metadata": {},
   "source": [
    "⚫2- Criar uma tupla com os números inteiros de 0 a 9, utilizando a função integrada tuple().Mostre a tupla criada"
   ]
  },
  {
   "cell_type": "code",
   "execution_count": 8,
   "metadata": {},
   "outputs": [],
   "source": [
    "tupla=tuple(range(10))\n",
    "tupla"
   ]
  },
  {
   "cell_type": "markdown",
   "metadata": {},
   "source": [
    "⚫3- criar uma nova tupla com os elementos da tupla criada, substituindo o valor 0 pelo valor 10. Mostrar a nova tupla."
   ]
  },
  {
   "cell_type": "code",
   "execution_count": 11,
   "metadata": {},
   "outputs": [
    {
     "data": {
      "text/plain": [
       "(1, 2, 3, 4, 5, 6, 7, 8, 9, 10)"
      ]
     },
     "execution_count": 11,
     "metadata": {},
     "output_type": "execute_result"
    }
   ],
   "source": [
    "ntupla = tupla[1:] + (10,)\n",
    "ntupla"
   ]
  },
  {
   "cell_type": "markdown",
   "metadata": {},
   "source": [
    "⚫4- Escreva um programa para substituir os últimos valores de cada tupla (letra 'O') pela letra 'A'. Utilize a compressão de listas.\n",
    "     L = [('A', 'N', 'O'), ('O', 'C', 'O'), ('A', 'T', 'O')]\n"
   ]
  },
  {
   "cell_type": "code",
   "execution_count": 31,
   "metadata": {},
   "outputs": [
    {
     "data": {
      "text/plain": [
       "[('A', 'N', 'A'), ('O', 'C', 'A'), ('A', 'T', 'A')]"
      ]
     },
     "execution_count": 31,
     "metadata": {},
     "output_type": "execute_result"
    }
   ],
   "source": [
    "  L = [('A', 'N', 'O'), ('O', 'C', 'O'), ('A', 'T', 'O')]\n",
    "L = [x[:-1] + ('A',) for x in L]\n",
    "L"
   ]
  },
  {
   "cell_type": "markdown",
   "metadata": {},
   "source": [
    "⚫5- Dada a seguinte lista de tuplas L: L = [(), (), ('',), ('a', 'b'), ('a', 'b', 'c'), ('d')]. Utilize a compressão de listas para extrair as tuplas vazias."
   ]
  },
  {
   "cell_type": "code",
   "execution_count": 25,
   "metadata": {},
   "outputs": [
    {
     "name": "stdout",
     "output_type": "stream",
     "text": [
      "[('',), ('a', 'b'), ('a', 'b', 'c'), 'd']\n"
     ]
    }
   ],
   "source": [
    "L = [(), (), ('',), ('a', 'b'), ('a', 'b', 'c'), ('d')]\n",
    "\n",
    "L = [t for t in L if t]\n",
    " \n",
    "print(L)"
   ]
  },
  {
   "cell_type": "markdown",
   "metadata": {},
   "source": [
    "##### ⚫6- Dada as listas abaixo (nome e profissão), crie uma lista (list()) com os pares nome e profissão. Mostra a nova tupla criada. Use a função integrada zip().\n",
    "     nomes=['Ana', 'Beto', 'Carla', 'Daniel', 'Elisa', 'Fernanda']\n",
    "     profissao =['Dentista', 'Médico', 'Professora', 'Advogado', 'Engenheira', 'Analista de TI']"
   ]
  },
  {
   "cell_type": "code",
   "execution_count": 13,
   "metadata": {},
   "outputs": [
    {
     "data": {
      "text/plain": [
       "[('Ana', 'Dentista'),\n",
       " ('Beto', 'Médico'),\n",
       " ('Carla', 'Professora'),\n",
       " ('Daniel', 'Advogado'),\n",
       " ('Elisa', 'Engenheira'),\n",
       " ('Fernanda', 'Analista de TI')]"
      ]
     },
     "execution_count": 13,
     "metadata": {},
     "output_type": "execute_result"
    }
   ],
   "source": [
    "nomes=['Ana', 'Beto', 'Carla', 'Daniel', 'Elisa', 'Fernanda']\n",
    "profissao =['Dentista', 'Médico', 'Professora', 'Advogado', 'Engenheira', 'Analista de TI']\n",
    "tupla = list(zip(nomes, profissao))\n",
    "tupla"
   ]
  },
  {
   "cell_type": "markdown",
   "metadata": {},
   "source": [
    "⚫7- Percorrer os pares da lista criada no item anterior e mostre os elementos de em 2 colunas (Nome e Profissão)."
   ]
  },
  {
   "cell_type": "code",
   "execution_count": 17,
   "metadata": {},
   "outputs": [
    {
     "name": "stdout",
     "output_type": "stream",
     "text": [
      "Nome          Profissão\n",
      "Ana            Dentista\n",
      "Beto           Médico\n",
      "Carla          Professora\n",
      "Daniel         Advogado\n",
      "Elisa          Engenheira\n",
      "Fernanda       Analista de TI\n"
     ]
    }
   ],
   "source": [
    "print(\"Nome          Profissão\")\n",
    "for nome, prof in tupla:\n",
    "    print('{0:<10}     {1}'.format(nome,prof))\n",
    "    "
   ]
  },
  {
   "cell_type": "markdown",
   "metadata": {},
   "source": [
    "⚫8- Dado os projetos abaixo:<br>\n",
    "&nbsp;&nbsp;&nbsp;&nbsp;&nbsp;&nbsp;&nbsp;&nbsp;&nbsp;&nbsp;&nbsp;&nbsp;&nbsp;&nbsp;&nbsp;&nbsp;&nbsp;&nbsp;&nbsp;&nbsp;&nbsp;Projeto A&nbsp;&nbsp;&nbsp;&nbsp;&nbsp;&nbsp;&nbsp;&nbsp;&nbsp;&nbsp;&nbsp;&nbsp;&nbsp;&nbsp;&nbsp;&nbsp;&nbsp;&nbsp;&nbsp;&nbsp;&nbsp;&nbsp;&nbsp;&nbsp;&nbsp;&nbsp;&nbsp;&nbsp;&nbsp;&nbsp;&nbsp;&nbsp;&nbsp;&nbsp;&nbsp;&nbsp;&nbsp;&nbsp;&nbsp;&nbsp;&nbsp;&nbsp;&nbsp;&nbsp;&nbsp;&nbsp;&nbsp;&nbsp;&nbsp;&nbsp;&nbsp;&nbsp;&nbsp;&nbsp;&nbsp;&nbsp;Projeto B <br>\n",
    "<b>Probabilidade (%)&nbsp;&nbsp;&nbsp;Taxa Retorno(%)&nbsp;&nbsp;&nbsp;&nbsp;&nbsp;&nbsp;&nbsp;&nbsp;&nbsp;&nbsp;&nbsp;&nbsp;Probabilidade (%)&nbsp;&nbsp;&nbsp;Taxa Retorno(%)</b><br>\n",
    "&nbsp;&nbsp;&nbsp;&nbsp;&nbsp;&nbsp;&nbsp;&nbsp;10%&nbsp;&nbsp;&nbsp;&nbsp;&nbsp;&nbsp;&nbsp;&nbsp;&nbsp;&nbsp;&nbsp;&nbsp;&nbsp;&nbsp;&nbsp;&nbsp;&nbsp;&nbsp;&nbsp;&nbsp;&nbsp;&nbsp;&nbsp;&nbsp;&nbsp;10&nbsp;&nbsp;&nbsp;&nbsp;&nbsp;&nbsp;&nbsp;&nbsp;&nbsp;&nbsp;&nbsp;&nbsp;&nbsp;&nbsp;&nbsp;&nbsp;&nbsp;&nbsp; &nbsp;&nbsp;&nbsp;&nbsp;&nbsp;&nbsp;&nbsp;&nbsp;&nbsp;&nbsp;&nbsp;&nbsp;&nbsp;&nbsp;&nbsp;&nbsp;&nbsp;&nbsp;&nbsp;&nbsp;&nbsp;&nbsp;&nbsp;&nbsp;&nbsp;5%&nbsp;&nbsp;&nbsp;&nbsp;&nbsp;&nbsp;&nbsp;&nbsp;&nbsp;&nbsp;&nbsp;&nbsp;&nbsp;&nbsp;&nbsp;&nbsp;&nbsp;&nbsp;&nbsp;&nbsp;&nbsp;&nbsp;&nbsp;&nbsp;&nbsp;&nbsp;12 <br>\n",
    "&nbsp;&nbsp;&nbsp;&nbsp;&nbsp;&nbsp;&nbsp;&nbsp;20%&nbsp;&nbsp;&nbsp;&nbsp;&nbsp;&nbsp;&nbsp;&nbsp;&nbsp;&nbsp;&nbsp;&nbsp;&nbsp;&nbsp;&nbsp;&nbsp;&nbsp;&nbsp;&nbsp;&nbsp;&nbsp;&nbsp;&nbsp;&nbsp;&nbsp;12&nbsp;&nbsp;&nbsp;&nbsp;&nbsp;&nbsp;&nbsp;&nbsp;&nbsp;&nbsp;&nbsp;&nbsp;&nbsp;&nbsp;&nbsp;&nbsp;&nbsp;&nbsp; &nbsp;&nbsp;&nbsp;&nbsp;&nbsp;&nbsp;&nbsp;&nbsp;&nbsp;&nbsp;&nbsp;&nbsp;&nbsp;&nbsp;&nbsp;&nbsp;&nbsp;&nbsp;&nbsp;&nbsp;&nbsp;&nbsp;&nbsp;&nbsp;&nbsp;35%&nbsp;&nbsp;&nbsp;&nbsp;&nbsp;&nbsp;&nbsp;&nbsp;&nbsp;&nbsp;&nbsp;&nbsp;&nbsp;&nbsp;&nbsp;&nbsp;&nbsp;&nbsp;&nbsp;&nbsp;&nbsp;&nbsp;&nbsp;&nbsp;15 <br>\n",
    "&nbsp;&nbsp;&nbsp;&nbsp;&nbsp;&nbsp;&nbsp;&nbsp;40%&nbsp;&nbsp;&nbsp;&nbsp;&nbsp;&nbsp;&nbsp;&nbsp;&nbsp;&nbsp;&nbsp;&nbsp;&nbsp;&nbsp;&nbsp;&nbsp;&nbsp;&nbsp;&nbsp;&nbsp;&nbsp;&nbsp;&nbsp;&nbsp;&nbsp;15&nbsp;&nbsp;&nbsp;&nbsp;&nbsp;&nbsp;&nbsp;&nbsp;&nbsp;&nbsp;&nbsp;&nbsp;&nbsp;&nbsp;&nbsp;&nbsp;&nbsp;&nbsp; &nbsp;&nbsp;&nbsp;&nbsp;&nbsp;&nbsp;&nbsp;&nbsp;&nbsp;&nbsp;&nbsp;&nbsp;&nbsp;&nbsp;&nbsp;&nbsp;&nbsp;&nbsp;&nbsp;&nbsp;&nbsp;&nbsp;&nbsp;&nbsp;&nbsp;35%&nbsp;&nbsp;&nbsp;&nbsp;&nbsp;&nbsp;&nbsp;&nbsp;&nbsp;&nbsp;&nbsp;&nbsp;&nbsp;&nbsp;&nbsp;&nbsp;&nbsp;&nbsp;&nbsp;&nbsp;&nbsp;&nbsp;&nbsp;&nbsp;18 <br>\n",
    "&nbsp;&nbsp;&nbsp;&nbsp;&nbsp;&nbsp;&nbsp;&nbsp;20%&nbsp;&nbsp;&nbsp;&nbsp;&nbsp;&nbsp;&nbsp;&nbsp;&nbsp;&nbsp;&nbsp;&nbsp;&nbsp;&nbsp;&nbsp;&nbsp;&nbsp;&nbsp;&nbsp;&nbsp;&nbsp;&nbsp;&nbsp;&nbsp;&nbsp;22&nbsp;&nbsp;&nbsp;&nbsp;&nbsp;&nbsp;&nbsp;&nbsp;&nbsp;&nbsp;&nbsp;&nbsp;&nbsp;&nbsp;&nbsp;&nbsp;&nbsp;&nbsp; &nbsp;&nbsp;&nbsp;&nbsp;&nbsp;&nbsp;&nbsp;&nbsp;&nbsp;&nbsp;&nbsp;&nbsp;&nbsp;&nbsp;&nbsp;&nbsp;&nbsp;&nbsp;&nbsp;&nbsp;&nbsp;&nbsp;&nbsp;&nbsp;&nbsp;15%&nbsp;&nbsp;&nbsp;&nbsp;&nbsp;&nbsp;&nbsp;&nbsp;&nbsp;&nbsp;&nbsp;&nbsp;&nbsp;&nbsp;&nbsp;&nbsp;&nbsp;&nbsp;&nbsp;&nbsp;&nbsp;&nbsp;&nbsp;&nbsp;20 <br>\n",
    "&nbsp;&nbsp;&nbsp;&nbsp;&nbsp;&nbsp;&nbsp;&nbsp;10%&nbsp;&nbsp;&nbsp;&nbsp;&nbsp;&nbsp;&nbsp;&nbsp;&nbsp;&nbsp;&nbsp;&nbsp;&nbsp;&nbsp;&nbsp;&nbsp;&nbsp;&nbsp;&nbsp;&nbsp;&nbsp;&nbsp;&nbsp;&nbsp;&nbsp;24&nbsp;&nbsp;&nbsp;&nbsp;&nbsp;&nbsp;&nbsp;&nbsp;&nbsp;&nbsp;&nbsp;&nbsp;&nbsp;&nbsp;&nbsp;&nbsp;&nbsp;&nbsp; &nbsp;&nbsp;&nbsp;&nbsp;&nbsp;&nbsp;&nbsp;&nbsp;&nbsp;&nbsp;&nbsp;&nbsp;&nbsp;&nbsp;&nbsp;&nbsp;&nbsp;&nbsp;&nbsp;&nbsp;&nbsp;&nbsp;&nbsp;&nbsp;&nbsp;10%&nbsp;&nbsp;&nbsp;&nbsp;&nbsp;&nbsp;&nbsp;&nbsp;&nbsp;&nbsp;&nbsp;&nbsp;&nbsp;&nbsp;&nbsp;&nbsp;&nbsp;&nbsp;&nbsp;&nbsp;&nbsp;&nbsp;&nbsp;&nbsp;25 <br>    \n",
    "Crie 2 listas (projA e projB) de tuplas (prob, retorno) para cada um dos projetos.      "
   ]
  },
  {
   "cell_type": "code",
   "execution_count": 29,
   "metadata": {},
   "outputs": [],
   "source": [
    "projA =[(0.1,10), (0.2,12),(0.4,15),(0.2,22),(0.1,24)]\n",
    "projB =[(0.05,12), (0.35,15),(0.35,18),(0.15,20),(0.1,25)]"
   ]
  },
  {
   "cell_type": "markdown",
   "metadata": {},
   "source": [
    "Risco - Risco é a chance de obter perdas financeiras. É o grau de incerteza associado a uma Investimento \n",
    "\n",
    "Retorno Esperado - representa a média dos retornos em cada cenário. Quando não conhecemos a probabilidade de ocorrência de cada resultado, calculamos a média aritmética. Quando as probabilidades são conhecidas e diferentes, calculamos o retorno médio em cada cenário (K) ponderado pela probabilidade de ocorrência (P). \n",
    "<b>retorno esperado=∑ Prob (%P) × taxa retorno</b>\n",
    "\n",
    "Medidas de Risco(desvio-padrão) como uma medida de risco financeiro representa o quanto, de forma geral, os retornos de um ativo variam em relação a sua média. O desvio-padrão é raiz quadrada da variancia.\n",
    "\n",
    "Variancia:<b> Variancia= ∑(tx de retorno-retorno esperado)^2/(n-1)</b>\n",
    "\n",
    "Coeficiente de Variação (CV) – é uma medida de dispersão relativa que serve para comparar riscos de ativos.É uma maneira de mensurar o risco de forma relativa em relação ao retorno, o que permite comparar o risco de diferentes ativos. É calculado dividindo-se o desvio padrão pelo retorno esperado.\n",
    "\n",
    "Considerandos as listas de tuplas (projetoA e projetoB) calcule:\n"
   ]
  },
  {
   "cell_type": "markdown",
   "metadata": {},
   "source": [
    "⚫9- Os retornos esperados de cada um dos projetos "
   ]
  },
  {
   "cell_type": "code",
   "execution_count": 30,
   "metadata": {},
   "outputs": [
    {
     "name": "stdout",
     "output_type": "stream",
     "text": [
      "16.200000000000003\n",
      "17.65\n"
     ]
    }
   ],
   "source": [
    "reta = 0\n",
    "for prob, ret in projA:\n",
    "  reta += prob*ret\n",
    "retb = 0\n",
    "for prob, ret in projB:\n",
    "  retb += prob*ret\n",
    "print(reta)\n",
    "print(retb)"
   ]
  },
  {
   "cell_type": "markdown",
   "metadata": {},
   "source": [
    "⚫10- As Variâncias e Desvios-padrão de cada projeto"
   ]
  },
  {
   "cell_type": "code",
   "execution_count": 34,
   "metadata": {},
   "outputs": [
    {
     "name": "stdout",
     "output_type": "stream",
     "text": [
      "20.76 --DP--> 4.5563142999578075\n",
      "10.3275 --DP--> 3.213642792844283\n"
     ]
    }
   ],
   "source": [
    "varia = 0\n",
    "for prob, ret in projA:\n",
    "  varia += (ret - reta)**2 * prob\n",
    "dpa = varia**(1/2)\n",
    "print(varia, '--DP-->', dpa)\n",
    "varib = 0\n",
    "for prob, ret in projB:\n",
    "  varib += (ret - retb)**2 * prob\n",
    "dpb = varib**(1/2)\n",
    "print(varib, '--DP-->', dpb)"
   ]
  },
  {
   "cell_type": "markdown",
   "metadata": {},
   "source": [
    "⚫11- Os coeficientes de variação de cada projeto e indique qual projeto você investiria (menor Coeficiente de Variação)"
   ]
  },
  {
   "cell_type": "code",
   "execution_count": 37,
   "metadata": {},
   "outputs": [
    {
     "name": "stdout",
     "output_type": "stream",
     "text": [
      "0.28\n",
      "0.18\n",
      "ENTRE RISCO E RETORNO, O PROJETO “B” É O MELHOR INVESTIMENTO, PORQUE TEM RISCO MENOR POR UNIDADE DE RETORNO, PORTANTO, CONSIDERAMOS O MAIS VIÁVEL PARA SER IMPLEMENTADO\n"
     ]
    }
   ],
   "source": [
    "cva = dpa/reta\n",
    "print('{0:.2f}'.format(cva))\n",
    "cvb = dpb/retb\n",
    "print('{0:.2f}'.format(cvb))\n",
    "\n",
    "if cva > cvb:\n",
    "    print('ENTRE RISCO E RETORNO, O PROJETO “B” É O MELHOR INVESTIMENTO, PORQUE TEM RISCO MENOR POR UNIDADE DE RETORNO, PORTANTO, CONSIDERAMOS O MAIS VIÁVEL PARA SER IMPLEMENTADO')\n",
    "else:\n",
    "    print('ENTRE RISCO E RETORNO, O PROJETO “A” É O MELHOR INVESTIMENTO, PORQUE TEM RISCO MENOR POR UNIDADE DE RETORNO, PORTANTO, CONSIDERAMOS O MAIS VIÁVEL PARA SER IMPLEMENTADO')\n"
   ]
  },
  {
   "cell_type": "markdown",
   "metadata": {},
   "source": [
    "O VPL de um fluxo de caixa pode ser calculado pela seguinte expressão:\n",
    "       VPL=∑(Fluxo de Caixa)/(1+taxa)^prazo  (prazo varia de 0, 1, 2, ..., n)\n",
    "       \n",
    "       VPL=∑(Fluxo de Caixa)/(1+taxa)^prazo \n",
    "⚫12- Dado a lista de tuplas correpondento aos Fluxos de caixa de 3 projetos A, B e C, durante 5 anos, a uma taxa de desconto de      12% ao ano. Calcule o VPL de cada projeto, indicando qual deles é o mais viável. sabe-se que VPL polsitivo é viável e o        projeto pode ser aceito, VPL igual a zero é indiferente aceitar ou rejeitar e VPL abaixo de zero não é viável.\n",
    "     As informações dos projetos encontram-se em uma lista de tuplas formado por: (ano, retorno projeto A, retorno projeto B,        retorno projeto C), calcule e exiba o VPL de cada um deles e informe qual o projeto MAIS viável.\n",
    "\n",
    "projetos=[(2000,-40000,-50000,-30000), (2001,10000,12000,8000), (2002,10000,12000,8000), (2003,13000,16000,10000), (2004,13000,16000,10000), (2005,13000,16000,10000)]"
   ]
  },
  {
   "cell_type": "code",
   "execution_count": 40,
   "metadata": {},
   "outputs": [
    {
     "name": "stdout",
     "output_type": "stream",
     "text": [
      "\n",
      "VPL A = 1791.94\n",
      "VPL B = 916.22\n",
      "VPL C = 2667.66\n",
      "Projeto C é o mais viável\n"
     ]
    }
   ],
   "source": [
    "projetos=[(2000,-40000,-50000,-30000), (2001,10000,12000,8000), (2002,10000,12000,8000), (2003,13000,16000,10000), (2004,13000,16000,10000), (2005,13000,16000,10000)]\n",
    "vpla=0\n",
    "vplb=0\n",
    "vplc=0\n",
    "for ano, flxa, flxb, flxc in projetos:\n",
    "    vpla += flxa/(1+0.12)**(ano - 2000)\n",
    "    vplb += flxb/(1+0.12)**(ano - 2000)\n",
    "    vplc += flxc/(1+0.12)**(ano - 2000)\n",
    "maior = max(vpla,vplb,vplc)\n",
    "print('\\nVPL A = {0:.2f}\\nVPL B = {1:.2f}\\nVPL C = {2:.2f}'.format(vpla,vplb,vplc))\n",
    "\n",
    "if vpla > 0 and maior == vpla:\n",
    "    print('Projeto A é o mais viável')\n",
    "elif vplb > 0 and maior == vplb:    \n",
    "    print('Projeto B é o mais viável')\n",
    "elif vplc > 0 and maior == vplc:\n",
    "    print('Projeto C é o mais viável')\n",
    "else:\n",
    "    print('Nenhum projeto é viável')\n",
    "    "
   ]
  },
  {
   "cell_type": "markdown",
   "metadata": {},
   "source": [
    "## Dicionários"
   ]
  },
  {
   "cell_type": "markdown",
   "metadata": {},
   "source": [
    "Dicionários são uma maneira de armazenar informações que estão conectadas de alguma forma. Dicionários armazenam informações em pares de valor-chave, de modo que qualquer informação em um dicionário esteja conectada a pelo menos uma outra informação.\n",
    "Os dicionários não armazenam suas informações em nenhuma ordem específica, então você pode não obter suas informações de volta na mesma ordem que você inseriu.\n",
    "\n",
    "Sintaxe Geral\n",
    "Um dicionário geral em Python se parece com isso:\n",
    "\n",
    "<b>nome_dicionario = {chave_1: valor_1, chave_2: valor_2, chave_3: valor_3}</b>"
   ]
  },
  {
   "cell_type": "code",
   "execution_count": null,
   "metadata": {},
   "outputs": [],
   "source": [
    "⚫1- Crie inicialmente um dicionário vazio (função dic()) e a seguir preencha com as informações da tabela abaixo:\n",
    "  <b>Tipo     Preco</b> \n",
    "   Accord    204900\n",
    "   Civic      99200\n",
    "   Civic Si  164900\n",
    "   City       86900\n",
    "   CR-V      194900\n",
    "   Fit        86500\n",
    "   HR-V      113400\n",
    "   WR-V       89100\n",
    "Ao final, mostre o diconário criado."
   ]
  },
  {
   "cell_type": "code",
   "execution_count": 49,
   "metadata": {},
   "outputs": [
    {
     "data": {
      "text/plain": [
       "{'Accord': 204900,\n",
       " 'Civic': 99200,\n",
       " 'Civic Si': 164900,\n",
       " 'City': 86900,\n",
       " 'CR-V': 194900,\n",
       " 'Fit': 86500,\n",
       " 'HR-V': 113400,\n",
       " 'WR-V': 89100}"
      ]
     },
     "execution_count": 49,
     "metadata": {},
     "output_type": "execute_result"
    }
   ],
   "source": [
    "honda = dict()\n",
    "honda['Accord']=204900\n",
    "honda['Civic'] = 99200\n",
    "honda['Civic Si']=164900\n",
    "honda['City'] = 86900\n",
    "honda['CR-V'] = 194900\n",
    "honda['Fit'] = 86500\n",
    "honda['HR-V'] =113400\n",
    "honda['WR-V'] = 89100\n",
    "honda"
   ]
  },
  {
   "cell_type": "markdown",
   "metadata": {},
   "source": [
    "⚫2- Exiba o preco do CR-V:"
   ]
  },
  {
   "cell_type": "code",
   "execution_count": 44,
   "metadata": {},
   "outputs": [
    {
     "name": "stdout",
     "output_type": "stream",
     "text": [
      "194900\n"
     ]
    }
   ],
   "source": [
    "print(honda['CR-V'])"
   ]
  },
  {
   "cell_type": "markdown",
   "metadata": {},
   "source": [
    "⚫3- Percorra o dicionário com a estrutura <b>for</b> e exiba o mmodelo do carro e o seu preço, conforme o exemplo abaixo:\n",
    "       Accord: R$ 204900"
   ]
  },
  {
   "cell_type": "code",
   "execution_count": 47,
   "metadata": {
    "scrolled": false
   },
   "outputs": [
    {
     "name": "stdout",
     "output_type": "stream",
     "text": [
      "\n",
      "Accord  : R$ 204900.00\n",
      "\n",
      "Civic   : R$ 99200.00\n",
      "\n",
      "Civic Si: R$ 164900.00\n",
      "\n",
      "City    : R$ 86900.00\n",
      "\n",
      "CR-V    : R$ 194900.00\n",
      "\n",
      "Fit     : R$ 86500.00\n",
      "\n",
      "HR-V    : R$ 113400.00\n",
      "\n",
      "WR-V    : R$ 89100.00\n"
     ]
    }
   ],
   "source": [
    "for tipo, preco in honda.items():\n",
    "    print(\"\\n{0:<8}: R$ {1:.2f}\".format(tipo,preco))\n",
    "    "
   ]
  },
  {
   "cell_type": "markdown",
   "metadata": {},
   "source": [
    "⚫4 - Em função da queda das vendas, resolveu-se abaixar 5% os preços dos veículos.Percorra o dicionário com a estrutura <b>for</b> e altere os valores do dicionário. Ao final exiba o dicionário."
   ]
  },
  {
   "cell_type": "code",
   "execution_count": 50,
   "metadata": {},
   "outputs": [
    {
     "data": {
      "text/plain": [
       "{'Accord': 194655.0,\n",
       " 'Civic': 94240.0,\n",
       " 'Civic Si': 156655.0,\n",
       " 'City': 82555.0,\n",
       " 'CR-V': 185155.0,\n",
       " 'Fit': 82175.0,\n",
       " 'HR-V': 107730.0,\n",
       " 'WR-V': 84645.0}"
      ]
     },
     "execution_count": 50,
     "metadata": {},
     "output_type": "execute_result"
    }
   ],
   "source": [
    "for tipo, preco in honda.items():\n",
    "   honda[tipo] = preco*0.95\n",
    "honda"
   ]
  },
  {
   "cell_type": "code",
   "execution_count": null,
   "metadata": {},
   "outputs": [],
   "source": [
    "⚫5 - Exiba todas as chaves (apenas) do dicionário."
   ]
  },
  {
   "cell_type": "code",
   "execution_count": 52,
   "metadata": {},
   "outputs": [
    {
     "name": "stdout",
     "output_type": "stream",
     "text": [
      "Chave: Accord\n",
      "Chave: Civic\n",
      "Chave: Civic Si\n",
      "Chave: City\n",
      "Chave: CR-V\n",
      "Chave: Fit\n",
      "Chave: HR-V\n",
      "Chave: WR-V\n"
     ]
    }
   ],
   "source": [
    "for key in honda.keys():\n",
    "    print('Chave: %s' % key)"
   ]
  },
  {
   "cell_type": "markdown",
   "metadata": {},
   "source": [
    "⚫6- Apague a entrada do Tipo 'Civic Si' (use comando del)"
   ]
  },
  {
   "cell_type": "code",
   "execution_count": 53,
   "metadata": {},
   "outputs": [
    {
     "data": {
      "text/plain": [
       "{'Accord': 194655.0,\n",
       " 'Civic': 94240.0,\n",
       " 'City': 82555.0,\n",
       " 'CR-V': 185155.0,\n",
       " 'Fit': 82175.0,\n",
       " 'HR-V': 107730.0,\n",
       " 'WR-V': 84645.0}"
      ]
     },
     "execution_count": 53,
     "metadata": {},
     "output_type": "execute_result"
    }
   ],
   "source": [
    "del honda['Civic Si']\n",
    "honda"
   ]
  },
  {
   "cell_type": "markdown",
   "metadata": {},
   "source": [
    "⚫7-Dadas as listas abaixo, crie um dicionario sigla:estado, utilizando os comandos dict e zip. Mostre o dicionario.\n",
    "siglas=[\"AC\",\"AL\",\"AP\",\"AM\",\"BA\",\"CE\",\"DF\",\"ES\",\"GO\",\"MA\",\"MT\",\"MS\",\"MG\",\"PA\",\"PB\",\"PR\",\"PE\",\"PI\",\"RJ\",\"RN\",\"RS\",\"RO\",\"RR\",\"SC\",\"SP\",\"SE\",\"TO\"]\n",
    "nome_estados=[\"Acre\",\"Alagoas\",\"Amapá\",\"Amazonas\",\"Bahia\",\"Ceará\",\"Distrito Federal\",\"Espírito Santo\",\"Goiás\",\"Maranhão\",\"Mato Grosso\",\"Mato Grosso do Sul\",\"Minas Gerais\",\"Pará\",\"Paraíba\",\"Paraná\",\"Pernambuco\",\"Piauí\",\"Rio de Janeiro\",\"Rio Grande do Norte\",\"Rio Grande do Sul\",\"Rondônia\",\"Roraima\",\"Santa Catarina\",\"São Paulo\",\"Sergipe\",\"Tocantins\"]"
   ]
  },
  {
   "cell_type": "code",
   "execution_count": 55,
   "metadata": {},
   "outputs": [
    {
     "data": {
      "text/plain": [
       "{'AC': 'Acre',\n",
       " 'AL': 'Alagoas',\n",
       " 'AP': 'Amapá',\n",
       " 'AM': 'Amazonas',\n",
       " 'BA': 'Bahia',\n",
       " 'CE': 'Ceará',\n",
       " 'DF': 'Distrito Federal',\n",
       " 'ES': 'Espírito Santo',\n",
       " 'GO': 'Goiás',\n",
       " 'MA': 'Maranhão',\n",
       " 'MT': 'Mato Grosso',\n",
       " 'MS': 'Mato Grosso do Sul',\n",
       " 'MG': 'Minas Gerais',\n",
       " 'PA': 'Pará',\n",
       " 'PB': 'Paraíba',\n",
       " 'PR': 'Paraná',\n",
       " 'PE': 'Pernambuco',\n",
       " 'PI': 'Piauí',\n",
       " 'RJ': 'Rio de Janeiro',\n",
       " 'RN': 'Rio Grande do Norte',\n",
       " 'RS': 'Rio Grande do Sul',\n",
       " 'RO': 'Rondônia',\n",
       " 'RR': 'Roraima',\n",
       " 'SC': 'Santa Catarina',\n",
       " 'SP': 'São Paulo',\n",
       " 'SE': 'Sergipe',\n",
       " 'TO': 'Tocantins'}"
      ]
     },
     "execution_count": 55,
     "metadata": {},
     "output_type": "execute_result"
    }
   ],
   "source": [
    "siglas=[\"AC\",\"AL\",\"AP\",\"AM\",\"BA\",\"CE\",\"DF\",\"ES\",\"GO\",\"MA\",\"MT\",\"MS\",\"MG\",\"PA\",\"PB\",\"PR\",\"PE\",\"PI\",\"RJ\",\"RN\",\"RS\",\"RO\",\"RR\",\"SC\",\"SP\",\"SE\",\"TO\"]\n",
    "nomes_estados=[\"Acre\",\"Alagoas\",\"Amapá\",\"Amazonas\",\"Bahia\",\"Ceará\",\"Distrito Federal\",\"Espírito Santo\",\"Goiás\",\"Maranhão\",\"Mato Grosso\",\"Mato Grosso do Sul\",\"Minas Gerais\",\"Pará\",\"Paraíba\",\"Paraná\",\"Pernambuco\",\"Piauí\",\"Rio de Janeiro\",\"Rio Grande do Norte\",\"Rio Grande do Sul\",\"Rondônia\",\"Roraima\",\"Santa Catarina\",\"São Paulo\",\"Sergipe\",\"Tocantins\"]\n",
    "estados = dict(zip(siglas,nomes_estados))\n",
    "estados"
   ]
  },
  {
   "cell_type": "markdown",
   "metadata": {},
   "source": [
    "⚫8-refaça o dicionário de estados, onde o valor referente a uma chave(sigla) é uma tupla contendo o nome do estado e a sua capital, utilizando os comandos dict e zip. Mostre o dicionario.\n",
    "\n",
    "capitais=['Rio Branco', 'Maceió', 'Macapá', 'Manaus', 'Salvador', 'Fortaleza', 'Brasília', 'Vitória', 'Goiânia', 'São Luís', 'Cuiabá', 'Campo Grande', 'Belo Horizonte', 'Belém', 'João Pessoa', 'Curitiba', 'Recife', 'Teresina', 'Rio de Janeiro', 'Natal', 'Porto Alegre', 'Porto Velho', 'Boa Vista', 'Florianópolis', 'São Paulo', 'Aracaju', 'Palmas']"
   ]
  },
  {
   "cell_type": "code",
   "execution_count": 61,
   "metadata": {
    "scrolled": true
   },
   "outputs": [
    {
     "name": "stdout",
     "output_type": "stream",
     "text": [
      "[('Acre', 'Rio Branco'), ('Alagoas', 'Maceió'), ('Amapá', 'Macapá'), ('Amazonas', 'Manaus'), ('Bahia', 'Salvador'), ('Ceará', 'Fortaleza'), ('Distrito Federal', 'Brasília'), ('Espírito Santo', 'Vitória'), ('Goiás', 'Goiânia'), ('Maranhão', 'São Luís'), ('Mato Grosso', 'Cuiabá'), ('Mato Grosso do Sul', 'Campo Grande'), ('Minas Gerais', 'Belo Horizonte'), ('Pará', 'Belém'), ('Paraíba', 'João Pessoa'), ('Paraná', 'Curitiba'), ('Pernambuco', 'Recife'), ('Piauí', 'Teresina'), ('Rio de Janeiro', 'Rio de Janeiro'), ('Rio Grande do Norte', 'Natal'), ('Rio Grande do Sul', 'Porto Alegre'), ('Rondônia', 'Porto Velho'), ('Roraima', 'Boa Vista'), ('Santa Catarina', 'Florianópolis'), ('São Paulo', 'São Paulo'), ('Sergipe', 'Aracaju'), ('Tocantins', 'Palmas')]\n",
      "{'AC': ('Acre', 'Rio Branco'), 'AL': ('Alagoas', 'Maceió'), 'AP': ('Amapá', 'Macapá'), 'AM': ('Amazonas', 'Manaus'), 'BA': ('Bahia', 'Salvador'), 'CE': ('Ceará', 'Fortaleza'), 'DF': ('Distrito Federal', 'Brasília'), 'ES': ('Espírito Santo', 'Vitória'), 'GO': ('Goiás', 'Goiânia'), 'MA': ('Maranhão', 'São Luís'), 'MT': ('Mato Grosso', 'Cuiabá'), 'MS': ('Mato Grosso do Sul', 'Campo Grande'), 'MG': ('Minas Gerais', 'Belo Horizonte'), 'PA': ('Pará', 'Belém'), 'PB': ('Paraíba', 'João Pessoa'), 'PR': ('Paraná', 'Curitiba'), 'PE': ('Pernambuco', 'Recife'), 'PI': ('Piauí', 'Teresina'), 'RJ': ('Rio de Janeiro', 'Rio de Janeiro'), 'RN': ('Rio Grande do Norte', 'Natal'), 'RS': ('Rio Grande do Sul', 'Porto Alegre'), 'RO': ('Rondônia', 'Porto Velho'), 'RR': ('Roraima', 'Boa Vista'), 'SC': ('Santa Catarina', 'Florianópolis'), 'SP': ('São Paulo', 'São Paulo'), 'SE': ('Sergipe', 'Aracaju'), 'TO': ('Tocantins', 'Palmas')}\n"
     ]
    }
   ],
   "source": [
    "capitais=['Rio Branco', 'Maceió', 'Macapá', 'Manaus', 'Salvador', 'Fortaleza', 'Brasília', 'Vitória', 'Goiânia', 'São Luís', 'Cuiabá', 'Campo Grande', 'Belo Horizonte', 'Belém', 'João Pessoa', 'Curitiba', 'Recife', 'Teresina', 'Rio de Janeiro', 'Natal', 'Porto Alegre', 'Porto Velho', 'Boa Vista', 'Florianópolis', 'São Paulo', 'Aracaju', 'Palmas']\n",
    "\n",
    "estcap = list(zip(nomes_estados, capitais))\n",
    "print(estcap)\n",
    "estados = dict(zip(siglas,estcap))\n",
    "print(estados)"
   ]
  },
  {
   "cell_type": "markdown",
   "metadata": {},
   "source": [
    "⚫9- Desenvolva um código que solicite (input) ao usuário a sigla de uma estado, exiba o nome do estado e a sua capital."
   ]
  },
  {
   "cell_type": "code",
   "execution_count": 64,
   "metadata": {},
   "outputs": [
    {
     "name": "stdout",
     "output_type": "stream",
     "text": [
      "Digite a sigla de uma estado Brasileiro:rj\n",
      "Rio de Janeiro :  Rio de Janeiro\n"
     ]
    }
   ],
   "source": [
    "sigla = input('Digite a sigla de uma estado Brasileiro:')\n",
    "nome,capital = estados[sigla.upper()]\n",
    "print(nome,': ', capital)"
   ]
  },
  {
   "cell_type": "markdown",
   "metadata": {},
   "source": [
    "⚫10 - Faça uma função receba o código da ação e retorne a tupla correspondente ao código solicitado.Utilize o dicionário abaixo:\n",
    "\n",
    "acoes = {\"PETR4\":(\"PETROBRAS SA\",16.13,0.0261),\"BBDC4\":(\"BRADESCO SA\",20.36,0.0129),\"BOVA11\":(\"ISHS IBOVESPA\",76.00,0.0143),\"VALE3\":(\"VALE\",44.00,0.029),\"BRKM5\":(\"BRASKEM\",21.00,-0.0278),\"ITASA3\":(\"ITAÚ\",10.66,-0.0193)}\n"
   ]
  },
  {
   "cell_type": "code",
   "execution_count": 7,
   "metadata": {},
   "outputs": [],
   "source": [
    "def ibovespa (codigo):\n",
    "   acoes = {\"PETR4\":(\"PETROBRAS SA\",16.13,0.0261),\"BBDC4\":(\"BRADESCO SA\",20.36,0.0129),\"BOVA11\":(\"ISHS IBOVESPA\",76.00,0.0143),\"VALE3\":(\"VALE\",44.00,0.029),\"BRKM5\":(\"BRASKEM\",21.00,-0.0278),\"ITASA3\":(\"ITAÚ\",10.66,-0.0193)}\n",
    "   return acoes[codigo]"
   ]
  },
  {
   "cell_type": "markdown",
   "metadata": {},
   "source": [
    "⚫11 -Desenvolva um código que solicite (input) ao usuário a sigla da ação, exiba as informações de fechamento. Use a função desenvolvida anteriormente."
   ]
  },
  {
   "cell_type": "code",
   "execution_count": 10,
   "metadata": {},
   "outputs": [
    {
     "name": "stdout",
     "output_type": "stream",
     "text": [
      "Digite o codigo da ação:bbdc4\n",
      "Empresa:  BRADESCO SA      Ação: bbdc4\n",
      "Fechamento:  20.36      Variação: 1.29 %\n"
     ]
    }
   ],
   "source": [
    "dados = ()\n",
    "codigo = input('Digite o codigo da ação:')\n",
    "dados = ibovespa(codigo.upper())\n",
    "print('Empresa: ', dados[0], '     Ação:', codigo.upper())\n",
    "print('Fechamento: ', dados[1], '     Variação:', dados[2]*100,'%')"
   ]
  },
  {
   "cell_type": "code",
   "execution_count": null,
   "metadata": {},
   "outputs": [],
   "source": []
  }
 ],
 "metadata": {
  "kernelspec": {
   "display_name": "Python 3",
   "language": "python",
   "name": "python3"
  },
  "language_info": {
   "codemirror_mode": {
    "name": "ipython",
    "version": 3
   },
   "file_extension": ".py",
   "mimetype": "text/x-python",
   "name": "python",
   "nbconvert_exporter": "python",
   "pygments_lexer": "ipython3",
   "version": "3.7.6"
  }
 },
 "nbformat": 4,
 "nbformat_minor": 4
}
