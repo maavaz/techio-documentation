{
 "cells": [
  {
   "cell_type": "markdown",
   "metadata": {},
   "source": [
    "# &nbsp;&nbsp;&nbsp;&nbsp; EXERCÍCIOS PANDAS"
   ]
  },
  {
   "cell_type": "markdown",
   "metadata": {},
   "source": [
    "A biblioteca do Pandas, construída sobre o NumPy, fornece estruturas de dados de alto nível (tabulares, multidimensionais, potencialmente heterogêneas) e ferramentas que foram projetadas para ajudar os programadores Python a implementar análises robustas de dados. O maior propósito do Pandas é ajudar a identificar informações em dados. A biblioteca Pandas tornou-se uma das ferramentas mais favorecidas para os cientistas de dados ilustrarem dados para manipulação e análise. Pandas é geralmente usado em unidade com ferramentas numéricas de computação como NumPy e SciPy, bibliotecas analíticas como modelos de estatísticas e scikit-learn, e bibliotecas de visualização de dados como matplotlib.\n",
    "\n",
    "As duas estruturas primárias de dados do pandas, ``Series (1-dimensional)`` e ``DataFrame (bidimensional)``, lidam com a grande maioria dos casos típicos de uso em finanças, estatísticas, ciências sociais e muitas áreas da engenharia. \n",
    "DataFrames e Séries são bastante semelhantes de modo que muitas operações que você pode fazer com uma, você pode fazer com a outra, como preencher valores nulos e calcular a média.\n",
    "Você verá como esses componentes funcionam quando começarmos a trabalhar com o mateiral a seguir: "
   ]
  },
  {
   "cell_type": "markdown",
   "metadata": {},
   "source": [
    "Atenção: Se você necessitar fazer consultas sobre comandos, métodos e funções da Biblioteca Pandas, está disponível abaixo o link para a documentação do Pandas. Para acesso, execute o código abaixo:"
   ]
  },
  {
   "cell_type": "code",
   "execution_count": null,
   "metadata": {},
   "outputs": [],
   "source": [
    "from IPython.core.display import HTML\n",
    "HTML(\"<iframe src=https://pandas.pydata.org/docs/user_guide/index.html width=900 height=500></iframe>\")"
   ]
  },
  {
   "cell_type": "markdown",
   "metadata": {},
   "source": [
    "Para se trabalhar com Pandas, como qualquer outra biblioteca Python, é necessário importar o módulo. Execute os comandos abaixo."
   ]
  },
  {
   "cell_type": "code",
   "execution_count": 1,
   "metadata": {},
   "outputs": [],
   "source": [
    "import numpy as np \n",
    "\n",
    "import pandas as pd"
   ]
  },
  {
   "cell_type": "markdown",
   "metadata": {},
   "source": [
    "##  Séries\n",
    "\n",
    "Series Pandas é um array unidimensional capaz de manter dados de qualquer tipo (inteiro, string, float, objetos python, etc.), rotulados por um conjunto de valores. Series não é nada além de uma coluna em uma planilha de excel. O padrão dos índices \n",
    "Os rótulos constituem os índices da Serie que possibilitam o acesso aos elementos. Os índices podem ser criados automaticamente pelo Pandas (indexação inteira) ou pelos usuários. O Pandas Series fornece uma série de métodos para realizar operações envolvendo os índices."
   ]
  },
  {
   "cell_type": "markdown",
   "metadata": {},
   "source": [
    "#### Não especificando o rótulo (índices) da Serie - Indexação Default (inteira)"
   ]
  },
  {
   "cell_type": "code",
   "execution_count": null,
   "metadata": {},
   "outputs": [],
   "source": [
    "capitais = pd.Series(['Brasíla', 'Moscou', 'Nova Deli', 'Pequim', 'Cidade do Cabo'], name=\"Capitais\")\n",
    "\n",
    "capitais"
   ]
  },
  {
   "cell_type": "markdown",
   "metadata": {},
   "source": [
    "#### Especificando um rótulo (índice)"
   ]
  },
  {
   "cell_type": "code",
   "execution_count": 2,
   "metadata": {},
   "outputs": [],
   "source": [
    "paises = [\"Brasil\", \"Rússia\", \"Índia\", \"China\", \"África do Sul\"]\n",
    "\n",
    "brics = pd.Series(['Brasíla', 'Moscou', 'Nova Deli', 'Pequim', 'Cidade do Cabo'], index = paises, name=\"Brics\")\n",
    "\n",
    "brics"
   ]
  },
  {
   "cell_type": "markdown",
   "metadata": {},
   "source": [
    "#### Exibindo o nome da Serie"
   ]
  },
  {
   "cell_type": "code",
   "execution_count": null,
   "metadata": {},
   "outputs": [],
   "source": [
    "brics.name"
   ]
  },
  {
   "cell_type": "markdown",
   "metadata": {},
   "source": [
    "#### Exibindo os primeiros e útimos elementos da Serie"
   ]
  },
  {
   "cell_type": "code",
   "execution_count": null,
   "metadata": {},
   "outputs": [],
   "source": [
    "print(brics.head(3))  # Exibindo os 3 primeiros elementos, se não tiver parâmetro, exibe 5 por default\n",
    "\n",
    "print('\\n')\n",
    "\n",
    "print(brics.tail(2))  # Exibindo os 2 últimos elementos, se não tiver parâmetro, exibe 5 por default\n"
   ]
  },
  {
   "cell_type": "markdown",
   "metadata": {},
   "source": [
    "#### Criando uma Serie a partir de um dicionário"
   ]
  },
  {
   "cell_type": "code",
   "execution_count": null,
   "metadata": {},
   "outputs": [],
   "source": [
    "paises = {\"Brasil\":\"Brasíla\",\n",
    "         \"Russia\": \"Moscou\",\n",
    "         \"India\": \"New Delhi\",\n",
    "         \"China\": \"Pequim\",\n",
    "         \"Africa do Sul\": \"Cidade do Cabo\"}\n",
    "\n",
    "brics = pd.Series(paises, name ='Brics')\n",
    "\n",
    "brics"
   ]
  },
  {
   "cell_type": "markdown",
   "metadata": {},
   "source": [
    "#### Criando series using NumPy functions"
   ]
  },
  {
   "cell_type": "code",
   "execution_count": null,
   "metadata": {},
   "outputs": [],
   "source": [
    "ser1 = pd.Series(np.linspace(1, 10, 5)) # Criando a Serie usando a função de criação de arrays numpy - linspace\n",
    "\n",
    "print(ser1)\n",
    " "
   ]
  },
  {
   "cell_type": "markdown",
   "metadata": {},
   "source": [
    "#### Exibindo os índices e valores da Serie"
   ]
  },
  {
   "cell_type": "code",
   "execution_count": null,
   "metadata": {},
   "outputs": [],
   "source": [
    "print(brics.index) # Exibe os índices\n",
    "\n",
    "print('\\n\\n')\n",
    "\n",
    "print(brics.values) # Exibe os valores"
   ]
  },
  {
   "cell_type": "markdown",
   "metadata": {},
   "source": [
    "### Conversões entre Listas (Python)\n",
    "\n",
    "A seguir, é mostrada a figura a transformação entre as três estruturas de dados: **Series, Listas (Pyton) e Arrays(Numpy)**."
   ]
  },
  {
   "cell_type": "markdown",
   "metadata": {},
   "source": [
    "<img src=\"serie1.png\"  \n",
    "     alt=\"Markdown Monster icon\"\n",
    "     style=\"float: left; margin-right: 10px;\" />"
   ]
  },
  {
   "cell_type": "markdown",
   "metadata": {},
   "source": [
    "#### Exemplos das Transformação Lista <> Serie"
   ]
  },
  {
   "cell_type": "code",
   "execution_count": null,
   "metadata": {},
   "outputs": [],
   "source": [
    "lista = list(range(1,10))  #Criando uma lista Python\n",
    "print('Lista = ', lista, '\\n')\n",
    "\n",
    "ser = pd.Series(lista)   #Criando uma serie a partir da lista\n",
    "print(ser)\n",
    "\n",
    "lst = ser.tolist()  # Criando uma lista a partir da Serie\n",
    "print('\\nLista =', lst)"
   ]
  },
  {
   "cell_type": "markdown",
   "metadata": {},
   "source": [
    "#### Exemplos das Transformação Numpy Array <> Serie"
   ]
  },
  {
   "cell_type": "code",
   "execution_count": null,
   "metadata": {},
   "outputs": [],
   "source": [
    "array = np.array(range(1,10)) #Criando um Array NumPy\n",
    "print('array =', array, '\\n')\n",
    "\n",
    "ser = pd.Series(array)   #Criando uma serie a partir do Array\n",
    "print(ser)\n",
    " \n",
    "arr = ser.to_numpy()  # Criando o Array a partir da Serie\n",
    "print('\\narray = ', arr)"
   ]
  },
  {
   "cell_type": "markdown",
   "metadata": {},
   "source": [
    "#### Exemplos das Transformação Lista <> Array"
   ]
  },
  {
   "cell_type": "code",
   "execution_count": null,
   "metadata": {},
   "outputs": [],
   "source": [
    "lista = list(range(1,10))  #Criando uma lista Python\n",
    "print('Lista = ', lista, '\\n')\n",
    "\n",
    "array = np.array(lista) #Criando um Array NumPy a aprtir da Lista\n",
    "print('array =', array, '\\n')\n",
    "\n",
    "lst = array.tolist() # Criando uma lista a partir do Array\n",
    "\n",
    "print('\\nLista =', lst)\n"
   ]
  },
  {
   "cell_type": "markdown",
   "metadata": {},
   "source": [
    "### Acessando os elementos da Série\n",
    "\n",
    "Há duas maneiras pelas quais podemos acessar os elementos da série, eles são:\n",
    "\n",
    "- Acesso aos elementos da série usando a posição\n",
    "- Acesso aos elementos da séire usando o rótulo (índice) \n"
   ]
  },
  {
   "cell_type": "markdown",
   "metadata": {},
   "source": [
    "#### Acesso aos elementos da série usando a posição : \n",
    "\n",
    "O acesso aos elementos da série é feito pelo número do índice. Semelhantemente as listas Python, use o operador de índice [ ] para acessar um elemento em uma série. O índice deve ser um inteiro. Para acessar vários elementos de uma série, usamos a operação de fatiamento (Slice)."
   ]
  },
  {
   "cell_type": "code",
   "execution_count": null,
   "metadata": {},
   "outputs": [],
   "source": [
    "jogadores = ['Castilho', 'Carlos Alberto Torres', 'Edinho', 'Didi', 'Gérson','Branco', 'Telê Santana', \n",
    "             'Paulo César Caju', 'Fred', 'Assis', 'Rivellino']\n",
    "\n",
    "flu = pd.Series(jogadores) # Criar uma Serie com o nome dos jogadores\n",
    "\n",
    "print(flu[0])  #Exibe o nome do jogador da primeira posição da série (índice = 0) \n",
    "\n",
    "print(flu[8:])   #Exibe os nomes dos jogadores através de fatiamento.    \n"
   ]
  },
  {
   "cell_type": "markdown",
   "metadata": {},
   "source": [
    "#### Acessando o elemento usando o rótulo (índice):\n",
    "\n",
    "A definição dos índices (rótulos) é feita através do atributo *index*. Acessando um único elemento usando o rótulo de índice. Esse tipo de indexação força que o usuário explicite os valores dos rótulos, senão será usada a posição. "
   ]
  },
  {
   "cell_type": "code",
   "execution_count": null,
   "metadata": {},
   "outputs": [],
   "source": [
    "jogadores = ['Castilho', 'Carlos Alberto Torres', 'Edinho', 'Didi', 'Gérson','Branco', 'Telê Santana', \n",
    "             'Paulo César Caju', 'Fred', 'Assis', 'Rivellino']\n",
    "\n",
    "indices = [1,2,3,4,5,6,7,8,9,10,11] # Definindo os índices da Series\n",
    "\n",
    "flu = pd.Series(jogadores, index=indices) # Criar uma Serie com o nome dos jogadores\n",
    "\n",
    "print(\"Jogadores de Todos os tempos\")\n",
    "\n",
    "for i in indices:   #Percorre do índice 1 até 11 (Explicitando os rótulos)\n",
    "    print(\"\\n\", i, \":\", flu[i])  #Exibe o nome do jogador pelo índice da Série\n"
   ]
  },
  {
   "cell_type": "markdown",
   "metadata": {},
   "source": [
    "### Acesso por seleção  booleano \n",
    "Semelhantemente as listas em Python, é possível realizar seleção booleana em Pandas."
   ]
  },
  {
   "cell_type": "code",
   "execution_count": null,
   "metadata": {},
   "outputs": [],
   "source": [
    "ser = pd.Series(['a', 'b', 'c', 'd', 'e','f', 'g', 'h'])\n",
    "\n",
    "print(ser > 'b')  #Exibindo os valores True ou False nas posições dos itens que atendem ou não o critério de seleção."
   ]
  },
  {
   "cell_type": "markdown",
   "metadata": {},
   "source": [
    "<a id=\"Selecao_Booleana\"></a> \n",
    "### Seleção em matrizes booleanas\n",
    "É possível  usar a seleção booleana como máscaras, para selecionar subconjuntos específicos dos próprios dados. C"
   ]
  },
  {
   "cell_type": "code",
   "execution_count": null,
   "metadata": {},
   "outputs": [],
   "source": [
    "print(ser[ser > 'b']) #Seleção pelos valores da Série que atendem o critério de seleção\n",
    "\n",
    "print('\\n')\n",
    "\n",
    "print(ser[ser.index > 4]) # Seleção pelos índices que atendem o critério de seleção"
   ]
  },
  {
   "cell_type": "markdown",
   "metadata": {},
   "source": [
    "### Acessando os elementos usando o iloc (posição) e loc (índice):\n",
    "\n",
    "- **iloc[ ]** : Indexação puramente inteira baseada na posição inteira (de 0 a comprimento-1 do eixo), semelhante ao Python.\n",
    "\n",
    "- **loc[ ]** : Indexação baseado principalmente em rótulos.\n",
    "                                                        "
   ]
  },
  {
   "cell_type": "code",
   "execution_count": null,
   "metadata": {},
   "outputs": [],
   "source": [
    "print(brics.iloc[0]) #Acesso via posição. Acessando o elemento na 1º posição da série\n",
    "\n",
    "print('\\n')\n",
    "\n",
    "print(brics.iloc[1:3]) #Acessando a segunda e terceira posição da Serie\n",
    "\n",
    "print('\\n')\n",
    "\n",
    "print(brics.loc['Brasil']) #Acessa o elemento de rótulo Brasil\n",
    "\n",
    "print('\\n')\n",
    "\n",
    "print(brics.loc[\"Russia\":\"China\"]) #Acessa os elementos situados entre o Rótulo Russia e China\n",
    "                                   "
   ]
  },
  {
   "cell_type": "markdown",
   "metadata": {},
   "source": [
    "<a id=\"Exercicio\"></a> \n",
    "### <font color=\"red\">Exercício 1</font>"
   ]
  },
  {
   "cell_type": "markdown",
   "metadata": {},
   "source": [
    "⚫1- Criar uma serie a partir das listas abaixo(Pilotos F1 e colocações), os índices serão representados pelas colocações no Grande Prêmio Brasil de 2019. Exibir a serie formada.\n"
   ]
  },
  {
   "cell_type": "code",
   "execution_count": 26,
   "metadata": {},
   "outputs": [
    {
     "data": {
      "text/plain": [
       "1         Max Verstappen\n",
       "2       Sebastian Vettel\n",
       "3         Lewis Hamilton\n",
       "4        Charles Leclerc\n",
       "5        Valtteri Bottas\n",
       "6        Alexander Albon\n",
       "7           Pierre Gasly\n",
       "8        Romain Grosjean\n",
       "9         Kimi Räikkönen\n",
       "10       Kevin Magnussen\n",
       "11          Lando Norris\n",
       "12      Daniel Ricciardo\n",
       "13    Antonio Giovinazzi\n",
       "14       Nico Hülkenberg\n",
       "15          Sergio Pérez\n",
       "16          Daniil Kvyat\n",
       "17          Lance Stroll\n",
       "18        George Russell\n",
       "19         Robert Kubica\n",
       "Name: gpbrasil, dtype: object"
      ]
     },
     "execution_count": 26,
     "metadata": {},
     "output_type": "execute_result"
    }
   ],
   "source": [
    "pilotos = ['Max Verstappen', 'Sebastian Vettel', 'Lewis Hamilton', 'Charles Leclerc', 'Valtteri Bottas', 'Alexander Albon', \n",
    "           'Pierre Gasly', 'Romain Grosjean', 'Kimi Räikkönen', 'Kevin Magnussen', 'Lando Norris', 'Daniel Ricciardo', \n",
    "           'Antonio Giovinazzi', 'Nico Hülkenberg', 'Sergio Pérez', 'Daniil Kvyat', 'Lance Stroll', 'George Russell', \n",
    "           'Robert Kubica']\n",
    "\n",
    "colocacao = [1, 2, 3, 4, 5, 6, 7, 8, 9, 10, 11, 12, 13, 14, 15, 16, 17,18, 19] \n",
    "\n",
    "#Coloque seu código aqui!!\n",
    "\n",
    "gp = pd.Series(pilotos, index= colocacao, name = \"gpbrasil\")\n",
    "\n",
    "gp\n"
   ]
  },
  {
   "cell_type": "markdown",
   "metadata": {},
   "source": [
    "⚫2- Use a técnica de fatiamento usando loc[] e iloc[] para exibir o nome dos pilotos que formaram o pódium do Grande Prêmio Brasil."
   ]
  },
  {
   "cell_type": "code",
   "execution_count": 16,
   "metadata": {},
   "outputs": [
    {
     "name": "stdout",
     "output_type": "stream",
     "text": [
      "1      Max Verstappen\n",
      "2    Sebastian Vettel\n",
      "3      Lewis Hamilton\n",
      "dtype: object\n",
      "1      Max Verstappen\n",
      "2    Sebastian Vettel\n",
      "3      Lewis Hamilton\n",
      "dtype: object\n"
     ]
    }
   ],
   "source": [
    "#Coloque seu código aqui!!\n",
    "\n",
    "print(gp.iloc[:3])  #usando posição\n",
    "\n",
    "print(gp.loc[1:3])  # usando índices"
   ]
  },
  {
   "cell_type": "markdown",
   "metadata": {},
   "source": [
    "⚫3- Mostre o nome dos pilotos que ficaram nas 5 últimas colocações"
   ]
  },
  {
   "cell_type": "code",
   "execution_count": 29,
   "metadata": {},
   "outputs": [
    {
     "data": {
      "text/plain": [
       "15      Sergio Pérez\n",
       "16      Daniil Kvyat\n",
       "17      Lance Stroll\n",
       "18    George Russell\n",
       "19     Robert Kubica\n",
       "Name: gpbrasil, dtype: object"
      ]
     },
     "execution_count": 29,
     "metadata": {},
     "output_type": "execute_result"
    }
   ],
   "source": [
    "#Coloque seu código aqui!!\n",
    "\n",
    "#gp.tail()\n",
    "# OU\n",
    "\n",
    "gp.iloc[-5:]"
   ]
  },
  {
   "cell_type": "markdown",
   "metadata": {},
   "source": [
    "⚫4- Mostre o nome dos pilotos que ficaram nas colocações intermediárias do 4º ao 10ºcolocados"
   ]
  },
  {
   "cell_type": "code",
   "execution_count": 30,
   "metadata": {},
   "outputs": [
    {
     "data": {
      "text/plain": [
       "4     Charles Leclerc\n",
       "5     Valtteri Bottas\n",
       "6     Alexander Albon\n",
       "7        Pierre Gasly\n",
       "8     Romain Grosjean\n",
       "9      Kimi Räikkönen\n",
       "10    Kevin Magnussen\n",
       "Name: gpbrasil, dtype: object"
      ]
     },
     "execution_count": 30,
     "metadata": {},
     "output_type": "execute_result"
    }
   ],
   "source": [
    "#Coloque seu código aqui!!\n",
    "\n",
    "gp.loc[4:10]"
   ]
  },
  {
   "cell_type": "markdown",
   "metadata": {},
   "source": [
    "⚫5- transforme a Serie em Dicionário. Exiba o dicionário formado."
   ]
  },
  {
   "cell_type": "code",
   "execution_count": 31,
   "metadata": {},
   "outputs": [
    {
     "data": {
      "text/plain": [
       "{1: 'Max Verstappen',\n",
       " 2: 'Sebastian Vettel',\n",
       " 3: 'Lewis Hamilton',\n",
       " 4: 'Charles Leclerc',\n",
       " 5: 'Valtteri Bottas',\n",
       " 6: 'Alexander Albon',\n",
       " 7: 'Pierre Gasly',\n",
       " 8: 'Romain Grosjean',\n",
       " 9: 'Kimi Räikkönen',\n",
       " 10: 'Kevin Magnussen',\n",
       " 11: 'Lando Norris',\n",
       " 12: 'Daniel Ricciardo',\n",
       " 13: 'Antonio Giovinazzi',\n",
       " 14: 'Nico Hülkenberg',\n",
       " 15: 'Sergio Pérez',\n",
       " 16: 'Daniil Kvyat',\n",
       " 17: 'Lance Stroll',\n",
       " 18: 'George Russell',\n",
       " 19: 'Robert Kubica'}"
      ]
     },
     "execution_count": 31,
     "metadata": {},
     "output_type": "execute_result"
    }
   ],
   "source": [
    "#Coloque seu código aqui\n",
    "\n",
    "dic = gp.to_dict()\n",
    "dic"
   ]
  },
  {
   "cell_type": "markdown",
   "metadata": {},
   "source": [
    "## Classificação em Séries <a id=\"Sort\"></a> \n",
    "\n",
    "As funções Pandas **Series.sort_values()** e **Series.sort_index()** são usadas para classificar/Ordenar, respectivamente, os elementos e índices da série, em ordem ascendente ou descendente, por algum critério de ordenação. A função também fornece a flexibilidade de escolher o algoritmo de classificação.\n",
    "\n",
    "### Series.sort_values(ascending=True, inplace=False na_position=’last’)\n",
    "\n",
    "### Series.sort_index(ascending=True, inplace=False)\n",
    "\n",
    "**ascending** : padrão True. Classificar ascendente. False descendente<br>\n",
    "**Inplace**   : True, acontece na própria série, do contrário cria-se uma nova série.<br>\n",
    "**na_position**: {'first', 'last'} (opcional, default='last'). Coloca NaNs no final <br>\n",
    "\n",
    "*Obs: há outros atributos, mas só descrevemos os mais importantes."
   ]
  },
  {
   "cell_type": "code",
   "execution_count": 21,
   "metadata": {},
   "outputs": [
    {
     "name": "stdout",
     "output_type": "stream",
     "text": [
      "0    0.240829\n",
      "1    0.430566\n",
      "2    0.437695\n",
      "3    0.578918\n",
      "4    0.820407\n",
      "5    0.676709\n",
      "6    0.527957\n",
      "7    0.861547\n",
      "8    0.922213\n",
      "9    0.096284\n",
      "dtype: float64\n",
      "\n",
      "\n",
      "9    0.096284\n",
      "0    0.240829\n",
      "1    0.430566\n",
      "2    0.437695\n",
      "6    0.527957\n",
      "3    0.578918\n",
      "5    0.676709\n",
      "4    0.820407\n",
      "7    0.861547\n",
      "8    0.922213\n",
      "dtype: float64\n",
      "\n",
      "\n",
      "9    0.096284\n",
      "8    0.922213\n",
      "7    0.861547\n",
      "6    0.527957\n",
      "5    0.676709\n",
      "4    0.820407\n",
      "3    0.578918\n",
      "2    0.437695\n",
      "1    0.430566\n",
      "0    0.240829\n",
      "dtype: float64\n"
     ]
    }
   ],
   "source": [
    "ser = pd.Series(np.random.rand(10)) # Criar um Serie com números aleatórios\n",
    "print(ser)\n",
    "\n",
    "print('\\n')\n",
    "\n",
    "#Ordenando a Série pelos valores em ordem ascendente, na própria série\n",
    "ser.sort_values(inplace=True)\n",
    "print(ser)\n",
    "\n",
    "print('\\n')\n",
    "\n",
    "#Ordenando a Série pelos índices em ordem descendente, na própria série\n",
    "ser.sort_index(ascending=False, inplace=True)\n",
    "print(ser)"
   ]
  },
  {
   "cell_type": "markdown",
   "metadata": {},
   "source": [
    "<a id=\"Exercicio2\"></a> \n",
    "### <font color=\"red\">Exercício 2</font>"
   ]
  },
  {
   "cell_type": "markdown",
   "metadata": {},
   "source": [
    "Dado o dicionário abaixo, contendo os preços de fechamento das ações da Vale em um determinado período, converta-o em uma série e, a partir dela, crie uma lista com as variações percentuais diárias dos preços (dia_anterior/dia-atual - 1) * 100. Antes do cálculo é necessário ordenar a série, a seguir use a compreensão de lista para realizar os cálculos. Exibir a lista criada.<br><br>\n"
   ]
  },
  {
   "cell_type": "code",
   "execution_count": 22,
   "metadata": {},
   "outputs": [
    {
     "data": {
      "text/plain": [
       "[0.013791491351098584,\n",
       " 0.05629629629629629,\n",
       " -0.06097843728263397,\n",
       " -0.014846962083142956,\n",
       " 0.006205470006894975,\n",
       " 0.005314232902033256,\n",
       " -0.028943235360107678,\n",
       " 0.0008982708286549013,\n",
       " 0.031025700393609634,\n",
       " 0.010056127221702571,\n",
       " -0.028181818181818197,\n",
       " 0.03626943005181338,\n",
       " -0.01025641025641022,\n",
       " -0.014019765571133047,\n",
       " -0.005712979890310832,\n",
       " -0.017732884399551008,\n",
       " -0.0013449899125757003,\n",
       " -0.04536700192595755,\n",
       " 0.041685242978154236]"
      ]
     },
     "execution_count": 22,
     "metadata": {},
     "output_type": "execute_result"
    }
   ],
   "source": [
    "vale = {\"2020-04-30\":44.86,\"2020-04-29\":46.73,\"2020-04-28\":44.61,\"2020-04-27\":44.55,\"2020-04-24\":43.76,\"2020-04-23\":43.51,\n",
    "        \"2020-04-22\":42.90,\"2020-04-20\":42.46,\"2020-04-17\":44.00,\"2020-04-16\":42.76,\"2020-04-15\":43.19,\"2020-04-14\":44.53,\n",
    "        \"2020-04-13\":44.57,\"2020-04-09\":43.28,\"2020-04-08\":43.51,\"2020-04-07\":43.78,\"2020-04-06\":43.13,\"2020-04-03\":40.50,\n",
    "        \"2020-04-02\":42.78,\"2020-04-01\":43.37}\n",
    "#Coloque seu código aqui!!\n",
    "\n",
    "ser_vale = pd.Series(vale)\n",
    "ser_vale.sort_index(inplace=True)\n",
    "\n",
    "lis_var=[]\n",
    "lis_var.insert(0,'N/A')\n",
    "#for i in range(1,10):\n",
    "#    lis_var.insert(i, ser_vale[i-1]/ser_vale[i] - 1)\n",
    "    \n",
    "lis_var = [(ser_vale.iloc[i-1])/ser_vale.iloc[i] - 1  for i in range(1,len(ser_vale))]\n",
    "\n",
    "lis_var"
   ]
  },
  {
   "cell_type": "markdown",
   "metadata": {},
   "source": [
    "⚫1-Exibir as informações anteriores (Serie e lista) nos seguinte formato:\n",
    "\n",
    "\n",
    "|<font size=\"3\" face=\"Times\">Data</font>              |<font size=\"3\" face=\"Times\">Fechamento</font>        |<font size=\"3\" face=\"Times\">Variação(%)</font>    |\n",
    "|:----------------:|:----------------:|:-------------:|\n",
    "|<font size=\"3\" face=\"Times\">2020-04-01</font>         |     <font size=\"3\" face=\"Times\">43.37 </font>        |      <font size=\"3\" face=\"Times\">N/A </font>      |\n",
    "|<font size=\"3\" face=\"Times\">2020-04-02    </font>     |     <font size=\"3\" face=\"Times\">42.78 </font>        |    <font size=\"3\" face=\"Times\">1.38 </font>     |\n",
    "\n"
   ]
  },
  {
   "cell_type": "code",
   "execution_count": 23,
   "metadata": {},
   "outputs": [
    {
     "name": "stdout",
     "output_type": "stream",
     "text": [
      "data           fechamento        variação(%)\n",
      "2020-04-01        43.37             N/A\n",
      "2020-04-02        42.78             1.38\n",
      "2020-04-03        40.50             5.63\n",
      "2020-04-06        43.13            -6.10\n",
      "2020-04-07        43.78            -1.48\n",
      "2020-04-08        43.51             0.62\n",
      "2020-04-09        43.28             0.53\n",
      "2020-04-13        44.57            -2.89\n",
      "2020-04-14        44.53             0.09\n",
      "2020-04-15        43.19             3.10\n",
      "2020-04-16        42.76             1.01\n",
      "2020-04-17        44.00            -2.82\n",
      "2020-04-20        42.46             3.63\n",
      "2020-04-22        42.90            -1.03\n",
      "2020-04-23        43.51            -1.40\n",
      "2020-04-24        43.76            -0.57\n",
      "2020-04-27        44.55            -1.77\n",
      "2020-04-28        44.61            -0.13\n",
      "2020-04-29        46.73            -4.54\n",
      "2020-04-30        44.86             4.17\n"
     ]
    }
   ],
   "source": [
    "#Coloque seu código aqui!!\n",
    "\n",
    "print('data           fechamento        variação(%)')\n",
    "print(ser_vale.index[0], '      ',ser_vale.values[0], '            N/A')\n",
    "for x in range(1,len(ser_vale)):\n",
    "    print('{0}        {1:.2f}            {2:>5.2f}'.format(ser_vale.index[x], ser_vale.values[x], lis_var[x-1]*100))\n"
   ]
  },
  {
   "cell_type": "markdown",
   "metadata": {},
   "source": [
    "⚫6- Exiba o fechamento médio do período com duas casas decimais."
   ]
  },
  {
   "cell_type": "code",
   "execution_count": 24,
   "metadata": {},
   "outputs": [
    {
     "name": "stdout",
     "output_type": "stream",
     "text": [
      "43.64\n"
     ]
    }
   ],
   "source": [
    "#Coloque seu código aqui\n",
    "\n",
    "print(\"{0:.2f}\".format(ser_vale.mean()))"
   ]
  },
  {
   "cell_type": "markdown",
   "metadata": {},
   "source": [
    "⚫7- Exiba apenas as datas em que o preço de fechamento ficou acima do preço médio de fechamento no período. "
   ]
  },
  {
   "cell_type": "code",
   "execution_count": 72,
   "metadata": {},
   "outputs": [
    {
     "data": {
      "text/plain": [
       "Index(['2020-04-30', '2020-04-29', '2020-04-28', '2020-04-27', '2020-04-24',\n",
       "       '2020-04-17', '2020-04-14', '2020-04-13', '2020-04-07'],\n",
       "      dtype='object')"
      ]
     },
     "execution_count": 72,
     "metadata": {},
     "output_type": "execute_result"
    }
   ],
   "source": [
    "#Coloque seu código aqui!!\n",
    "\n",
    "ser_vale[ser_vale > ser_vale.mean()].index"
   ]
  },
  {
   "cell_type": "markdown",
   "metadata": {},
   "source": [
    "<a id=\"Desafio\"></a> \n",
    "### <font color=\"red\">Desafio</font>\n",
    "\n",
    "**RGB** é a abreviatura de um sistema de cores aditivas em que o **Vermelho (Red)**, o **Verde (Green)** e o **Azul (Blue)** são combinados de várias formas de modo a reproduzir um largo espectro cromático. O propósito principal do sistema RGB é a reprodução de cores em dispositivos eletrônicos como monitores de TV e computador, retroprojetores, scanners e câmeras digitais, assim como na fotografia tradicional. \n"
   ]
  },
  {
   "cell_type": "markdown",
   "metadata": {},
   "source": [
    "⚫1- Dada as listas abaixo, criar o dicionario **dic_cor** formado pelas listas **coring (chave)** e **rgb(valores)**. O objetivo desse dicionário é exibir o padrão RGB (Tupla com os 3 valores), dado o nome de uma côr (em inglês)."
   ]
  },
  {
   "cell_type": "code",
   "execution_count": 25,
   "metadata": {},
   "outputs": [
    {
     "data": {
      "text/plain": [
       "{'Aquamarine': (127, 255, 212),\n",
       " 'Azure': (240, 255, 255),\n",
       " 'Beige': (245, 245, 220),\n",
       " 'Black': (0, 0, 0),\n",
       " 'Blue': (0, 0, 255),\n",
       " 'BlueViolet': (138, 43, 226),\n",
       " 'Brown': (165, 42, 42),\n",
       " 'BurlyWood': (222, 184, 135),\n",
       " 'Chartreuse': (127, 255, 0),\n",
       " 'Chocolate': (210, 105, 30),\n",
       " 'Coral': (255, 127, 80),\n",
       " 'cyan': (0, 255, 255),\n",
       " 'DarkBlue': (0, 0, 139),\n",
       " 'DarkGray': (169, 169, 169),\n",
       " 'DarkGreen': (0, 100, 0),\n",
       " 'DarkKhaki': (189, 83, 107),\n",
       " 'DarkOrange': (255, 140, 0),\n",
       " 'DarkRed': (139, 0, 0),\n",
       " 'FireBrick': (178, 34, 34),\n",
       " 'Fuchsia': (255, 0, 255),\n",
       " 'Gold': (255, 215, 0),\n",
       " 'Goldenrod': (218, 165, 32),\n",
       " 'Gray': (128, 128, 128),\n",
       " 'Green': (0, 128, 0),\n",
       " 'Indigo': (75, 0, 130),\n",
       " 'Ivory': (255, 255, 240),\n",
       " 'Khaki': (240, 230, 140),\n",
       " 'Lavender': (230, 230, 250),\n",
       " 'Lime': (0, 255, 0),\n",
       " 'LimeGreen': (50, 205, 50),\n",
       " 'Magenta': (255, 0, 255),\n",
       " 'Maroon': (128, 0, 0),\n",
       " 'Olive': (128, 128, 0),\n",
       " 'Orange': (255, 165, 0),\n",
       " 'PeachPuff': (255, 218, 185),\n",
       " 'Plum': (221, 160, 221),\n",
       " 'Purple': (128, 0, 128),\n",
       " 'Red': (255, 0, 0),\n",
       " 'Salmon': (250, 128, 114),\n",
       " 'Silver': (192, 192, 192),\n",
       " 'Snow': (255, 250, 250),\n",
       " 'Tomato': (255, 99, 71),\n",
       " 'Turquoise': (64, 224, 208),\n",
       " 'Violet': (238, 130, 238),\n",
       " 'White': (255, 255, 255),\n",
       " 'Yellow': (255, 255, 0),\n",
       " 'YellowGreen': (154, 205, 50)}"
      ]
     },
     "execution_count": 25,
     "metadata": {},
     "output_type": "execute_result"
    }
   ],
   "source": [
    "coring=[\"Aquamarine\",\"Azure\",\"Beige\",\"Black\",\"Blue\",\"BlueViolet\",\"Brown\",\"BurlyWood\",\"Chartreuse\",\"Chocolate\",\"Coral\",\n",
    "        \"cyan\",\"DarkBlue\",\"DarkGray\",\"DarkGreen\",\"DarkKhaki\",\"DarkOrange\",\"DarkRed\",\"FireBrick\",\"Fuchsia\",\"Gold\",\n",
    "        \"Goldenrod\",\"Gray\",\"Green\",\"Indigo\",\"Ivory\",\"Khaki\",\"Lavender\",\"Lime\",\"LimeGreen\",\"Magenta\",\"Maroon\",\"Olive\",\n",
    "        \"Orange\",\"PeachPuff\",\"Plum\",\"Purple\",\"Red\",\"Salmon\",\"Silver\",\"Snow\",\"Tomato\",\"Turquoise\",\"Violet\",\"White\",\"Yellow\",\n",
    "        \"YellowGreen\"] \n",
    "rgb=[(127,255,212),(240,255,255),(245,245,220),(0,0,0),(0,0,255),(138,43,226),(165,42,42),(222,184,135),(127,255,0),\n",
    "     (210,105,30),(255,127,80),(0,255,255),(0,0,139),(169,169,169),(0,100,0),(189,83,107),(255,140,0),(139,0,0),(178,34,34),\n",
    "     (255,0,255),(255,215,0),(218,165,32),(128,128,128),(0,128,0),(75,0,130),(255,255,240),(240,230,140),(230,230,250),\n",
    "     (0,255,0),(50,205,50),(255,0,255),(128,0,0),(128,128,0),(255,165,0),(255,218,185),(221,160,221),(128,0,128),(255,0,0),\n",
    "     (250,128,114),(192,192,192),(255,250,250),(255,99,71),(64,224,208),(238,130,238),(255,255,255),\n",
    "     (255,255,0),(154,205,50)]\n",
    "\n",
    "#Coloque seu código aqui!!\n",
    "\n",
    "dic_cor = dict(zip(coring,rgb))\n",
    "\n",
    "dic_cor\n"
   ]
  },
  {
   "cell_type": "markdown",
   "metadata": {},
   "source": [
    "⚫2- Vamos fazer um teste? Peça (input) ao usuário um côr em ingles, exiba o padrão RGB, da seguinte forma:<br>\n",
    "&nbsp;&nbsp;&nbsp;&nbsp;&nbsp;&nbsp;&nbsp;&nbsp;&nbsp;&nbsp;&nbsp;&nbsp;&nbsp;&nbsp;**R(Red)&nbsp;&nbsp;&nbsp;&nbsp;: 128** <br>\n",
    "&nbsp;&nbsp;&nbsp;&nbsp;&nbsp;&nbsp;&nbsp;&nbsp;&nbsp;&nbsp;&nbsp;&nbsp;&nbsp;&nbsp;**G(Green): 128** <br>\n",
    "&nbsp;&nbsp;&nbsp;&nbsp;&nbsp;&nbsp;&nbsp;&nbsp;&nbsp;&nbsp;&nbsp;&nbsp;&nbsp;&nbsp;**B(Blue)&nbsp;&nbsp;&nbsp;: 128** <br>"
   ]
  },
  {
   "cell_type": "code",
   "execution_count": 82,
   "metadata": {},
   "outputs": [
    {
     "name": "stdout",
     "output_type": "stream",
     "text": [
      "Digite uma côr em inglês:White\n",
      "R(Red)    : 255\n",
      "G(Green)  : 255\n",
      "B(Blue)   : 255\n"
     ]
    }
   ],
   "source": [
    "#Coloque seu código aqui!!!\n",
    "\n",
    "cor = input('Digite uma côr em inglês:')\n",
    "\n",
    "if cor in dic_cor:\n",
    "    print(\"R(Red)    :\",dic_cor[cor][0])\n",
    "    print(\"G(Green)  :\",dic_cor[cor][1])\n",
    "    print(\"B(Blue)   :\",dic_cor[cor][1])\n",
    "else:\n",
    "    print(\"Nome de côr não existe!!\")"
   ]
  },
  {
   "cell_type": "markdown",
   "metadata": {},
   "source": [
    "⚫3-Dada listas abaixo, criar a série **ser_cor** formada pelas listas **corport(índices)** e **coring(valores)**:"
   ]
  },
  {
   "cell_type": "code",
   "execution_count": 83,
   "metadata": {},
   "outputs": [
    {
     "data": {
      "text/plain": [
       "água marinha           Aquamarine\n",
       "azul intenso                Azure\n",
       "bege                        Beige\n",
       "preto                       Black\n",
       "azul                         Blue\n",
       "azul violeta           BlueViolet\n",
       "marrom                      Brown\n",
       "madeira - castanho      BurlyWood\n",
       "verde limão            Chartreuse\n",
       "chocolate               Chocolate\n",
       "coral                       Coral\n",
       "ciano                        cyan\n",
       "azul escuro              DarkBlue\n",
       "cinza escuro             DarkGray\n",
       "verde escuro            DarkGreen\n",
       "caqui escuro            DarkKhaki\n",
       "laranja escuro         DarkOrange\n",
       "vermelho escuro           DarkRed\n",
       "tijolo                  FireBrick\n",
       "fuchsia                   Fuchsia\n",
       "ouro                         Gold\n",
       "dourado                 Goldenrod\n",
       "cinza                        Gray\n",
       "verde                       Green\n",
       "indigo                     Indigo\n",
       "marfim                      Ivory\n",
       "caqui                       Khaki\n",
       "lavanda                  Lavender\n",
       "limão                        Lime\n",
       "verde limão             LimeGreen\n",
       "magenta                   Magenta\n",
       "castanho                   Maroon\n",
       "verde oliva                 Olive\n",
       "laranja                    Orange\n",
       "pessêgo                 PeachPuff\n",
       "ameixa                       Plum\n",
       "roxo                       Purple\n",
       "vermelho                      Red\n",
       "salmão                     Salmon\n",
       "prata                      Silver\n",
       "neve                         Snow\n",
       "tomato                     Tomato\n",
       "turquesa                Turquoise\n",
       "violeta                    Violet\n",
       "branco                      White\n",
       "amarelo                    Yellow\n",
       "amarelo verde         YellowGreen\n",
       "dtype: object"
      ]
     },
     "execution_count": 83,
     "metadata": {},
     "output_type": "execute_result"
    }
   ],
   "source": [
    "corport=[\"água marinha\",\"azul intenso\",\"bege\",\"preto\",\"azul\",\"azul violeta\",\"marrom\",\"madeira - castanho\",\"verde limão\",\n",
    "         \"chocolate\",\"coral\",\"ciano\",\"azul escuro\",\"cinza escuro\",\"verde escuro\",\"caqui escuro\",\"laranja escuro\",\n",
    "         \"vermelho escuro\",\"tijolo\",\"fuchsia\",\"ouro\",\"dourado\",\"cinza\",\"verde\",\"indigo\",\"marfim\",\"caqui\",\"lavanda\",\"limão\",\n",
    "         \"verde limão\",\"magenta\",\"castanho\",\"verde oliva\",\"laranja\",\"pessêgo\",\"ameixa\",\"roxo\",\"vermelho\",\"salmão\",\"prata\",\n",
    "         \"neve\",\"tomato\",\"turquesa\",\"violeta\",\"branco\",\"amarelo\",\"amarelo verde\"] \n",
    "\n",
    "coring=[\"Aquamarine\",\"Azure\",\"Beige\",\"Black\",\"Blue\",\"BlueViolet\",\"Brown\",\"BurlyWood\",\"Chartreuse\",\"Chocolate\",\"Coral\",\n",
    "        \"cyan\",\"DarkBlue\",\"DarkGray\",\"DarkGreen\",\"DarkKhaki\",\"DarkOrange\",\"DarkRed\",\"FireBrick\",\"Fuchsia\",\"Gold\",\n",
    "        \"Goldenrod\",\"Gray\",\"Green\",\"Indigo\",\"Ivory\",\"Khaki\",\"Lavender\",\"Lime\",\"LimeGreen\",\"Magenta\",\"Maroon\",\"Olive\",\n",
    "        \"Orange\",\"PeachPuff\",\"Plum\",\"Purple\",\"Red\",\"Salmon\",\"Silver\",\"Snow\",\"Tomato\",\"Turquoise\",\"Violet\",\"White\",\"Yellow\",\n",
    "        \"YellowGreen\"]\n",
    "\n",
    "#Coloque seu código aqui!!\n",
    "\n",
    "ser_cor = pd.Series(coring, index = corport)\n",
    "\n",
    "ser_cor"
   ]
  },
  {
   "cell_type": "markdown",
   "metadata": {},
   "source": [
    "⚫4- Faça um trecho de código que solicite ao usuário uma côr em português e mostre a correspondente em inglês, bem como o padrão RGB correspondente. conforme exemplo abaixo:<br>\n",
    "\n",
    "**Cor&nbsp;&nbsp;&nbsp;&nbsp;&nbsp;&nbsp;&nbsp;&nbsp;: Amarelo** <br>\n",
    "**Cor(Ing):Yellow**\n",
    " \n",
    " **(R)ed: 255  (G)reen: 255  (B)lue: 0** \n"
   ]
  },
  {
   "cell_type": "code",
   "execution_count": 90,
   "metadata": {},
   "outputs": [
    {
     "name": "stdout",
     "output_type": "stream",
     "text": [
      "Digite o nome de uma côr:branco\n",
      "\n",
      "Cor: branco  Inglês:White\n",
      "(R)ed: 255  (G)reen: 255  (B)lue: 255\n"
     ]
    }
   ],
   "source": [
    "#Coloque seu código aqui !!\n",
    "\n",
    "cor = input('Digite o nome de uma côr:')\n",
    "if cor in ser_cor:\n",
    "    coring = ser_cor[cor]\n",
    "    rgb = dic_cor[coring]\n",
    "\n",
    "    print(\"\\nCor: {0}  Inglês: {1}\".format(cor, coring))\n",
    "    print(\"(R)ed: {0}  (G)reen: {1}  (B)lue: {2}\".format(rgb[0], rgb[1], rgb[2]))\n",
    "else:\n",
    "    print(\"Nome de Côr Inválido!!\")"
   ]
  },
  {
   "cell_type": "markdown",
   "metadata": {},
   "source": [
    "### Conversão em Hexadecimal\n",
    "\n",
    "Quando queremos usar cores em um documento HTML é necessário representá-las através de valores hexadecimais, porque o HTML só suporta esse formato para cores, exceto para algumas cores que, além do hexadecimal, também aceita o nome em inglês. Portanto, em alguns casos, é necessário transformarmos as cores do padrão RGB para sua representação em código hexadecimal. \n",
    "#### Hexadecimal é um sistema de numeração onde a base é 16. Os números válidos no sistema hexadecimal são:\n",
    "<h3> <font color=\"red\"><b>\n",
    "                                                      0 1 2 3 4 5 6 7 8 9  A  B  C  D  E  F \n",
    "    </b> </font>\n",
    "</h3>    \n",
    "\n",
    "#### Isso mesmo!! os valores 10, 11, 12, 13, 14 e 15 são representados pelas letras; A, B, C, D, E, F, respectivamente.\n",
    "---"
   ]
  },
  {
   "cell_type": "markdown",
   "metadata": {},
   "source": [
    "#### Regras de Transformação \n",
    "Cada valor do padrão RGB é representado por apenas dois dígitos hexadecimais, no seguinte formato:\n",
    "<h4> <font color=\"red\">\n",
    "      (em RGB) (N, N, N)  = (em HEXA) #DDDDDD, onde N é um número decimal e DD um número hexadecimal\n",
    "</font>\n",
    "</h4>    \n",
    "    \n",
    "#### Passos:\n",
    "#### 1) Pegar cada numero do RGB e dividí-los por 16\n",
    "#### 2) O resultado da divisão forma o primeiro dígito hexa\n",
    "#### 3) O resto da divisão forma o segundo dígito hexa.\n",
    "#### Exemplo: \n",
    "<h3> <font color=\"red\">     RGB(223,116,116) corresponde ao hexa #DF7474\n",
    "</font>\n",
    "</h3>    \n",
    "---"
   ]
  },
  {
   "cell_type": "markdown",
   "metadata": {},
   "source": [
    "⚫5-Dada a lista abaixo, representando o sistem Hexadecimal, crie a série **ser_hex**: "
   ]
  },
  {
   "cell_type": "code",
   "execution_count": 91,
   "metadata": {},
   "outputs": [
    {
     "data": {
      "text/plain": [
       "[0, 1, 2, 3, 4, 5, 6, 7, 8, 9, 'A', 'B', 'C', 'D', 'E', 'F']"
      ]
     },
     "execution_count": 91,
     "metadata": {},
     "output_type": "execute_result"
    }
   ],
   "source": [
    "lis_hexa = [0, 1, 2, 3, 4, 5, 6, 7, 8, 9, 'A', 'B', 'C', 'D', 'E', 'F']\n",
    "\n",
    "#Coloque seu código aqui!!\n",
    "\n",
    "lis_hexa = [0, 1, 2, 3, 4, 5, 6, 7, 8, 9, 'A', 'B', 'C', 'D', 'E', 'F']\n",
    "\n",
    "ser_hexa = pd.Series(lis_hexa)\n",
    "lis_hexa"
   ]
  },
  {
   "cell_type": "markdown",
   "metadata": {},
   "source": [
    "⚫6-Faça um trecho de código que solcite ao usuário uma côr e exiba o seu código RGB, bem como o correspondente em HEXADECIMAL, conforme o exemplo abaixo:\n",
    "\n",
    "**Cor&nbsp;&nbsp;&nbsp;&nbsp;&nbsp;&nbsp;&nbsp;&nbsp;: vermelho** <br>\n",
    "**Cor(Ing): Red**<br>\n",
    "**(R)ed: 255  (G)reen: 0  (B)lue: 0** <br>\n",
    "**Código Hexadecimal:  #FF0000**"
   ]
  },
  {
   "cell_type": "code",
   "execution_count": 92,
   "metadata": {},
   "outputs": [
    {
     "name": "stdout",
     "output_type": "stream",
     "text": [
      "Digite o nome de uma côr:amarelo\n",
      "\n",
      "Cor: amarelo  Inglês:Yellow\n",
      "(R)ed: 255  (G)reen: 255  (B)lue: 0\n",
      "Código Hexadecimal:  #FFFF00\n"
     ]
    }
   ],
   "source": [
    "#Coloque seu código aqui!!\n",
    "\n",
    "cor = input('Digite o nome de uma côr:')\n",
    "coring = ser_cor[cor]\n",
    "rgb = dic_cor[coring]\n",
    "text_hex = \"#\"\n",
    "for i in range(3):\n",
    "    res = rgb[i] // 16\n",
    "    text_hex +=str(ser_hexa[res])\n",
    "    res = rgb[i] % 16\n",
    "    text_hex +=str(ser_hexa[res])\n",
    "    \n",
    "print(\"\\nCor: {0}  Inglês:{1}\".format(cor, coring))\n",
    "print(\"(R)ed: {0}  (G)reen: {1}  (B)lue: {2}\".format(rgb[0], rgb[1], rgb[2]))\n",
    "print(\"Código Hexadecimal: \", text_hex)\n"
   ]
  },
  {
   "cell_type": "markdown",
   "metadata": {},
   "source": [
    "## DataFrame <a id=\"DataFrame\"></a>"
   ]
  },
  {
   "cell_type": "markdown",
   "metadata": {},
   "source": [
    "Um DataFrame representa uma estrutura de dados tabular, semelhante a uma planilha, contendo um conjunto ordenado de colunas, cada uma das quais pode ser um tipo de valor diferente (numérico, string, booleano, etc.). \n",
    "O DataFrame tem um índice de linha e coluna; pode ser considerado como um dicionário de Série (todos compartilhando o mesmo índice).\n",
    "\n",
    "<img src=\"DataFrame.png\"  \n",
    "     alt=\"Markdown Monster icon\"\n",
    "     style=\"float: left; margin-right: 10px;\" />"
   ]
  },
  {
   "cell_type": "markdown",
   "metadata": {},
   "source": [
    "#### Criando um Dataframe vazio"
   ]
  },
  {
   "cell_type": "code",
   "execution_count": null,
   "metadata": {},
   "outputs": [],
   "source": [
    "df = pd.DataFrame()\n",
    "print (df)"
   ]
  },
  {
   "cell_type": "markdown",
   "metadata": {},
   "source": [
    "#### Criando Dataframe a partir de: Lista, Listas de tuplas/listas, Dicionários e Lista de Dicionários."
   ]
  },
  {
   "cell_type": "code",
   "execution_count": null,
   "metadata": {},
   "outputs": [],
   "source": [
    "dado = list([2,4,6,8,10]) \n",
    "df = pd.DataFrame(dado,columns=[\"Par\"]) #Criando a partir de uma Lista\n",
    "print(df)\n",
    "\n",
    "#dado = list([['Ana', 18, 56.0],['Barbara',20,60.3],['Carla',19,58.8],['Paula', 21, 61.2]])\n",
    "dado = list([('Ana', 18, 56.0),('Barbara',20,60.3),('Carla',19,58.8),('Paula', 21, 61.2)])\n",
    "\n",
    "df = pd.DataFrame(dado,columns=[\"Nome\", \"Idade\", \"Peso\"]) #Criando a partir de uma Lista de tuplas\n",
    "\n",
    "print(df)\n",
    "\n",
    "\n",
    "dado = {\"Nome\":('Ana','Barbara','Carla','Paula'), \"Idade\":(18,20,19,21), \"Peso\":(56.0,60.3,58.8, 61.2)}\n",
    "\n",
    "df = pd.DataFrame(dado) #Criando a partir de um Dicionário\n",
    "print(df)\n",
    "\n",
    "dado = [{\"Nome\":'Ana',\"Idade\":18, \"Peso\":56.0}, {\"Nome\":'Barbara',\"Idade\":20,\"Peso\":60.3},{\"Nome\":'Carla',\"Idade\":19, \"Peso\":58.8}, {\"Nome\":'Paula',\"Idade\":21,\"Peso\":61.2}]\n",
    "df = pd.DataFrame(dado) #Criando a partir de uma lista de Dicionários\n",
    "print(df)\n"
   ]
  },
  {
   "cell_type": "markdown",
   "metadata": {},
   "source": [
    "#### Criando Dataframe a partir de Series"
   ]
  },
  {
   "cell_type": "code",
   "execution_count": null,
   "metadata": {},
   "outputs": [],
   "source": [
    "autor = ['Andre','Bruno','Carla','Paula'] \n",
    "Num_artigo = [210, 211, 114, 211] \n",
    "  \n",
    "autor_series = pd.Series(autor) \n",
    "artigo_series = pd.Series(Num_artigo) \n",
    "  \n",
    "dicSeries = { 'Autor': autor_series, 'Núm. Artigo': artigo_series } \n",
    "  \n",
    "df = pd.DataFrame(dicSeries) \n",
    "  \n",
    "print(df)"
   ]
  },
  {
   "cell_type": "markdown",
   "metadata": {},
   "source": [
    "#### Criando uma nova coluna em um Dataframe"
   ]
  },
  {
   "cell_type": "code",
   "execution_count": null,
   "metadata": {},
   "outputs": [],
   "source": [
    "titulo = [\"Artigo210\", \"Artigo211\", \"Artigo114\", \"Artigo211\"] \n",
    "  \n",
    "df['Titulo'] = pd.Series(titulo) #Criando uma nova coluna 'Titulo'\n",
    "\n",
    "print(df)"
   ]
  },
  {
   "cell_type": "markdown",
   "metadata": {},
   "source": [
    "#### Utilize as listas listas corport(índices) e coring para criar o DataFrame \"df_cor\". O DataFrame deverá ter as colunas (\"cor_ingles\"). A partir da lista rgb, criar as colunas \"R\", \"G\" e \"B\" no DataFrame."
   ]
  },
  {
   "cell_type": "code",
   "execution_count": 152,
   "metadata": {},
   "outputs": [
    {
     "data": {
      "text/html": [
       "<div>\n",
       "<style scoped>\n",
       "    .dataframe tbody tr th:only-of-type {\n",
       "        vertical-align: middle;\n",
       "    }\n",
       "\n",
       "    .dataframe tbody tr th {\n",
       "        vertical-align: top;\n",
       "    }\n",
       "\n",
       "    .dataframe thead th {\n",
       "        text-align: right;\n",
       "    }\n",
       "</style>\n",
       "<table border=\"1\" class=\"dataframe\">\n",
       "  <thead>\n",
       "    <tr style=\"text-align: right;\">\n",
       "      <th></th>\n",
       "      <th>cor_ingles</th>\n",
       "      <th>R</th>\n",
       "      <th>G</th>\n",
       "      <th>B</th>\n",
       "    </tr>\n",
       "  </thead>\n",
       "  <tbody>\n",
       "    <tr>\n",
       "      <th>água marinha</th>\n",
       "      <td>Aquamarine</td>\n",
       "      <td>127</td>\n",
       "      <td>255</td>\n",
       "      <td>212</td>\n",
       "    </tr>\n",
       "    <tr>\n",
       "      <th>azul intenso</th>\n",
       "      <td>Azure</td>\n",
       "      <td>240</td>\n",
       "      <td>255</td>\n",
       "      <td>255</td>\n",
       "    </tr>\n",
       "    <tr>\n",
       "      <th>bege</th>\n",
       "      <td>Beige</td>\n",
       "      <td>245</td>\n",
       "      <td>245</td>\n",
       "      <td>220</td>\n",
       "    </tr>\n",
       "    <tr>\n",
       "      <th>preto</th>\n",
       "      <td>Black</td>\n",
       "      <td>0</td>\n",
       "      <td>0</td>\n",
       "      <td>0</td>\n",
       "    </tr>\n",
       "    <tr>\n",
       "      <th>azul</th>\n",
       "      <td>Blue</td>\n",
       "      <td>0</td>\n",
       "      <td>0</td>\n",
       "      <td>255</td>\n",
       "    </tr>\n",
       "    <tr>\n",
       "      <th>azul violeta</th>\n",
       "      <td>BlueViolet</td>\n",
       "      <td>138</td>\n",
       "      <td>43</td>\n",
       "      <td>226</td>\n",
       "    </tr>\n",
       "    <tr>\n",
       "      <th>marrom</th>\n",
       "      <td>Brown</td>\n",
       "      <td>165</td>\n",
       "      <td>42</td>\n",
       "      <td>42</td>\n",
       "    </tr>\n",
       "    <tr>\n",
       "      <th>madeira - castanho</th>\n",
       "      <td>BurlyWood</td>\n",
       "      <td>222</td>\n",
       "      <td>184</td>\n",
       "      <td>135</td>\n",
       "    </tr>\n",
       "    <tr>\n",
       "      <th>verde limão</th>\n",
       "      <td>Chartreuse</td>\n",
       "      <td>127</td>\n",
       "      <td>255</td>\n",
       "      <td>0</td>\n",
       "    </tr>\n",
       "    <tr>\n",
       "      <th>chocolate</th>\n",
       "      <td>Chocolate</td>\n",
       "      <td>210</td>\n",
       "      <td>105</td>\n",
       "      <td>30</td>\n",
       "    </tr>\n",
       "    <tr>\n",
       "      <th>coral</th>\n",
       "      <td>Coral</td>\n",
       "      <td>255</td>\n",
       "      <td>127</td>\n",
       "      <td>80</td>\n",
       "    </tr>\n",
       "    <tr>\n",
       "      <th>ciano</th>\n",
       "      <td>cyan</td>\n",
       "      <td>0</td>\n",
       "      <td>255</td>\n",
       "      <td>255</td>\n",
       "    </tr>\n",
       "    <tr>\n",
       "      <th>azul escuro</th>\n",
       "      <td>DarkBlue</td>\n",
       "      <td>0</td>\n",
       "      <td>0</td>\n",
       "      <td>139</td>\n",
       "    </tr>\n",
       "    <tr>\n",
       "      <th>cinza escuro</th>\n",
       "      <td>DarkGray</td>\n",
       "      <td>169</td>\n",
       "      <td>169</td>\n",
       "      <td>169</td>\n",
       "    </tr>\n",
       "    <tr>\n",
       "      <th>verde escuro</th>\n",
       "      <td>DarkGreen</td>\n",
       "      <td>0</td>\n",
       "      <td>100</td>\n",
       "      <td>0</td>\n",
       "    </tr>\n",
       "    <tr>\n",
       "      <th>caqui escuro</th>\n",
       "      <td>DarkKhaki</td>\n",
       "      <td>189</td>\n",
       "      <td>83</td>\n",
       "      <td>107</td>\n",
       "    </tr>\n",
       "    <tr>\n",
       "      <th>laranja escuro</th>\n",
       "      <td>DarkOrange</td>\n",
       "      <td>255</td>\n",
       "      <td>140</td>\n",
       "      <td>0</td>\n",
       "    </tr>\n",
       "    <tr>\n",
       "      <th>vermelho escuro</th>\n",
       "      <td>DarkRed</td>\n",
       "      <td>139</td>\n",
       "      <td>0</td>\n",
       "      <td>0</td>\n",
       "    </tr>\n",
       "    <tr>\n",
       "      <th>tijolo</th>\n",
       "      <td>FireBrick</td>\n",
       "      <td>178</td>\n",
       "      <td>34</td>\n",
       "      <td>34</td>\n",
       "    </tr>\n",
       "    <tr>\n",
       "      <th>fuchsia</th>\n",
       "      <td>Fuchsia</td>\n",
       "      <td>255</td>\n",
       "      <td>0</td>\n",
       "      <td>255</td>\n",
       "    </tr>\n",
       "    <tr>\n",
       "      <th>ouro</th>\n",
       "      <td>Gold</td>\n",
       "      <td>255</td>\n",
       "      <td>215</td>\n",
       "      <td>0</td>\n",
       "    </tr>\n",
       "    <tr>\n",
       "      <th>dourado</th>\n",
       "      <td>Goldenrod</td>\n",
       "      <td>218</td>\n",
       "      <td>165</td>\n",
       "      <td>32</td>\n",
       "    </tr>\n",
       "    <tr>\n",
       "      <th>cinza</th>\n",
       "      <td>Gray</td>\n",
       "      <td>128</td>\n",
       "      <td>128</td>\n",
       "      <td>128</td>\n",
       "    </tr>\n",
       "    <tr>\n",
       "      <th>verde</th>\n",
       "      <td>Green</td>\n",
       "      <td>0</td>\n",
       "      <td>128</td>\n",
       "      <td>0</td>\n",
       "    </tr>\n",
       "    <tr>\n",
       "      <th>indigo</th>\n",
       "      <td>Indigo</td>\n",
       "      <td>75</td>\n",
       "      <td>0</td>\n",
       "      <td>130</td>\n",
       "    </tr>\n",
       "    <tr>\n",
       "      <th>marfim</th>\n",
       "      <td>Ivory</td>\n",
       "      <td>255</td>\n",
       "      <td>255</td>\n",
       "      <td>240</td>\n",
       "    </tr>\n",
       "    <tr>\n",
       "      <th>caqui</th>\n",
       "      <td>Khaki</td>\n",
       "      <td>240</td>\n",
       "      <td>230</td>\n",
       "      <td>140</td>\n",
       "    </tr>\n",
       "    <tr>\n",
       "      <th>lavanda</th>\n",
       "      <td>Lavender</td>\n",
       "      <td>230</td>\n",
       "      <td>230</td>\n",
       "      <td>250</td>\n",
       "    </tr>\n",
       "    <tr>\n",
       "      <th>limão</th>\n",
       "      <td>Lime</td>\n",
       "      <td>0</td>\n",
       "      <td>255</td>\n",
       "      <td>0</td>\n",
       "    </tr>\n",
       "    <tr>\n",
       "      <th>verde limão</th>\n",
       "      <td>LimeGreen</td>\n",
       "      <td>50</td>\n",
       "      <td>205</td>\n",
       "      <td>50</td>\n",
       "    </tr>\n",
       "    <tr>\n",
       "      <th>magenta</th>\n",
       "      <td>Magenta</td>\n",
       "      <td>255</td>\n",
       "      <td>0</td>\n",
       "      <td>255</td>\n",
       "    </tr>\n",
       "    <tr>\n",
       "      <th>castanho</th>\n",
       "      <td>Maroon</td>\n",
       "      <td>128</td>\n",
       "      <td>0</td>\n",
       "      <td>0</td>\n",
       "    </tr>\n",
       "    <tr>\n",
       "      <th>verde oliva</th>\n",
       "      <td>Olive</td>\n",
       "      <td>128</td>\n",
       "      <td>128</td>\n",
       "      <td>0</td>\n",
       "    </tr>\n",
       "    <tr>\n",
       "      <th>laranja</th>\n",
       "      <td>Orange</td>\n",
       "      <td>255</td>\n",
       "      <td>165</td>\n",
       "      <td>0</td>\n",
       "    </tr>\n",
       "    <tr>\n",
       "      <th>pessêgo</th>\n",
       "      <td>PeachPuff</td>\n",
       "      <td>255</td>\n",
       "      <td>218</td>\n",
       "      <td>185</td>\n",
       "    </tr>\n",
       "    <tr>\n",
       "      <th>ameixa</th>\n",
       "      <td>Plum</td>\n",
       "      <td>221</td>\n",
       "      <td>160</td>\n",
       "      <td>221</td>\n",
       "    </tr>\n",
       "    <tr>\n",
       "      <th>roxo</th>\n",
       "      <td>Purple</td>\n",
       "      <td>128</td>\n",
       "      <td>0</td>\n",
       "      <td>128</td>\n",
       "    </tr>\n",
       "    <tr>\n",
       "      <th>vermelho</th>\n",
       "      <td>Red</td>\n",
       "      <td>255</td>\n",
       "      <td>0</td>\n",
       "      <td>0</td>\n",
       "    </tr>\n",
       "    <tr>\n",
       "      <th>salmão</th>\n",
       "      <td>Salmon</td>\n",
       "      <td>250</td>\n",
       "      <td>128</td>\n",
       "      <td>114</td>\n",
       "    </tr>\n",
       "    <tr>\n",
       "      <th>prata</th>\n",
       "      <td>Silver</td>\n",
       "      <td>192</td>\n",
       "      <td>192</td>\n",
       "      <td>192</td>\n",
       "    </tr>\n",
       "    <tr>\n",
       "      <th>neve</th>\n",
       "      <td>Snow</td>\n",
       "      <td>255</td>\n",
       "      <td>250</td>\n",
       "      <td>250</td>\n",
       "    </tr>\n",
       "    <tr>\n",
       "      <th>tomato</th>\n",
       "      <td>Tomato</td>\n",
       "      <td>255</td>\n",
       "      <td>99</td>\n",
       "      <td>71</td>\n",
       "    </tr>\n",
       "    <tr>\n",
       "      <th>turquesa</th>\n",
       "      <td>Turquoise</td>\n",
       "      <td>64</td>\n",
       "      <td>224</td>\n",
       "      <td>208</td>\n",
       "    </tr>\n",
       "    <tr>\n",
       "      <th>violeta</th>\n",
       "      <td>Violet</td>\n",
       "      <td>238</td>\n",
       "      <td>130</td>\n",
       "      <td>238</td>\n",
       "    </tr>\n",
       "    <tr>\n",
       "      <th>branco</th>\n",
       "      <td>White</td>\n",
       "      <td>255</td>\n",
       "      <td>255</td>\n",
       "      <td>255</td>\n",
       "    </tr>\n",
       "    <tr>\n",
       "      <th>amarelo</th>\n",
       "      <td>Yellow</td>\n",
       "      <td>255</td>\n",
       "      <td>255</td>\n",
       "      <td>0</td>\n",
       "    </tr>\n",
       "    <tr>\n",
       "      <th>amarelo verde</th>\n",
       "      <td>YellowGreen</td>\n",
       "      <td>154</td>\n",
       "      <td>205</td>\n",
       "      <td>50</td>\n",
       "    </tr>\n",
       "  </tbody>\n",
       "</table>\n",
       "</div>"
      ],
      "text/plain": [
       "                     cor_ingles    R    G    B\n",
       "água marinha         Aquamarine  127  255  212\n",
       "azul intenso              Azure  240  255  255\n",
       "bege                      Beige  245  245  220\n",
       "preto                     Black    0    0    0\n",
       "azul                       Blue    0    0  255\n",
       "azul violeta         BlueViolet  138   43  226\n",
       "marrom                    Brown  165   42   42\n",
       "madeira - castanho    BurlyWood  222  184  135\n",
       "verde limão          Chartreuse  127  255    0\n",
       "chocolate             Chocolate  210  105   30\n",
       "coral                     Coral  255  127   80\n",
       "ciano                      cyan    0  255  255\n",
       "azul escuro            DarkBlue    0    0  139\n",
       "cinza escuro           DarkGray  169  169  169\n",
       "verde escuro          DarkGreen    0  100    0\n",
       "caqui escuro          DarkKhaki  189   83  107\n",
       "laranja escuro       DarkOrange  255  140    0\n",
       "vermelho escuro         DarkRed  139    0    0\n",
       "tijolo                FireBrick  178   34   34\n",
       "fuchsia                 Fuchsia  255    0  255\n",
       "ouro                       Gold  255  215    0\n",
       "dourado               Goldenrod  218  165   32\n",
       "cinza                      Gray  128  128  128\n",
       "verde                     Green    0  128    0\n",
       "indigo                   Indigo   75    0  130\n",
       "marfim                    Ivory  255  255  240\n",
       "caqui                     Khaki  240  230  140\n",
       "lavanda                Lavender  230  230  250\n",
       "limão                      Lime    0  255    0\n",
       "verde limão           LimeGreen   50  205   50\n",
       "magenta                 Magenta  255    0  255\n",
       "castanho                 Maroon  128    0    0\n",
       "verde oliva               Olive  128  128    0\n",
       "laranja                  Orange  255  165    0\n",
       "pessêgo               PeachPuff  255  218  185\n",
       "ameixa                     Plum  221  160  221\n",
       "roxo                     Purple  128    0  128\n",
       "vermelho                    Red  255    0    0\n",
       "salmão                   Salmon  250  128  114\n",
       "prata                    Silver  192  192  192\n",
       "neve                       Snow  255  250  250\n",
       "tomato                   Tomato  255   99   71\n",
       "turquesa              Turquoise   64  224  208\n",
       "violeta                  Violet  238  130  238\n",
       "branco                    White  255  255  255\n",
       "amarelo                  Yellow  255  255    0\n",
       "amarelo verde       YellowGreen  154  205   50"
      ]
     },
     "execution_count": 152,
     "metadata": {},
     "output_type": "execute_result"
    }
   ],
   "source": [
    "# Coloque seu código aqui!!\n",
    "\n",
    "ser = pd.Series(coring, index=corport)\n",
    "df_cor = pd.DataFrame(ser,columns=[\"cor_ingles\"], index=corport )\n",
    "#df_cor\n",
    "df_cor[\"R\"] = [x for x,y,z in rgb]\n",
    "df_cor[\"G\"] = [y for x,y,z in rgb]\n",
    "df_cor[\"B\"] = [z for x,y,z in rgb]\n",
    "\n",
    "df_cor"
   ]
  },
  {
   "cell_type": "markdown",
   "metadata": {},
   "source": [
    "## Importando dados <a id=\"Importando\"></a>"
   ]
  },
  {
   "cell_type": "markdown",
   "metadata": {},
   "source": [
    "### Lendo Dados de Arquivos CSV\n",
    "O Pandas possui comandos que permitem a leitura e carregamento de dados a partir de arquivos **CSV** ou **EXCEL**. Há muitos atributos para essa função de leitura, mas só iremos abordar o que interessa, no momento:\n",
    "#### CSV:\n",
    "### pandas.read_csv('caminho/Arquivo', sep=',',  names=['colunas'], index_col=['coluna índice'])\n",
    "\n",
    "**obs**: *com exceção do nome do arquivo e sep, os outros atributos são opcionais.* \n",
    "\n",
    "#### EXCEL:\n",
    "\n",
    "### pandas.read_excel('caminhoArquivo', sheet_name=['nomeplanilha'],  names=['colunas'], index_col=['coluna índice'])\n",
    "\n",
    "**obs**: *com exceção do nome do arquivo, os outros atributos são opcionais.*\n",
    "\n"
   ]
  },
  {
   "cell_type": "markdown",
   "metadata": {},
   "source": [
    "Lendo dados do arquivo **CariocaFutebol.csv**, situado na mesma pasta do notebook. Exibir as 5 primeiras linhas"
   ]
  },
  {
   "cell_type": "code",
   "execution_count": 94,
   "metadata": {},
   "outputs": [
    {
     "data": {
      "text/html": [
       "<div>\n",
       "<style scoped>\n",
       "    .dataframe tbody tr th:only-of-type {\n",
       "        vertical-align: middle;\n",
       "    }\n",
       "\n",
       "    .dataframe tbody tr th {\n",
       "        vertical-align: top;\n",
       "    }\n",
       "\n",
       "    .dataframe thead th {\n",
       "        text-align: right;\n",
       "    }\n",
       "</style>\n",
       "<table border=\"1\" class=\"dataframe\">\n",
       "  <thead>\n",
       "    <tr style=\"text-align: right;\">\n",
       "      <th></th>\n",
       "      <th>Nome</th>\n",
       "      <th>Idade</th>\n",
       "      <th>Clube</th>\n",
       "      <th>Altura</th>\n",
       "      <th>Peso</th>\n",
       "      <th>Posicao</th>\n",
       "    </tr>\n",
       "  </thead>\n",
       "  <tbody>\n",
       "    <tr>\n",
       "      <th>0</th>\n",
       "      <td>Jose Canto</td>\n",
       "      <td>21</td>\n",
       "      <td>Bangu A C</td>\n",
       "      <td>189.0</td>\n",
       "      <td>75.0</td>\n",
       "      <td>GOLEIROS</td>\n",
       "    </tr>\n",
       "    <tr>\n",
       "      <th>1</th>\n",
       "      <td>Luciano</td>\n",
       "      <td>27</td>\n",
       "      <td>Bangu A C</td>\n",
       "      <td>NaN</td>\n",
       "      <td>NaN</td>\n",
       "      <td>GOLEIROS</td>\n",
       "    </tr>\n",
       "    <tr>\n",
       "      <th>2</th>\n",
       "      <td>Matheus Inacio</td>\n",
       "      <td>27</td>\n",
       "      <td>Bangu A C</td>\n",
       "      <td>191.0</td>\n",
       "      <td>81.0</td>\n",
       "      <td>GOLEIROS</td>\n",
       "    </tr>\n",
       "    <tr>\n",
       "      <th>3</th>\n",
       "      <td>Rodrigo Lobao</td>\n",
       "      <td>26</td>\n",
       "      <td>Bangu A C</td>\n",
       "      <td>193.0</td>\n",
       "      <td>87.0</td>\n",
       "      <td>DEFENSORES</td>\n",
       "    </tr>\n",
       "    <tr>\n",
       "      <th>4</th>\n",
       "      <td>Bruno Moura</td>\n",
       "      <td>27</td>\n",
       "      <td>Bangu A C</td>\n",
       "      <td>183.0</td>\n",
       "      <td>78.0</td>\n",
       "      <td>DEFENSORES</td>\n",
       "    </tr>\n",
       "  </tbody>\n",
       "</table>\n",
       "</div>"
      ],
      "text/plain": [
       "             Nome  Idade      Clube  Altura  Peso     Posicao\n",
       "0      Jose Canto     21  Bangu A C   189.0  75.0    GOLEIROS\n",
       "1         Luciano     27  Bangu A C     NaN   NaN    GOLEIROS\n",
       "2  Matheus Inacio     27  Bangu A C   191.0  81.0    GOLEIROS\n",
       "3   Rodrigo Lobao     26  Bangu A C   193.0  87.0  DEFENSORES\n",
       "4     Bruno Moura     27  Bangu A C   183.0  78.0  DEFENSORES"
      ]
     },
     "execution_count": 94,
     "metadata": {},
     "output_type": "execute_result"
    }
   ],
   "source": [
    "fut = pd.read_csv('CariocaFutebol.csv', sep=';')\n",
    "fut.head()"
   ]
  },
  {
   "cell_type": "markdown",
   "metadata": {},
   "source": [
    "### Obtendo informações sobre seus dados\n",
    " O método **.info()** deve ser um dos primeiros comandos executados após o carregamento de seus dados, pois fornece os detalhes essenciais sobre o seu conjunto de dados, como o número de linhas e colunas, o número de valores não nulos, que tipo de dados está em cada coluna e quanta memória seu DataFrame está usando.<br>\n",
    " Um atributo importante do DataFrame é **.shape** que exibe uma tupla informando o **nº de linhas e colunas** existentes no DataFrame."
   ]
  },
  {
   "cell_type": "code",
   "execution_count": null,
   "metadata": {},
   "outputs": [],
   "source": [
    "fut.info()  #Detalhamento do Dataframe (MetaDado)\n",
    "\n",
    "fut.shape   #Qtde de Linhas e Colunas do DataFrame"
   ]
  },
  {
   "cell_type": "markdown",
   "metadata": {},
   "source": [
    "#### Selecionando dados de uma ou mais colunas"
   ]
  },
  {
   "cell_type": "code",
   "execution_count": 95,
   "metadata": {},
   "outputs": [
    {
     "name": "stdout",
     "output_type": "stream",
     "text": [
      "0    Bangu A C\n",
      "1    Bangu A C\n",
      "2    Bangu A C\n",
      "3    Bangu A C\n",
      "4    Bangu A C\n",
      "Name: Clube, dtype: object\n",
      "\n",
      "                   Nome  Idade\n",
      "486       Douglas Lima     25\n",
      "487         Joao Vitor     22\n",
      "488  Pedrinho Henrique     23\n",
      "489      Saulo Mineiro     22\n",
      "490      Andrey Jacare     16\n"
     ]
    }
   ],
   "source": [
    "x = fut['Clube'] #Seleção de uma coluna\n",
    "\n",
    "print(x.head()) #Exibindo apenas as 5 primeiras linhas\n",
    "\n",
    "x = fut[['Nome', 'Idade']] #Seleção de duas colunas\n",
    "\n",
    "print('\\n',x.tail()) #Exibindo apenas as 5 últimas linhas\n"
   ]
  },
  {
   "cell_type": "markdown",
   "metadata": {},
   "source": [
    "#### Selecionando dados com base na condição em qualquer coluna."
   ]
  },
  {
   "cell_type": "code",
   "execution_count": null,
   "metadata": {},
   "outputs": [],
   "source": [
    "x = fut[fut['Clube'] == \"Fluminense F C\"]   #Selecionando as linhas que possuem clube = Fluminense S A\n",
    "\n",
    "print('\\n',x)\n",
    " "
   ]
  },
  {
   "cell_type": "markdown",
   "metadata": {},
   "source": [
    "### Utilizando Operadores Lógicos <a id=\"Operadores\"></a>\n",
    "Uma maneira de consultar e filtrar os dados que envolvam mais de um critério de seleção é utilizando os operadores lógicos **AND(&) e OR( | )**. O exemplo abaixo exibe os atacantes pertencentes ao Fluminense:"
   ]
  },
  {
   "cell_type": "code",
   "execution_count": 50,
   "metadata": {},
   "outputs": [
    {
     "name": "stdout",
     "output_type": "stream",
     "text": [
      "\n",
      "                  Nome  Idade           Clube  Altura (cm)  Peso (kg)  \\\n",
      "229    Lucas Barcelos     21  Fluminense F C          NaN        NaN   \n",
      "230   Felippe Cardoso     21  Fluminense F C        187.0       83.0   \n",
      "231      Marcos Paulo     18  Fluminense F C        185.0       76.0   \n",
      "232       Pablo Dyego     25  Fluminense F C        174.0       66.0   \n",
      "233         Evanilson     20  Fluminense F C          NaN        NaN   \n",
      "234     Caio Paulista     21  Fluminense F C        181.0       73.0   \n",
      "235  Fernando Pacheco     20  Fluminense F C        179.0       76.0   \n",
      "236      Matheus Pato     24  Fluminense F C        183.0       64.0   \n",
      "\n",
      "       Posicao  \n",
      "229  ATACANTES  \n",
      "230  ATACANTES  \n",
      "231  ATACANTES  \n",
      "232  ATACANTES  \n",
      "233  ATACANTES  \n",
      "234  ATACANTES  \n",
      "235  ATACANTES  \n",
      "236  ATACANTES  \n"
     ]
    }
   ],
   "source": [
    "x = fut[(fut['Clube'] == \"Fluminense F C\") & (fut['Posicao']=='ATACANTES')] #Seleção de linhas a partir das colunas Clube \n",
    "                                                                            # e Posicao\n",
    "\n",
    "print('\\n',x)"
   ]
  },
  {
   "cell_type": "markdown",
   "metadata": {},
   "source": [
    "<a id=\"Exercicio\"></a> \n",
    "### <font color=\"red\">Exercicios:</font>\n",
    "<br>\n",
    "1. Selecione os Nomes e Idades dos atletas do 'Fluminense F C' que possuem idade entre 32 e 34 anos.<BR>\n",
    "2. Os Nome e o Clube dos 'GOLEIROS' ou 'DEFENSORES' com peso acima de 89 Kg."
   ]
  },
  {
   "cell_type": "code",
   "execution_count": 115,
   "metadata": {},
   "outputs": [
    {
     "name": "stdout",
     "output_type": "stream",
     "text": [
      "\n",
      "                Nome  Idade\n",
      "200          Muriel     32\n",
      "205          Egidio     33\n",
      "209  Matheus Ferraz     34\n",
      "220          Hudson     32\n",
      "226        Henrique     34\n",
      "\n",
      "                   Nome              Clube\n",
      "51   Gustavo Geladeira       Boavista S C\n",
      "78               Diego       Botafogo F R\n",
      "83          Joel Carli       Botafogo F R\n",
      "128               Igor    A D Cabofriense\n",
      "148        Diego Alves       Flamengo F R\n",
      "170   Gustavo Henrique       Flamengo F R\n",
      "272     Vladimir Tatui        Macae E F C\n",
      "334              Bruno    Nova Iguacu F C\n",
      "426    Fernando Miguel  C R Vasco da Gama\n"
     ]
    }
   ],
   "source": [
    "#Coloque seu código aqui! (1)\n",
    "\n",
    "x = fut[(fut['Clube'] == \"Fluminense F C\") & ((fut['Idade']>=32) & (fut['Idade']<= 34)) ]\n",
    "print('\\n', x[['Nome','Idade']])\n",
    "\n",
    "#Coloque seu código aqui! (2)\n",
    "\n",
    "x = fut[(fut['Peso'] >= 89) & ((fut['Posicao']=='GOLEIROS') | (fut['Posicao']== 'DEFENSORES')) ]\n",
    "print('\\n', x[['Nome','Clube']])\n"
   ]
  },
  {
   "cell_type": "markdown",
   "metadata": {},
   "source": [
    "<a id=\"Desafio1\"></a> \n",
    "### <font color=\"red\">Desafio 1:</font>\n",
    "\n",
    "3. Pelo cálculo do IMC, uma pessoa tem sobrepeso se o valor estiver entre 25 e 29.9. O IMC corresponde a razão entre o peso e a altura em metros ao quadrado. Mostre os nomes, Clubes e o valor do IMC's dos atletas que encontram-se nessa categoria. OBS: A altura está em cm e peso em Kg."
   ]
  },
  {
   "cell_type": "code",
   "execution_count": 117,
   "metadata": {},
   "outputs": [
    {
     "name": "stdout",
     "output_type": "stream",
     "text": [
      "                  Nome              Clube        IMC\n",
      "7               Michel          Bangu A C  25.420015\n",
      "51   Gustavo Geladeira       Boavista S C  26.575891\n",
      "82         Ruan Renato       Botafogo F R  25.401701\n",
      "112    Vinicius Tanque       Botafogo F R  25.106333\n",
      "128               Igor    A D Cabofriense  25.181077\n",
      "132           Uelliton    A D Cabofriense  26.027582\n",
      "181              Diego       Flamengo F R  25.762981\n",
      "204       Luccas Claro     Fluminense F C  25.057360\n",
      "253               Bidu   Friburguense A C  25.617284\n",
      "334              Bruno    Nova Iguacu F C  25.492722\n",
      "338        Paulo Vitor    Nova Iguacu F C  25.155896\n",
      "345    Raphael Neuhaus    Nova Iguacu F C  25.165146\n",
      "381  Alexandre Talento     A A Portuguesa  25.308642\n",
      "396            Jobinho     A A Portuguesa  25.762981\n",
      "426    Fernando Miguel  C R Vasco da Gama  25.218607\n",
      "471      Daniel Felipe  Volta Redonda F C  26.277285\n",
      "485        Joao Carlos  Volta Redonda F C  26.528510\n"
     ]
    }
   ],
   "source": [
    "#Coloque seu código aqui!\n",
    "IMC = fut['Peso']/(fut['Altura']/100)**2\n",
    "fut['IMC'] = IMC\n",
    "x =  fut[(fut['IMC'] >= 25) & (fut['IMC']<=29.9)] \n",
    "print(x[['Nome', 'Clube', 'IMC']])"
   ]
  },
  {
   "cell_type": "markdown",
   "metadata": {},
   "source": [
    "<a id=\"iloc\"></a> \n",
    "### <font color=\"Black\">ILOC e LOC:</font>\n",
    "\n",
    "Selecionando dados usando **iloc[ ] e loc[ ]**"
   ]
  },
  {
   "cell_type": "code",
   "execution_count": 98,
   "metadata": {},
   "outputs": [
    {
     "name": "stdout",
     "output_type": "stream",
     "text": [
      "\n",
      "              Nome  Idade      Clube  Altura(cm)  Peso(kg)     Posicao  \\\n",
      "0      Jose Canto     21  Bangu A C       189.0      75.0    GOLEIROS   \n",
      "1         Luciano     27  Bangu A C         NaN       NaN    GOLEIROS   \n",
      "2  Matheus Inacio     27  Bangu A C       191.0      81.0    GOLEIROS   \n",
      "3   Rodrigo Lobao     26  Bangu A C       193.0      87.0  DEFENSORES   \n",
      "4     Bruno Moura     27  Bangu A C       183.0      78.0  DEFENSORES   \n",
      "\n",
      "         IMC  \n",
      "0  20.996053  \n",
      "1        NaN  \n",
      "2  22.203339  \n",
      "3  23.356332  \n",
      "4  23.291230  \n",
      "\n",
      "                  Nome  Idade         Clube  Altura(cm)  Peso(kg)     Posicao  \\\n",
      "45      everton Silva     31  Boavista S C       171.0      68.0  DEFENSORES   \n",
      "46  Gabriel Cassimiro     26  Boavista S C       187.0      87.0  DEFENSORES   \n",
      "47   Wellington Silva     31  Boavista S C       177.0      78.0  DEFENSORES   \n",
      "48     Kadu Fernandes     24  Boavista S C       187.0      83.0  DEFENSORES   \n",
      "49       Marcio Costa     24  Boavista S C       179.0      68.0  DEFENSORES   \n",
      "50     Victor Pereira     27  Boavista S C       190.0      87.0  DEFENSORES   \n",
      "\n",
      "          IMC  \n",
      "45  23.255019  \n",
      "46  24.879179  \n",
      "47  24.897060  \n",
      "48  23.735308  \n",
      "49  21.222808  \n",
      "50  24.099723  \n",
      "\n",
      "               Nome  Idade      Clube\n",
      "1          Luciano     27  Bangu A C\n",
      "2   Matheus Inacio     27  Bangu A C\n",
      "3    Rodrigo Lobao     26  Bangu A C\n",
      "4      Bruno Moura     27  Bangu A C\n",
      "5            Dante     24  Bangu A C\n",
      "6     Raul Cardoso     22  Bangu A C\n",
      "7           Michel     28  Bangu A C\n",
      "8    Lucas Sampaio     24  Bangu A C\n",
      "9        Handerson     21  Bangu A C\n",
      "10      Leo Amorim     19  Bangu A C\n"
     ]
    }
   ],
   "source": [
    "x = fut.iloc[0:5]  #Seleção posicional das linhas 0 até 4, semelhante as listas em Python\n",
    "print('\\n',x)\n",
    "\n",
    "x = fut.loc[45:50]  #Seleção das linhas com índices de 45 até 50\n",
    "print('\\n',x)\n",
    "\n",
    "x = fut.loc[1:10, ['Nome','Idade','Clube']] # Seleção das linhas com índices de 1 a 10, exibindo apenas os Nomes, Idades e Clubes\n",
    "print('\\n',x)"
   ]
  },
  {
   "cell_type": "markdown",
   "metadata": {},
   "source": [
    "## Utilização de Funções Agregadas em DataFrames  <a id=\"Agragacao\"></a> \n",
    "\n",
    "Agregação é o processo de transformar os valores de um conjunto de dados (ou um subconjunto dele) em um único valor. As funções agregadas executam cálculos em um conjunto de valores de entrada e retornam um valor, tais como: min, max, sum, count, etc.\n",
    "\n",
    "### Utilizando as Funções: Min e Max.\n",
    "    É possivel efetuar a seleção de itens envolvendo as funções Min() e Max(), conforme os exemplos a seguir:\n",
    "   "
   ]
  },
  {
   "cell_type": "code",
   "execution_count": 70,
   "metadata": {},
   "outputs": [
    {
     "name": "stdout",
     "output_type": "stream",
     "text": [
      "Conteúdo do Dataframe:\n",
      "        Idade  Peso  Altura\n",
      "Andre      22  82.4    1.83\n",
      "Joao       33   NaN    1.71\n",
      "Mario      44  90.0    1.81\n",
      "Paulo      55  87.0     NaN\n",
      "Sergio     66  70.0    1.70\n",
      "\n",
      "***** Obtendo o menor valor por coluna ***** \n",
      "menor valor de cada coluna : \n",
      "Idade     22.0\n",
      "Peso      70.0\n",
      "Altura     1.7\n",
      "dtype: float64\n",
      "\n",
      "***** Obtendo o menor valor por linha ***** \n",
      "menor valor de cada linha : \n",
      "Andre      1.83\n",
      "Joao       1.71\n",
      "Mario      1.81\n",
      "Paulo     55.00\n",
      "Sergio     1.70\n",
      "dtype: float64\n",
      "\n",
      "***** Obtendo o menor valor de cada coluna sem considerando NaN ***** \n",
      "Menor valor de cada coluna considerando NaN: \n",
      "Idade     22.0\n",
      "Peso       NaN\n",
      "Altura     NaN\n",
      "dtype: float64\n",
      "\n",
      "***** Obtém o menor valor de uma única coluna ***** \n",
      "Menor valor da coluna Altura:  1.7\n",
      "Menor valor da coluna Altura:  1.7\n",
      "\n",
      "***** Obtém o menor valor de algumas colunas ***** \n",
      "Menores valores das colunas 'Peso' e 'Altura': \n",
      "Peso      70.0\n",
      "Altura     1.7\n",
      "dtype: float64\n",
      "\n",
      "***** Obtem o índice dos menores valores de cada coluna *****\n",
      "Nome dos índices dos menores valores de cada coluna :\n",
      "Idade      Andre\n",
      "Peso      Sergio\n",
      "Altura    Sergio\n",
      "dtype: object\n",
      "\n",
      "***** Obtem o nome da coluna de menor valor em cada linha *****\n",
      "nome das colunas de menor valor em cada linha :\n",
      "Andre     Altura\n",
      "Joao      Altura\n",
      "Mario     Altura\n",
      "Paulo      Idade\n",
      "Sergio    Altura\n",
      "dtype: object\n"
     ]
    }
   ],
   "source": [
    "   # Lista of Tuplas\n",
    "   matrix = [(22, 82.4, 1.83),\n",
    "             (33, np.NaN, 1.71),\n",
    "             (44, 90, 1.81),\n",
    "             (55, 87, np.NaN),\n",
    "             (66, 70, 1.70)\n",
    "             ]\n",
    " \n",
    "# Criar o DataFrame\n",
    "df = pd.DataFrame(matrix, index=list(['Andre', 'Joao','Mario','Paulo','Sergio']), columns=list(['Idade', 'Peso', 'Altura']))\n",
    " \n",
    "print('Conteúdo do Dataframe:')\n",
    "print(df)\n",
    "\n",
    "print('\\n***** Obtendo o menor valor por coluna ***** ')\n",
    " \n",
    "# retorna a series contendo menor valor de cada coluna\n",
    "col_min = df.min()\n",
    " \n",
    "print('menor valor de cada coluna : ')\n",
    "print(col_min)\n",
    " \n",
    "print('\\n***** Obtendo o menor valor por linha ***** ')\n",
    " \n",
    "# Obtém uma serie contendo menor valor de cada linha\n",
    "lin_min = df.min(axis=1)\n",
    " \n",
    "print('menor valor de cada linha : ')\n",
    "print(lin_min)\n",
    " \n",
    "print('\\n***** Obtendo o menor valor de cada coluna sem considerando NaN ***** ')\n",
    " \n",
    "# Obrém um série contendo o menor valor de cada coluna considerando NaN \n",
    "\n",
    "col_min = df.min(skipna=False)\n",
    " \n",
    "print('Menor valor de cada coluna considerando NaN: ')\n",
    "print(col_min)\n",
    " \n",
    "print('\\n***** Obtém o menor valor de uma única coluna ***** ')\n",
    " \n",
    "# Obtem o menor valor da coluna 'Altura'\n",
    "alt_min = df['Altura'].min()\n",
    " \n",
    "print(\"Menor valor da coluna Altura: \" , alt_min)\n",
    " \n",
    "# Obtem o menor valor da coluna 'Altura'\n",
    "alt_min = df.min()['Altura']\n",
    " \n",
    "print(\"Menor valor da coluna Altura: \" , alt_min)\n",
    "\n",
    "print('\\n***** Obtém o menor valor de algumas colunas ***** ')\n",
    " \n",
    "# Obtem os menores valores das colunas 'Peso' e 'Altura'\n",
    "ap_min = df[['Peso', 'Altura']].min()\n",
    " \n",
    "print(\"Menores valores das colunas 'Peso' e 'Altura': \")\n",
    "print(ap_min)\n",
    " \n",
    "print('\\n***** Obtem o índice dos menores valores de cada coluna *****')\n",
    " \n",
    "# Obtem o índice dos menores valores de cada coluna\n",
    "\n",
    "col_idx_min = df.idxmin()\n",
    " \n",
    "print(\"Nome dos índices dos menores valores de cada coluna :\")\n",
    "print(col_idx_min)\n",
    " \n",
    "print('\\n***** Obtem o nome da coluna de menor valor em cada linha *****')\n",
    " \n",
    "# Obtem o nome das colunas de menor valor em cada linha\n",
    "lin_idx_min = df.idxmin(axis=1)\n",
    " \n",
    "print(\"nome das colunas de menor valor em cada linha :\")\n",
    "print(lin_idx_min) \n",
    "\n",
    " "
   ]
  },
  {
   "cell_type": "markdown",
   "metadata": {},
   "source": [
    "## Outras Funções de agregação em DataFrames <a id=\"Estatistica\"></a> "
   ]
  },
  {
   "cell_type": "markdown",
   "metadata": {},
   "source": [
    "### Média, Mediana, Desvio Padrão"
   ]
  },
  {
   "cell_type": "code",
   "execution_count": 169,
   "metadata": {},
   "outputs": [
    {
     "name": "stdout",
     "output_type": "stream",
     "text": [
      "media= 24.521384928716905\n",
      "mediaboavista= 26.0\n",
      "medianaboavista= 25.5\n",
      "mediabotafogo= 76.4\n",
      "desviobotafogo= 7.929956527391294\n"
     ]
    }
   ],
   "source": [
    "# Calculando a média de idade dos jogadores do clubes cariocas\n",
    "media = fut[\"Idade\"].mean()\n",
    "print(\"media=\",media)\n",
    "\n",
    "#Calculando a media de idade dos jogadores do 'Boavista S C'\n",
    "\n",
    "medboa =fut[(fut['Clube'] == \"Boavista S C\")].mean()['Idade']\n",
    "print('mediaboavista=',medboa)\n",
    "\n",
    "#Calculando a mediana das Idades dos jogadores do 'Boavista S C'\n",
    "mediboa =fut[(fut['Clube'] == \"Boavista S C\")].median()['Idade']\n",
    "print('medianaboavista=',mediboa)\n",
    "\n",
    "#Calculando média e desvio padrão dos pesos dos jogadores do 'Botafogo F R' com idades > 22 anos\n",
    "medbota =fut[(fut['Clube'] == \"Botafogo F R\") & (fut['Idade'] > 22.0)].mean()['Peso']\n",
    "print('mediabotafogo=',medbota)\n",
    "\n",
    "#Calculando média e desvio padrão dos pesos dos jogadores do 'Botafogo F R' com idades > 22 anos\n",
    "devbota =fut[(fut['Clube'] == \"Botafogo F R\") & (fut['Idade'] > 22.0)].std()['Peso']\n",
    "print('desviobotafogo=',devbota)"
   ]
  },
  {
   "cell_type": "markdown",
   "metadata": {},
   "source": [
    "<a id=\"Desafio2\"></a>\n",
    "### <font color=\"red\">Desafio 2:</font>\n",
    "\n",
    "4. Exibir o Nome e o peso do atleta de maior peso do clube 'Flamengo F R'"
   ]
  },
  {
   "cell_type": "code",
   "execution_count": 111,
   "metadata": {},
   "outputs": [
    {
     "name": "stdout",
     "output_type": "stream",
     "text": [
      "\n",
      "             Nome  Peso\n",
      "148  Diego Alves  90.0\n"
     ]
    }
   ],
   "source": [
    "# Coloque seu código aqui!! (4)\n",
    "\n",
    "pesado = fut[(fut['Clube'] == \"Flamengo F R\")].max()['Peso']\n",
    "\n",
    "fla = fut[(fut['Clube'] == \"Flamengo F R\") & (fut[\"Peso\"]==pesado)]\n",
    "\n",
    "print('\\n', fla[['Nome', 'Peso']])"
   ]
  },
  {
   "cell_type": "markdown",
   "metadata": {},
   "source": [
    "## Consultando dados com a função query: <a id=\"Query\"></a> \n",
    "Outra maneira de consultar e filtrar os dados é usando o método query(),que possui uma sintaxe semelhante as queries do SQL, usamos os operadores lógicos **AND(&) e OR( | )** e expressões lógicas (**==, != , >, <, >= e <=**), para solicitar dados a partir de uma condição. A sintaxe da query é bem mais legível do que a sintaxe do loc."
   ]
  },
  {
   "cell_type": "code",
   "execution_count": 118,
   "metadata": {},
   "outputs": [
    {
     "name": "stdout",
     "output_type": "stream",
     "text": [
      "\n",
      "*****Revisitando a seleção  dos Nomes e Idades dos atletas do 'Fluminense F C' que possuem idade entre 32 e 34 anos\n",
      "               Nome  Idade           Clube  Altura  Peso         Posicao  \\\n",
      "200          Muriel     32  Fluminense F C   188.0  87.0        GOLEIROS   \n",
      "205          Egidio     33  Fluminense F C   174.0  71.0      DEFENSORES   \n",
      "209  Matheus Ferraz     34  Fluminense F C   188.0  81.0      DEFENSORES   \n",
      "220          Hudson     32  Fluminense F C   178.0  73.0  MEIO-CAMPISTAS   \n",
      "226        Henrique     34  Fluminense F C   180.0  77.0  MEIO-CAMPISTAS   \n",
      "\n",
      "           IMC  \n",
      "200  24.615211  \n",
      "205  23.450918  \n",
      "209  22.917610  \n",
      "220  23.040020  \n",
      "226  23.765432  \n",
      "\n",
      "*****Revisitando a seleção dos Nomes e Clubes dos 'GOLEIROS' ou 'DEFENSORES' com peso acima de 89 Kg.s\n",
      "                  Nome  Idade              Clube  Altura  Peso     Posicao  \\\n",
      "51   Gustavo Geladeira     33       Boavista S C   183.0  89.0  DEFENSORES   \n",
      "78               Diego     21       Botafogo F R   190.0  90.0    GOLEIROS   \n",
      "83          Joel Carli     33       Botafogo F R   193.0  91.0  DEFENSORES   \n",
      "128               Igor     30    A D Cabofriense   188.0  89.0  DEFENSORES   \n",
      "148        Diego Alves     34       Flamengo F R   190.0  90.0    GOLEIROS   \n",
      "170   Gustavo Henrique     26       Flamengo F R   196.0  89.0  DEFENSORES   \n",
      "272     Vladimir Tatui     36        Macae E F C   192.0  90.0  DEFENSORES   \n",
      "334              Bruno     25    Nova Iguacu F C   191.0  93.0    GOLEIROS   \n",
      "426    Fernando Miguel     34  C R Vasco da Gama   191.0  92.0    GOLEIROS   \n",
      "\n",
      "           IMC  \n",
      "51   26.575891  \n",
      "78   24.930748  \n",
      "83   24.430186  \n",
      "128  25.181077  \n",
      "148  24.930748  \n",
      "170  23.167430  \n",
      "272  24.414062  \n",
      "334  25.492722  \n",
      "426  25.218607  \n"
     ]
    }
   ],
   "source": [
    "print(\"\\n****Revisitando a seleção dos Nomes e Idades dos atletas do 'Fluminense F C' que possuem idade entre 32 e 34 anos\")\n",
    "x=fut.query(('Clube == \"Fluminense F C\" & (Idade >= 32  & Idade <= 34)' ))\n",
    "print(x)\n",
    "\n",
    "print(\"\\n****Revisitando a seleção dos Nomes e Clubes dos 'GOLEIROS' ou 'DEFENSORES' com peso acima de 89 Kg.s\")\n",
    "#x = fut[(fut['Peso (kg)'] >= 89) & ((fut['Posicao']=='GOLEIROS') | (fut['Posicao']== 'DEFENSORES')) ]\n",
    "x = fut.query('Peso >= 89 & (Posicao ==\"GOLEIROS\"  | Posicao == \"DEFENSORES\")')\n",
    "print(x)"
   ]
  },
  {
   "cell_type": "markdown",
   "metadata": {},
   "source": [
    "<a id=\"Exercicio2\"></a> \n",
    "## <font color=\"red\">Exercicios:</font>\n"
   ]
  },
  {
   "cell_type": "markdown",
   "metadata": {},
   "source": [
    "#### Utilize a função  .query()  para exibir:\n",
    "#### 5. Os nomes dos atletas e clubes com atletas com idades abaixo de 18 anos que não joguem no 'C R Vasco da Gama' nem no 'Botafogo F R'\n",
    "\n",
    "#### 6. Os nomes dos atletas, Clubes e Alturas dos que não são GOLEIROS, mas possuem altura superior a 1.92 mt "
   ]
  },
  {
   "cell_type": "code",
   "execution_count": 131,
   "metadata": {},
   "outputs": [
    {
     "name": "stdout",
     "output_type": "stream",
     "text": [
      "                 Nome              Clube\n",
      "202  Marcelo Pitaluga     Fluminense F C\n",
      "228   Miguel Silveira     Fluminense F C\n",
      "372           Maninho     A A Portuguesa\n",
      "478          Gregorio  Volta Redonda F C\n",
      "479       Pedro Higor  Volta Redonda F C\n",
      "490     Andrey Jacare  Volta Redonda F C\n",
      "\n",
      "                  Nome            Clube  Altura\n",
      "3       Rodrigo Lobao        Bangu A C   193.0\n",
      "5               Dante        Bangu A C   193.0\n",
      "83         Joel Carli     Botafogo F R   193.0\n",
      "146            Darlan  A D Cabofriense   193.0\n",
      "170  Gustavo Henrique     Flamengo F R   196.0\n"
     ]
    }
   ],
   "source": [
    "#Coloque seu código aqui!! (5)\n",
    "\n",
    "x = fut.query('Idade < 18 & (Clube!= \"C R Vasco da Gama\" & Clube!= \"Botafogo F R\")')\n",
    "print(x[['Nome', 'Clube']])\n",
    "\n",
    "#Coloque seu código aqui!! (6)\n",
    "\n",
    "x = fut.query('Posicao != \"GOLEIROS\" & Altura/100 > 1.92')\n",
    "\n",
    "print('\\n',x[['Nome', 'Clube', 'Altura']])\n"
   ]
  },
  {
   "cell_type": "markdown",
   "metadata": {},
   "source": [
    "## Agrupamento de dados em DataFrames <a id=\"Agregacao\"></a> \n",
    "\n",
    "Agrupamento é um processo que envolve uma ou mais das seguintes etapas:\n",
    "- <b>Dividindo os dados em grupos com base em alguns critérios.</b>\n",
    "- <b>Aplicando uma função a cada grupo independentemente.</b>\n",
    "- <b>Combinando os resultados em uma estrutura de dados.</b>\n",
    "\n",
    "Destes, o passo 1 (dividindo) é o mais direto. De fato, em muitas situações, podemos desejar dividir o conjunto de dados em grupos e fazer algo com esses grupos. Na etapa de aplicação, podemos desejar fazer um dos seguintes:\n",
    "\n",
    "- <b>Agregação</b>: calcular uma estatística resumida para cada grupo. Alguns exemplos: Somas ou médias de grupo, Calcular     tamanhos / contagens de grupos.\n",
    "\n",
    "- <b>Transformação</b>: executar alguns cálculos específicos de grupo e retorne um objeto indexado. Alguns exemplos: Padronizar  dados dentro de um grupo, peenchendo NA's dentro de grupos com um valor derivado de cada grupo.\n",
    "\n",
    "- <b>Filtragem</b>: descarte alguns grupos, de acordo com uma condição em grupo que avalie Verdadeiro ou Falso. Alguns          exemplos: Descartar dados que pertencem a grupos com apenas alguns membros, Filtrar os dados com base na soma ou média do grupo.\n",
    "\n",
    "O **GroupBy** examinará os resultados da etapa de aplicação e tentará retornar um resultado combinado sensato se não se encaixar em nenhuma das duas categorias acima.\n",
    "\n"
   ]
  },
  {
   "cell_type": "markdown",
   "metadata": {},
   "source": [
    "#### Importação dos dados do arquivo Excel \"vendasProdutos.xlsx\". Exibir o resumo do arquivo."
   ]
  },
  {
   "cell_type": "code",
   "execution_count": 48,
   "metadata": {},
   "outputs": [
    {
     "name": "stdout",
     "output_type": "stream",
     "text": [
      "            Data Vendedor    Região    Produto  Faturamento\n",
      "Ordem                                                      \n",
      "101   2019-02-01     Igor       Sul     Caneta          300\n",
      "102   2019-02-01     Igor       Sul     Caneta          600\n",
      "103   2019-02-01     Igor       Sul      Lápis          750\n",
      "104   2019-02-01  Gabriel     Norte      Lápis          900\n",
      "105   2019-02-01  Gabriel     Norte     Caneta          150\n",
      "...          ...      ...       ...        ...          ...\n",
      "168   2019-08-01  Matheus   Sudeste     Caneta          150\n",
      "169   2019-08-01  Matheus   Sudeste   Borracha          240\n",
      "170   2019-08-01  Matheus  Nordeste   Borracha          300\n",
      "171   2019-08-01  Valéria  Nordeste  Apontador          450\n",
      "172   2019-08-01  Valéria  Nordeste  Apontador          510\n",
      "\n",
      "[72 rows x 5 columns]\n",
      "<class 'pandas.core.frame.DataFrame'>\n",
      "Int64Index: 72 entries, 101 to 172\n",
      "Data columns (total 5 columns):\n",
      " #   Column       Non-Null Count  Dtype         \n",
      "---  ------       --------------  -----         \n",
      " 0   Data         72 non-null     datetime64[ns]\n",
      " 1   Vendedor     72 non-null     object        \n",
      " 2   Região       72 non-null     object        \n",
      " 3   Produto      72 non-null     object        \n",
      " 4   Faturamento  72 non-null     int64         \n",
      "dtypes: datetime64[ns](1), int64(1), object(3)\n",
      "memory usage: 3.4+ KB\n",
      "None\n"
     ]
    }
   ],
   "source": [
    "venda = pd.read_excel(\"vendasProdutos.xlsx\", sheet_name= 'Plan1' , names=['Ordem','Data','Vendedor', 'Região', 'Produto', 'Faturamento'\n",
    "],index_col='Ordem')\n",
    "print(venda)\n",
    "\n",
    "print(venda.info())"
   ]
  },
  {
   "cell_type": "markdown",
   "metadata": {},
   "source": [
    "**Pergunta 1:** O total do Faturamento Mensal. Agrupamento pela coluna **Data**, realizando a soma da coluna **Faturamento**. "
   ]
  },
  {
   "cell_type": "code",
   "execution_count": 70,
   "metadata": {},
   "outputs": [
    {
     "name": "stdout",
     "output_type": "stream",
     "text": [
      "            Faturamento\n",
      "Data                   \n",
      "2019-02-01         6750\n",
      "2019-03-01         5195\n",
      "2019-04-01         3000\n",
      "2019-05-01         2450\n",
      "2019-06-01         4125\n",
      "2019-07-01         3750\n",
      "2019-08-01         5160\n"
     ]
    }
   ],
   "source": [
    "x = venda.groupby([\"Data\"])[['Faturamento']].sum()\n",
    "\n",
    "print(x)\n"
   ]
  },
  {
   "cell_type": "markdown",
   "metadata": {},
   "source": [
    "**Pergunta 2:** Vendas mendas Mensais por vendedor. Agrupamento pelas colunas **Data** e **vendedor**, realizando a soma da coluna **Faturamento**."
   ]
  },
  {
   "cell_type": "code",
   "execution_count": 69,
   "metadata": {},
   "outputs": [
    {
     "name": "stdout",
     "output_type": "stream",
     "text": [
      "                     Faturamento\n",
      "Data       Vendedor             \n",
      "2019-02-01 Gabriel          1290\n",
      "           Igor             1650\n",
      "           Nathalia         1260\n",
      "           Valéria          2550\n",
      "2019-03-01 Gabriel          1525\n",
      "           Igor             1880\n",
      "           Matheus          1320\n",
      "           Nathalia          270\n",
      "           Valéria           200\n",
      "2019-04-01 Matheus           445\n",
      "           Nathalia          225\n",
      "           Valéria          2330\n",
      "2019-05-01 Gabriel          1075\n",
      "           Igor             1375\n",
      "2019-06-01 Matheus           825\n",
      "           Nathalia         1050\n",
      "           Valéria          2250\n",
      "2019-07-01 Gabriel          1800\n",
      "           Igor             1410\n",
      "           Nathalia          540\n",
      "2019-08-01 Matheus           690\n",
      "           Nathalia          450\n",
      "           Valéria          4020\n"
     ]
    }
   ],
   "source": [
    "x = venda.groupby([\"Data\", \"Vendedor\"])[['Faturamento']].sum()\n",
    "\n",
    "print(x)\n"
   ]
  },
  {
   "cell_type": "markdown",
   "metadata": {},
   "source": [
    "**Pergunta 3:** Faturamento médio por região. Agrupamento pela coluna **Região**, realizando a média da coluna **Faturamento**."
   ]
  },
  {
   "cell_type": "code",
   "execution_count": 58,
   "metadata": {},
   "outputs": [
    {
     "name": "stdout",
     "output_type": "stream",
     "text": [
      "          Faturamento\n",
      "Região               \n",
      "Nordeste   403.888889\n",
      "Norte      425.277778\n",
      "Sudeste    449.722222\n",
      "Sul        411.666667\n"
     ]
    }
   ],
   "source": [
    "x = venda.groupby([\"Região\"])[['Faturamento']].mean()\n",
    "print(x)"
   ]
  },
  {
   "cell_type": "markdown",
   "metadata": {},
   "source": [
    "## Iteração através de Grupos <a id=\"Agregacao\"></a> \n",
    "Com o objeto groupby, podemos iterar através do elementos."
   ]
  },
  {
   "cell_type": "markdown",
   "metadata": {},
   "source": [
    "**Pergunta 4:** Para cada **Vendedor**, exibir os produtos vendidos e o faturamento. Agrupamento pela coluna **Vendedor**, Iterando pelas colunas **Produto** e **Faturamento**."
   ]
  },
  {
   "cell_type": "code",
   "execution_count": 73,
   "metadata": {},
   "outputs": [
    {
     "name": "stdout",
     "output_type": "stream",
     "text": [
      "Gabriel\n",
      "        Produto  Faturamento\n",
      "Ordem                       \n",
      "104       Lápis          900\n",
      "105      Caneta          150\n",
      "106    Borracha          240\n",
      "121       Lápis         1000\n",
      "122       Lápis          450\n",
      "123      Caneta           75\n",
      "140       Lápis          750\n",
      "141      Caneta          125\n",
      "142    Borracha          200\n",
      "157       Lápis          750\n",
      "158       Lápis          900\n",
      "159      Caneta          150\n",
      "Igor\n",
      "         Produto  Faturamento\n",
      "Ordem                        \n",
      "101       Caneta          300\n",
      "102       Caneta          600\n",
      "103        Lápis          750\n",
      "118    Apontador          680\n",
      "119       Caneta          400\n",
      "120       Caneta          800\n",
      "137       Caneta          250\n",
      "138       Caneta          500\n",
      "139        Lápis          625\n",
      "154    Apontador          510\n",
      "155       Caneta          300\n",
      "156       Caneta          600\n",
      "Matheus\n",
      "         Produto  Faturamento\n",
      "Ordem                        \n",
      "115     Borracha          320\n",
      "116     Borracha          400\n",
      "117    Apontador          600\n",
      "132       Caneta           75\n",
      "133     Borracha          120\n",
      "134     Borracha          250\n",
      "151     Borracha          200\n",
      "152     Borracha          250\n",
      "153    Apontador          375\n",
      "168       Caneta          150\n",
      "169     Borracha          240\n",
      "170     Borracha          300\n",
      "Nathalia\n",
      "         Produto  Faturamento\n",
      "Ordem                        \n",
      "107     Borracha          300\n",
      "108    Apontador          450\n",
      "109    Apontador          510\n",
      "124     Borracha          120\n",
      "125     Borracha          150\n",
      "126    Apontador          225\n",
      "143     Borracha          250\n",
      "144    Apontador          375\n",
      "145    Apontador          425\n",
      "160     Borracha          240\n",
      "161     Borracha          300\n",
      "162    Apontador          450\n",
      "Valéria\n",
      "         Produto  Faturamento\n",
      "Ordem                        \n",
      "110       Caneta          300\n",
      "111       Caneta          600\n",
      "112        Lápis          750\n",
      "113        Lápis          900\n",
      "114       Caneta          200\n",
      "127    Apontador          255\n",
      "128       Caneta          150\n",
      "129       Caneta          300\n",
      "130        Lápis          375\n",
      "131        Lápis          450\n",
      "135    Apontador          375\n",
      "136    Apontador          425\n",
      "146       Caneta          250\n",
      "147       Caneta          500\n",
      "148        Lápis          625\n",
      "149        Lápis          750\n",
      "150       Caneta          125\n",
      "163    Apontador          510\n",
      "164       Caneta          300\n",
      "165       Caneta          600\n",
      "166        Lápis          750\n",
      "167        Lápis          900\n",
      "171    Apontador          450\n",
      "172    Apontador          510\n"
     ]
    }
   ],
   "source": [
    "x = venda.groupby([\"Vendedor\"])\n",
    "for nome, grupo in x:\n",
    "   print (nome)\n",
    "   print (grupo[['Produto','Faturamento']])"
   ]
  },
  {
   "cell_type": "markdown",
   "metadata": {},
   "source": [
    "**Pergunta 5:** Para cada **Vendedor**, exibir os produtos vendidos e o faturamento, por **Região**. Agrupamento pelas colunas **Vendedor** e **Região**, Iterando pelas colunas **Produto** e **Faturamento**."
   ]
  },
  {
   "cell_type": "code",
   "execution_count": 81,
   "metadata": {},
   "outputs": [
    {
     "name": "stdout",
     "output_type": "stream",
     "text": [
      "Gabriel\n",
      "\n",
      " Nordeste\n",
      "      Produto  Faturamento\n",
      "Ordem                     \n",
      "122     Lápis          450\n",
      "123    Caneta           75\n",
      "158     Lápis          900\n",
      "159    Caneta          150\n",
      "\n",
      " Norte\n",
      "        Produto  Faturamento\n",
      "Ordem                       \n",
      "104       Lápis          900\n",
      "105      Caneta          150\n",
      "106    Borracha          240\n",
      "140       Lápis          750\n",
      "141      Caneta          125\n",
      "142    Borracha          200\n",
      "\n",
      " Sudeste\n",
      "      Produto  Faturamento\n",
      "Ordem                     \n",
      "121     Lápis         1000\n",
      "157     Lápis          750\n",
      "Igor\n",
      "\n",
      " Norte\n",
      "         Produto  Faturamento\n",
      "Ordem                        \n",
      "118    Apontador          680\n",
      "154    Apontador          510\n",
      "\n",
      " Sudeste\n",
      "      Produto  Faturamento\n",
      "Ordem                     \n",
      "119    Caneta          400\n",
      "120    Caneta          800\n",
      "155    Caneta          300\n",
      "156    Caneta          600\n",
      "\n",
      " Sul\n",
      "      Produto  Faturamento\n",
      "Ordem                     \n",
      "101    Caneta          300\n",
      "102    Caneta          600\n",
      "103     Lápis          750\n",
      "137    Caneta          250\n",
      "138    Caneta          500\n",
      "139     Lápis          625\n",
      "Matheus\n",
      "\n",
      " Nordeste\n",
      "        Produto  Faturamento\n",
      "Ordem                       \n",
      "134    Borracha          250\n",
      "170    Borracha          300\n",
      "\n",
      " Norte\n",
      "         Produto  Faturamento\n",
      "Ordem                        \n",
      "116     Borracha          400\n",
      "117    Apontador          600\n",
      "152     Borracha          250\n",
      "153    Apontador          375\n",
      "\n",
      " Sudeste\n",
      "        Produto  Faturamento\n",
      "Ordem                       \n",
      "132      Caneta           75\n",
      "133    Borracha          120\n",
      "168      Caneta          150\n",
      "169    Borracha          240\n",
      "\n",
      " Sul\n",
      "        Produto  Faturamento\n",
      "Ordem                       \n",
      "115    Borracha          320\n",
      "151    Borracha          200\n",
      "Nathalia\n",
      "\n",
      " Nordeste\n",
      "        Produto  Faturamento\n",
      "Ordem                       \n",
      "124    Borracha          120\n",
      "160    Borracha          240\n",
      "\n",
      " Sudeste\n",
      "         Produto  Faturamento\n",
      "Ordem                        \n",
      "107     Borracha          300\n",
      "108    Apontador          450\n",
      "109    Apontador          510\n",
      "143     Borracha          250\n",
      "144    Apontador          375\n",
      "145    Apontador          425\n",
      "\n",
      " Sul\n",
      "         Produto  Faturamento\n",
      "Ordem                        \n",
      "125     Borracha          150\n",
      "126    Apontador          225\n",
      "161     Borracha          300\n",
      "162    Apontador          450\n",
      "Valéria\n",
      "\n",
      " Nordeste\n",
      "         Produto  Faturamento\n",
      "Ordem                        \n",
      "110       Caneta          300\n",
      "111       Caneta          600\n",
      "112        Lápis          750\n",
      "135    Apontador          375\n",
      "136    Apontador          425\n",
      "146       Caneta          250\n",
      "147       Caneta          500\n",
      "148        Lápis          625\n",
      "171    Apontador          450\n",
      "172    Apontador          510\n",
      "\n",
      " Norte\n",
      "      Produto  Faturamento\n",
      "Ordem                     \n",
      "128    Caneta          150\n",
      "129    Caneta          300\n",
      "130     Lápis          375\n",
      "164    Caneta          300\n",
      "165    Caneta          600\n",
      "166     Lápis          750\n",
      "\n",
      " Sudeste\n",
      "      Produto  Faturamento\n",
      "Ordem                     \n",
      "131     Lápis          450\n",
      "167     Lápis          900\n",
      "\n",
      " Sul\n",
      "         Produto  Faturamento\n",
      "Ordem                        \n",
      "113        Lápis          900\n",
      "114       Caneta          200\n",
      "127    Apontador          255\n",
      "149        Lápis          750\n",
      "150       Caneta          125\n",
      "163    Apontador          510\n"
     ]
    }
   ],
   "source": [
    "x = venda.groupby([\"Vendedor\",\"Região\"])\n",
    "nomeant=''\n",
    "for nome, grupo in x:  #Nome é uma tupla contendo (vendedor, Região)\n",
    "    if nomeant != nome[0]:  # Exibe o nome do vendedor uma única vez\n",
    "        print(nome[0])\n",
    "        nomeant=nome[0] \n",
    "    print('\\n',nome[1])\n",
    "    print (grupo[['Produto','Faturamento']])\n",
    "    "
   ]
  },
  {
   "cell_type": "markdown",
   "metadata": {},
   "source": [
    "## Exercicios <a id=\"Exercicios3\"></a> "
   ]
  },
  {
   "cell_type": "markdown",
   "metadata": {},
   "source": [
    "Importar os dados da planilha <b>VendaCarros.xlsx</b>, formada pelos campos:\"DataNotaFiscal\", \"Fabricante\", \"Estado\", \"ValorVenda\", \"ValorCusto\", \"TotalDesconto\", \"CustoEntrega\", \"CustoMaoDeObra\", \"NomeCliente\", \"Modelo\", \"Cor\", \"Ano\". Exiba os primeiros 5 registros do DataFrame criado, bem como as informações resumo do Datarame."
   ]
  },
  {
   "cell_type": "code",
   "execution_count": 85,
   "metadata": {},
   "outputs": [
    {
     "name": "stdout",
     "output_type": "stream",
     "text": [
      "  DataNotaFiscal    Fabricante     Estado  ValorVenda  ValorCusto  \\\n",
      "0     2012-10-04   Rolls Royce  São Paulo       95000       50000   \n",
      "1     2012-01-01  Aston Martin  São Paulo      120000       75000   \n",
      "2     2012-02-02   Rolls Royce  São Paulo       88000       75000   \n",
      "3     2012-03-03   Rolls Royce  São Paulo       89000       88000   \n",
      "4     2012-04-04   Rolls Royce  São Paulo       92000       62000   \n",
      "\n",
      "   TotalDesconto  CustoEntrega  CustoMaoDeObra    NomeCliente       Modelo  \\\n",
      "0          500.0           750             750    Aldo Motors     Camargue   \n",
      "1            0.0          1500             550    Honest John          DBS   \n",
      "2          750.0          1000             550  Bright Orange  Prata Ghost   \n",
      "3            0.0          1000             550    Honest John  Prata Ghost   \n",
      "4            0.0          1500             550    Wheels'R'Us     Camargue   \n",
      "\n",
      "        Cor   Ano  \n",
      "0  Vermelho  2012  \n",
      "1      Azul  2012  \n",
      "2     Verde  2012  \n",
      "3      Azul  2012  \n",
      "4     Prata  2012  \n",
      "<class 'pandas.core.frame.DataFrame'>\n",
      "RangeIndex: 457 entries, 0 to 456\n",
      "Data columns (total 12 columns):\n",
      " #   Column          Non-Null Count  Dtype         \n",
      "---  ------          --------------  -----         \n",
      " 0   DataNotaFiscal  457 non-null    datetime64[ns]\n",
      " 1   Fabricante      457 non-null    object        \n",
      " 2   Estado          457 non-null    object        \n",
      " 3   ValorVenda      457 non-null    int64         \n",
      " 4   ValorCusto      457 non-null    int64         \n",
      " 5   TotalDesconto   457 non-null    float64       \n",
      " 6   CustoEntrega    457 non-null    int64         \n",
      " 7   CustoMaoDeObra  457 non-null    int64         \n",
      " 8   NomeCliente     457 non-null    object        \n",
      " 9   Modelo          457 non-null    object        \n",
      " 10  Cor             457 non-null    object        \n",
      " 11  Ano             457 non-null    int64         \n",
      "dtypes: datetime64[ns](1), float64(1), int64(5), object(5)\n",
      "memory usage: 43.0+ KB\n",
      "None\n"
     ]
    }
   ],
   "source": [
    "#Coloque seu código aqui \n",
    "\n",
    "carros = pd.read_excel(\"VendaCarros.xlsx\", sheet_name= 'VendaCarros' , names=[\"DataNotaFiscal\", \"Fabricante\", \"Estado\", \"ValorVenda\", \"ValorCusto\",\t\"TotalDesconto\", \"CustoEntrega\", \"CustoMaoDeObra\", \"NomeCliente\", \"Modelo\", \"Cor\", \"Ano\"\n",
    "])\n",
    "print(carros.head())\n",
    "\n",
    "print(carros.info())"
   ]
  },
  {
   "cell_type": "markdown",
   "metadata": {},
   "source": [
    "Exibir a quantidade de carros pelo Cliente *\"AldoMortors\"*."
   ]
  },
  {
   "cell_type": "code",
   "execution_count": 92,
   "metadata": {},
   "outputs": [
    {
     "data": {
      "text/plain": [
       "35"
      ]
     },
     "execution_count": 92,
     "metadata": {},
     "output_type": "execute_result"
    }
   ],
   "source": [
    "#Coloque seu código aqui !!\n",
    "\n",
    "qtd = carros[carros[\"NomeCliente\"]==\"Aldo Motors\"].count()\n",
    "\n",
    "qtd['NomeCliente']\n"
   ]
  },
  {
   "cell_type": "markdown",
   "metadata": {},
   "source": [
    "Exibir lucro obtido nas vendas dos carros do Fabricante Rolls Royce no Estado de São Paulo. O lucro é a diferença entre o valor de venda e a soma dos valores Custo\", Custo da Entrega, Custo de Mão de Obra e Desconto."
   ]
  },
  {
   "cell_type": "code",
   "execution_count": null,
   "metadata": {},
   "outputs": [],
   "source": [
    "#Coloque seu código aqui !!\n",
    "total = carros[(carros[\"Fabricante\"]==\"Rolls Royce\") & (carros[\"Estado\"]==\"São Paulo\")].sum()\n",
    "\n",
    "lucro = total['ValorVenda'] - sum(total[[\"ValorCusto\",\"TotalDesconto\", \"CustoEntrega\", \"CustoMaoDeObra\"]])\n",
    "print(lucro)"
   ]
  },
  {
   "cell_type": "markdown",
   "metadata": {},
   "source": [
    "Exbir o valor de venda e o ano da venda mais cara efetuada pelo Fabricante Aston Martin."
   ]
  },
  {
   "cell_type": "code",
   "execution_count": 97,
   "metadata": {},
   "outputs": [
    {
     "name": "stdout",
     "output_type": "stream",
     "text": [
      "Ano             2015\n",
      "ValorVenda    181250\n",
      "dtype: object\n"
     ]
    }
   ],
   "source": [
    "#Coloque seu código aqui !!\n",
    "\n",
    "maximo = carros[(carros[\"Fabricante\"]==\"Aston Martin\")].max()\n",
    "\n",
    "print(maximo[['Ano', 'ValorVenda']])"
   ]
  },
  {
   "cell_type": "markdown",
   "metadata": {},
   "source": [
    "Exibir o Nome do Fabricante, modelo e ano do carro mais barato vendido em Minas Gerais e com preço de venda superior a 100000.\n"
   ]
  },
  {
   "cell_type": "code",
   "execution_count": 104,
   "metadata": {},
   "outputs": [
    {
     "name": "stdout",
     "output_type": "stream",
     "text": [
      "Fabricante    Aston Martin\n",
      "Modelo         Continental\n",
      "Ano                   2012\n",
      "dtype: object\n"
     ]
    }
   ],
   "source": [
    "#Coloque seu código aqui !!\n",
    "\n",
    "minimo = carros[(carros[\"ValorVenda\"] > 100000 ) & (carros[\"Estado\"]==\"Minas Gerais\")].min()\n",
    "\n",
    "print(minimo[['Fabricante', 'Modelo', 'Ano']])"
   ]
  },
  {
   "cell_type": "markdown",
   "metadata": {},
   "source": [
    "Exbir a media de vendas de cada fabricante por estado"
   ]
  },
  {
   "cell_type": "code",
   "execution_count": 107,
   "metadata": {},
   "outputs": [
    {
     "name": "stdout",
     "output_type": "stream",
     "text": [
      "                                ValorVenda\n",
      "Fabricante   Estado                       \n",
      "Aston Martin Espírito Santo   41782.307692\n",
      "             Minas Gerais     70819.523810\n",
      "             Rio de Janeiro   97951.578947\n",
      "             São Paulo       129828.947368\n",
      "Bentley      Espírito Santo  111375.000000\n",
      "             Minas Gerais     65708.333333\n",
      "             Paraná           46750.000000\n",
      "             Rio de Janeiro   69620.370370\n",
      "             São Paulo        68792.857143\n",
      "Jaguar       Bahia            37375.000000\n",
      "             Espírito Santo   64321.428571\n",
      "             Minas Gerais     42400.000000\n",
      "             Paraná           34625.000000\n",
      "             Rio de Janeiro   52903.846154\n",
      "             São Paulo        45274.590164\n",
      "MGB          Rio de Janeiro   29000.000000\n",
      "             São Paulo        27625.000000\n",
      "Rolls Royce  Espírito Santo   64100.000000\n",
      "             Minas Gerais     62216.666667\n",
      "             Rio de Janeiro  117692.857143\n",
      "             São Paulo       130901.515152\n",
      "TVR          Bahia            35500.000000\n",
      "             Espírito Santo   32500.000000\n",
      "             Minas Gerais     29750.000000\n",
      "             Paraná           44000.000000\n",
      "             Rio de Janeiro   35416.666667\n",
      "             São Paulo        36333.333333\n",
      "Triumph      Minas Gerais     28000.000000\n",
      "             Paraná           23875.000000\n",
      "             Rio de Janeiro   26900.000000\n",
      "             São Paulo        25250.000000\n"
     ]
    }
   ],
   "source": [
    "x = carros.groupby([\"Fabricante\",\"Estado\"])[['ValorVenda']].mean()\n",
    "print(x)"
   ]
  }
 ],
 "metadata": {
  "kernelspec": {
   "display_name": "Python 3",
   "language": "python",
   "name": "python3"
  },
  "language_info": {
   "codemirror_mode": {
    "name": "ipython",
    "version": 3
   },
   "file_extension": ".py",
   "mimetype": "text/x-python",
   "name": "python",
   "nbconvert_exporter": "python",
   "pygments_lexer": "ipython3",
   "version": "3.7.6"
  }
 },
 "nbformat": 4,
 "nbformat_minor": 4
}
