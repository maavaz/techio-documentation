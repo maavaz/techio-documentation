{
 "cells": [
  {
   "cell_type": "markdown",
   "metadata": {},
   "source": [
    "# Exercícios Numpy"
   ]
  },
  {
   "cell_type": "markdown",
   "metadata": {},
   "source": [
    "<b></b>\n",
    "A biblioteca Numpy é uma biblioteca numérica do Python para arrays multidimensionais.É muito importante para computação científica no Python, pois suporta operações com vetores e matrizes multidimensionais de alta performance, além de várias ferramentas para se trabalhar com essas matrizes."
   ]
  },
  {
   "cell_type": "markdown",
   "metadata": {},
   "source": [
    "<a name=\"top\"></a>Conteúdo\n",
    "===\n",
    "\n",
    "- [Criando um array numpy](#Criando_Array_Numpy)\n",
    "- [Fatiamento (slice) de array](#Fatiamento_Array)\n",
    "    - [Fatiamento em array unidimensional](#Fatiamento_unidimensional)\n",
    "    - [Fatiamento em arrays multidimensionais](#Fatiamento_multidimensional)\n",
    "- [Ordenamento de Arrays](#Ordenamento_Array)\n",
    "- [Agregações: Min, Max, etc..](#Agregacoes_Array)\n",
    "    - [Somando os valores em um array](#Somando_Array)\n",
    "    - [Minimo_e Maximo](#Minimo_Maximo)\n",
    "    - [Funções agregadas em arrays multidimensionais](#Agregadas)\n",
    "    - [Exercicios](#Exercicios)\n",
    "    - [Desafio 1](#Desafio1)\n",
    "- [Operações aritméticas em arrays](#Operacoes_Aritmeticas)\n",
    "    - [Multiplicação de Matrizes](#Multiplicação)\n",
    "    - [Operadores de comparação](#Operadores)\n",
    "    - [Elementos Distintos em Arrays](#Distintos)\n",
    "    - [Contagem](#Contagem)\n",
    "    - [Revisitando o Desafio 1](#Revisita)\n",
    "    - [Exercícios](#Exercicios1)\n",
    "    - [Operadores booleanos](#Booleanos)\n",
    "    - [Seleção em matrizes booleanas](#Selecao_Booleana)\n",
    "    - [Desafio 2](#Desafio2)"
   ]
  },
  {
   "cell_type": "markdown",
   "metadata": {},
   "source": [
    "Para se trabalhar com a biblioteca NumPy é necessário realizar sua importação."
   ]
  },
  {
   "cell_type": "code",
   "execution_count": 2,
   "metadata": {},
   "outputs": [],
   "source": [
    "import numpy as np"
   ]
  },
  {
   "cell_type": "markdown",
   "metadata": {},
   "source": [
    "<a id=\"Criando_Array_Numpy\"></a> \n",
    "Criando um array numpy. \n",
    "---\n",
    "Um array numpy é um conjunto de variáveis que armazenam valores do mesmo tipo. Semelhantemente as lista Python, o acesso aos valores do array é efetuado através de índices inteiros não negativos. Os arrays podem ser uni (1D), bi(2D), ... dimensionais.\n",
    "A criação de arrays pode ser efetuada de várias maneiras. A maneira mais simples é através da função **``np.array(lista/tupla)``**. As dimensões das matrizes são dadas no momento da criação, isto é, o número de dimensões do array é dado pela informação do tamanho de cada dimensão. Pesquise as diferentes formas de criação de arrays NumPy:\n",
    "1. matriz vazia (empty) - utiliza-se a função.**``np.empty(dimensões/tamanho)``**\n",
    "2. matriz incializada com zeros - utiliza-se a função. **``np.zeros(dimensões/tamanho)``**\n",
    "3. matriz inicializada com o valor 1 - utiliza-se a função. **``np.ones(dimensões/tamanho)``**\n",
    "4. com x elementos de um valor inicial até final - utiliza-se a função. **``np.array(Range(tamanho ou intervalo))``** ou **``np.arange([inicio],fim,[tamanho intervalo])``**\n",
    "5. matriz inicializada com valores booleanos. **``np.ones (tamanho,dtype=bool)``** ou **``np.full(dimensão,preenchimento,dtype=bool)``**\n",
    "6. matriz inicializada com valores dentro de um intervalo, distribuídos uniformemente. **``np.linspace(inicio,fim,tamanho intervalo)``**\n",
    "7. matriz identidade - matriz quadrada inicializada com zeros exceto na diagonal formada por 1's. **``np.identity(ordem da matriz)``**.\n",
    "8. Matriz eye - cria uma matriz identidade bidimensional. **``np.eye(linhas, colunas)``**\n",
    "9. matriz full - Cria uma matriz com valor de preenchimento dado. **``np.full(dimensão, valorpreenchimento)``**"
   ]
  },
  {
   "cell_type": "markdown",
   "metadata": {},
   "source": [
    "Crie 6 arrays unidimensionais - 1D (Vetor) com 10 elementos cada:<br>\n",
    "    1. sem inicialização (empty)\n",
    "    2. inicializa todos elementos com valor zero (zeros)\n",
    "    3. inicializar todos elementos com valor 1 (ones)\n",
    "    4. inicializar com números de 1 a 10 (array)\n",
    "    5. inicializar com valor True (full com dtype = bool)\n",
    "    6. inicializar com valores entre 1 e 10 com 6 elementos espaçados uniformente (linspace).\n",
    "    OBS: Mostre os vetores criados"
   ]
  },
  {
   "cell_type": "code",
   "execution_count": 36,
   "metadata": {},
   "outputs": [
    {
     "name": "stdout",
     "output_type": "stream",
     "text": [
      "vazio =  [ 1.   2.5  4.   5.5  7.   8.5 10.  11.5 13.  14.5] \n",
      "\n",
      "zeros =  [0. 0. 0. 0. 0. 0. 0. 0. 0. 0.] \n",
      "\n",
      "Ums =  [1. 1. 1. 1. 1. 1. 1. 1. 1. 1.] \n",
      "\n",
      "dez =  [ 1  2  3  4  5  6  7  8  9 10] \n",
      "\n",
      "boole =  [ True  True  True  True  True  True  True  True  True  True] \n",
      "\n",
      "ara =  [ 1.   2.5  4.   5.5  7.   8.5 10.  11.5 13.  14.5] \n",
      "\n",
      "lin =  [ 1.   2.8  4.6  6.4  8.2 10. ] \n",
      "\n"
     ]
    }
   ],
   "source": [
    "# Coloque seu código Aqui\n",
    "vazio = np.empty(10) #sem inicialização (empty)\n",
    "print('vazio = ', vazio, '\\n')\n",
    "\n",
    "zero = np.zeros(10) # inicializa todos elementos com valor zero\n",
    "print('zeros = ', zero, '\\n')\n",
    "\n",
    "ums = np.ones(10) # inicializar todos elementos com valor 1 \n",
    "print('Ums = ', ums, '\\n')\n",
    "\n",
    "dez = np.array(range(1,11)) # inicializar com números de 1 a 10\n",
    "print('dez = ', dez, '\\n')\n",
    "\n",
    "boole = np.full([10], 1, dtype = bool) # inicializar com valor True\n",
    "print('boole = ', boole, '\\n')\n",
    "\n",
    "lin = np.linspace(1,10, 6) # inicializar com valores entre 1 e 10 com 6 elementos espaçados uniformente\n",
    "print('lin = ', lin, '\\n')\n",
    "\n",
    "# Extra\n",
    "ara = np.arange(1,15, 1.5) # inicializar com valores entre 1 e 10 com 6 elementos espaçados uniformente\n",
    "print('ara = ', ara, '\\n')"
   ]
  },
  {
   "cell_type": "markdown",
   "metadata": {},
   "source": [
    "Crie 4 arrays bidimensionais-2D (matriz) com 3 linhas e 4 colunas (3X4):\n",
    "    1. inicializada com zeros (função full)\n",
    "    2. inicializada com 1's\n",
    "    3. inicializada com valor booleano False\n",
    "  "
   ]
  },
  {
   "cell_type": "code",
   "execution_count": 30,
   "metadata": {},
   "outputs": [
    {
     "name": "stdout",
     "output_type": "stream",
     "text": [
      "ums2d =  [[0 0 0 0]\n",
      " [0 0 0 0]\n",
      " [0 0 0 0]] \n",
      "\n",
      "one2d =  [[1. 1. 1. 1.]\n",
      " [1. 1. 1. 1.]\n",
      " [1. 1. 1. 1.]] \n",
      "\n",
      "boole =  [[False False False False]\n",
      " [False False False False]\n",
      " [False False False False]] \n",
      "\n"
     ]
    }
   ],
   "source": [
    "#Coloque seu código aqui\n",
    "ums2d = np.full([3,4], 0, dtype = int) # inicializar com valor zeros\n",
    "print('ums2d = ', ums2d, '\\n')\n",
    "\n",
    "one2d = np.ones([3,4]) # inicializar com valor 1\n",
    "print('one2d = ', one2d, '\\n')\n",
    "\n",
    "bool2d = np.full([3,4], 0, dtype = bool) # inicializar com valor True\n",
    "print('boole = ', bool2d, '\\n')"
   ]
  },
  {
   "cell_type": "markdown",
   "metadata": {},
   "source": [
    "Crie 2 matriz quadrada 4X4 com os valor 1 na diagonal (use as funções np.identity e np.eye)"
   ]
  },
  {
   "cell_type": "code",
   "execution_count": 52,
   "metadata": {},
   "outputs": [
    {
     "name": "stdout",
     "output_type": "stream",
     "text": [
      "id2d=  [[1. 0. 0. 0.]\n",
      " [0. 1. 0. 0.]\n",
      " [0. 0. 1. 0.]\n",
      " [0. 0. 0. 1.]] \n",
      "\n",
      "[[1. 0. 0. 0.]\n",
      " [0. 1. 0. 0.]\n",
      " [0. 0. 1. 0.]\n",
      " [0. 0. 0. 1.]] \n",
      "\n"
     ]
    }
   ],
   "source": [
    "# Coloque seu código aqui\n",
    "\n",
    "id2d = np.identity(4) # inicializar com valor 1 na diagonal\n",
    "print('id2d= ', id2d, '\\n')\n",
    "\n",
    "ey2d = np.eye(4, k=0) # inicializar com valor 1 na diagonal k = 0 (diag. principal), k = -1 abaixo da dig e k = 1 acima\n",
    "print( ey2d, '\\n')"
   ]
  },
  {
   "cell_type": "markdown",
   "metadata": {},
   "source": [
    "Dada a matriz abaixo, exiba os valores da diagonal da matriz (np.diag)"
   ]
  },
  {
   "cell_type": "code",
   "execution_count": 39,
   "metadata": {},
   "outputs": [
    {
     "name": "stdout",
     "output_type": "stream",
     "text": [
      "dia =  [1 6 6 1]\n"
     ]
    }
   ],
   "source": [
    "mat = [[1,2,3,4],\n",
    "       [5,6,7,8],\n",
    "       [8,7,6,5],\n",
    "       [4,3,2,1]]\n",
    "\n",
    "#Coloque seu código aqui\n",
    "dia = np.diag(mat)\n",
    "print('dia = ', dia)"
   ]
  },
  {
   "cell_type": "markdown",
   "metadata": {},
   "source": [
    "[voltar ao topo](#top)"
   ]
  },
  {
   "cell_type": "markdown",
   "metadata": {},
   "source": [
    "<a id=\"Fatiamento_Array\"></a> Fatiamento (slice) de array\n",
    "---\n",
    "Para acessarmos partes do array utilizamos a notação *slice*, marcada pelo caractere de dois pontos (**``: ``**) para representar o intervalo do array que se quer acessar.\n",
    "\n",
    "A sintaxe de fatiamento NumPy segue a da lista padrão do Python; para acessar uma fatia do **``array``**, use o seguinte:\n",
    "\n",
    "**``\n",
    "array[inicio : fim : passo]\n",
    "``**\n",
    "<br><br>Se algum desses itens não for especificado, eles serão padronizados com os valores **`` inicio = 0``, `` fim = tamanho da dimensão`` , ``passo = 1``**.\n",
    "\n",
    "Vamos analisar o acesso a sub-matrizes em uma dimensão e em várias dimensões."
   ]
  },
  {
   "cell_type": "markdown",
   "metadata": {},
   "source": [
    "<a id=\"Fatiamento_unidimensional\"></a> \n",
    "### Fatiamento em array unidimensional"
   ]
  },
  {
   "cell_type": "code",
   "execution_count": 53,
   "metadata": {},
   "outputs": [
    {
     "data": {
      "text/plain": [
       "array([10, 12, 14, 16, 18, 20, 22, 24, 26, 28, 30, 32])"
      ]
     },
     "execution_count": 53,
     "metadata": {},
     "output_type": "execute_result"
    }
   ],
   "source": [
    "arr = np.arange(10, 34, 2)  # Cria o array arr iniciando em 10 incrementando de 2 unidades até o 34\n",
    "arr"
   ]
  },
  {
   "cell_type": "code",
   "execution_count": 54,
   "metadata": {},
   "outputs": [
    {
     "data": {
      "text/plain": [
       "array([10, 12, 14, 16])"
      ]
     },
     "execution_count": 54,
     "metadata": {},
     "output_type": "execute_result"
    }
   ],
   "source": [
    "arr[:4]  # primeiros quatro elementos\n"
   ]
  },
  {
   "cell_type": "code",
   "execution_count": 55,
   "metadata": {},
   "outputs": [
    {
     "data": {
      "text/plain": [
       "array([20, 22, 24, 26, 28, 30, 32])"
      ]
     },
     "execution_count": 55,
     "metadata": {},
     "output_type": "execute_result"
    }
   ],
   "source": [
    "arr[5:] # exibe a partir do 6º elemento até o final\n"
   ]
  },
  {
   "cell_type": "code",
   "execution_count": 60,
   "metadata": {},
   "outputs": [
    {
     "data": {
      "text/plain": [
       "array([12, 16, 20, 24, 28, 32])"
      ]
     },
     "execution_count": 60,
     "metadata": {},
     "output_type": "execute_result"
    }
   ],
   "source": [
    "arr[1::2] # exibe os elementos espaçados de 2 em 2 posições, a partir da  posição 2 até o fim do array.\n"
   ]
  },
  {
   "cell_type": "markdown",
   "metadata": {},
   "source": [
    "Um caso particularmente interessante é quando o passo é negativo. Nesse caso, os padrões para iniciar e parar são trocados. Isso se torna uma maneira conveniente de reverter uma matriz:"
   ]
  },
  {
   "cell_type": "code",
   "execution_count": 61,
   "metadata": {},
   "outputs": [
    {
     "data": {
      "text/plain": [
       "array([32, 30, 28, 26, 24, 22, 20, 18, 16, 14, 12, 10])"
      ]
     },
     "execution_count": 61,
     "metadata": {},
     "output_type": "execute_result"
    }
   ],
   "source": [
    "arr[::-1]  # exibe todos os elementos na ordem inversa\n"
   ]
  },
  {
   "cell_type": "code",
   "execution_count": 62,
   "metadata": {},
   "outputs": [
    {
     "data": {
      "text/plain": [
       "array([20, 16, 12])"
      ]
     },
     "execution_count": 62,
     "metadata": {},
     "output_type": "execute_result"
    }
   ],
   "source": [
    "arr[5::-2]  # exibe os elementos a partir do índice 5, de -2 em -2,até \n"
   ]
  },
  {
   "cell_type": "markdown",
   "metadata": {},
   "source": [
    "<a id=\"Fatiamento_multidimensional\"></a> \n",
    "### Fatiamento em arrays multidimensionais\n",
    "\n",
    "O fatiamento em arrays multidimensionais acontece do mesmo modo, com exceção de que você deverá fazer o fatiamento por dimensão."
   ]
  },
  {
   "cell_type": "code",
   "execution_count": 64,
   "metadata": {},
   "outputs": [
    {
     "data": {
      "text/plain": [
       "array([[10, 12, 14],\n",
       "       [16, 18, 20],\n",
       "       [22, 24, 26],\n",
       "       [28, 30, 32]])"
      ]
     },
     "execution_count": 64,
     "metadata": {},
     "output_type": "execute_result"
    }
   ],
   "source": [
    "arr = arr.reshape((4,3)) #Redimensiona o array para 5 linhas x 2 colunas\n",
    "arr"
   ]
  },
  {
   "cell_type": "code",
   "execution_count": 10,
   "metadata": {},
   "outputs": [],
   "source": [
    "arr[:2,:2] # exibe o array com 2 linhas e 2 colunas"
   ]
  },
  {
   "cell_type": "code",
   "execution_count": 11,
   "metadata": {},
   "outputs": [],
   "source": [
    "arr[:-1,:-1] #Exibe da 1 linha até a penúltima e da 1 coluna até a penúltima"
   ]
  },
  {
   "cell_type": "markdown",
   "metadata": {},
   "source": [
    "[voltar ao topo](#top)"
   ]
  },
  {
   "cell_type": "markdown",
   "metadata": {},
   "source": [
    " <a id=\"Ordenamento_Array\"></a> \n",
    "Ordenamento de Arrays\n",
    "---"
   ]
  },
  {
   "cell_type": "markdown",
   "metadata": {},
   "source": [
    "Ordenamento de arrays permite clssificar (ordenar) os elementos de um array, de modo ascendente ou descente. O objeto NumPy ndarray possui uma função **``np.sort(array, axis=0/1)``**, que classifica uma matriz especificada. O **``axis``** é usado para matriz multidimensionais para indicar se a ordenação é 0 por coluna ou 1 por linha.<br>\n",
    "Para realizar a classificação em ordem descendente, use:  **``-np.sort(-array)``**"
   ]
  },
  {
   "cell_type": "code",
   "execution_count": 69,
   "metadata": {},
   "outputs": [
    {
     "name": "stdout",
     "output_type": "stream",
     "text": [
      "[-4 -1  1  3  7  8] \n",
      "\n",
      "[[-4 -1  3  7  8]\n",
      " [-1  4  5  6  8]]\n"
     ]
    }
   ],
   "source": [
    "# Classifique o array 1D (em linha) em ordem ascendente (sort)\n",
    "ar1 = np.array([1,8,-4, 3, -1, 7])\n",
    "\n",
    "#Coloque seu código aqui\n",
    "\n",
    "ar1.sort()\n",
    "print(ar1,'\\n')\n",
    "\n",
    "# # Classifique o array 2D (em linha) em ordem ascendente (sort)\n",
    "ar2 = np.array([[8,-4, 3, -1, 7], [6, 8, 5, 4,-1]])\n",
    "\n",
    "#Coloque seu código aqui\n",
    "\n",
    "ar2.sort(axis=1)\n",
    "print(ar2)\n"
   ]
  },
  {
   "cell_type": "code",
   "execution_count": 72,
   "metadata": {},
   "outputs": [
    {
     "name": "stdout",
     "output_type": "stream",
     "text": [
      "[11 10  9  8  7]\n"
     ]
    }
   ],
   "source": [
    "# Classifique o Array unidimensional (em linha) em ordem descendente (ordem inversa)\n",
    "\n",
    "ar1 = np.array([8, 9, 10, 7, 11])\n",
    "\n",
    "#Coloque seu código aqui\n",
    "ar1 = -np.sort(-ar1)\n",
    "print(ar1)"
   ]
  },
  {
   "cell_type": "markdown",
   "metadata": {},
   "source": [
    "<a id=\"Agregacoes_Array\"></a> \n",
    "Agregações: Min, Max, etc..\n",
    "---\n",
    "Muitas vezes, quando confrontados com uma grande quantidade de dados, um primeiro passo é calcular estatísticas sumárias para os dados em questão.\n",
    "Talvez as estatísticas sumárias mais comuns sejam o desvio médio e padrão, que permitem resumir os valores \"típicos\" em um conjunto de dados, mas outros agregados também são úteis (a soma, produto, mediana, mínimo e máximo, quantiles, etc.).\n",
    "\n",
    "O NumPy tem funções rápidas de agregação incorporadas para trabalhar em arrays:\n"
   ]
  },
  {
   "cell_type": "markdown",
   "metadata": {},
   "source": [
    "[voltar ao topo](#top)"
   ]
  },
  {
   "cell_type": "markdown",
   "metadata": {},
   "source": [
    "<a id=\"Somando_Array\"></a> \n",
    "## Somando os valores em um array\n",
    "\n",
    "Um rápido exemplo: considere calcular a soma de todos os valores em um array. \n",
    "O próprio Python pode fazer isso usando a função **``sum``** incorporada:\n",
    "+ **sum(array)** - Função soma do python\n",
    "+ **numpy.sum(array)** - Função soma Numpy"
   ]
  },
  {
   "cell_type": "code",
   "execution_count": 73,
   "metadata": {},
   "outputs": [
    {
     "name": "stdout",
     "output_type": "stream",
     "text": [
      "51.56363526311981 \n",
      "\n",
      "51.56363526311979\n"
     ]
    }
   ],
   "source": [
    "arr = np.random.random(100)    #Cria randomicamente 100 números em um array numpy\n",
    "x = sum(arr)     # Função soma do Python\n",
    "print(x, '\\n')\n",
    "\n",
    "x = np.sum(arr)     # Função soma do NumPy\n",
    "print(x)\n"
   ]
  },
  {
   "cell_type": "markdown",
   "metadata": {},
   "source": [
    "<a id=\"Minimo_Maximo\"></a> \n",
    "## Mínimo e Máximo\n",
    "\n",
    "Da mesma forma, o Python possui funções incorporadas  **``min``  e  ``max``** , usadas para encontrar o valor mínimo e o valor máximo de qualquer matriz:\n",
    "+ **min(array) e max(array)** - Funções mínimo e máximo do python\n",
    "+ **numpy.min(array) e numpy.max(array)**  - Funções mínimo e máximo do Numpy\n",
    "\n",
    "obs:np.random.randint(início,fim, (qtd_arr, lin, col)) #Gera qtd_arr matrizes lin,col aleatoriamente de números inteiros"
   ]
  },
  {
   "cell_type": "code",
   "execution_count": 5,
   "metadata": {},
   "outputs": [
    {
     "name": "stdout",
     "output_type": "stream",
     "text": [
      "[[41 40 10 33 44 57 55 83 73  5 87 83 91 88 28 72 79 99 29 11 95 57 18 61\n",
      "  64 80 52 67 91 11 76 80 48 58 22 46 64 93 97 31 56 53 23  3 95 46 37  6\n",
      "  68 70 22  2 17 29 42 31 24 37  6 99 22  2 10 43 88 51 72 17  5  8 82 93\n",
      "  35 18 49 32 91 24  5  4 48 49 44 70 33 22 78 74 43 11  5 59 87 13  8  3\n",
      "  96 66 65 66]]\n",
      "maior =  99 \n",
      "\n",
      "menor =  2 \n",
      "\n",
      "[[[64 98 93]\n",
      "  [93 89 93]\n",
      "  [87 67 18]]]\n",
      "maior =  98 \n",
      "\n",
      "menor =  18 \n",
      "\n"
     ]
    }
   ],
   "source": [
    "#Criar randomicamente um array numpy com 100 números e mostre o maior e o menor elemento do vetor criado\n",
    "#Coloque seu código aqui\n",
    "aleat = np.random.randint(1, 100, (1, 100))  # usar o módulo randint 1D\n",
    "print(aleat)\n",
    "maior =aleat.max() \n",
    "print('maior = ', maior, '\\n')\n",
    "menor =aleat.min() \n",
    "print('menor = ', menor, '\\n')\n",
    "#####################\n",
    "aleat = np.random.randint(1, 100, (1, 3, 3))  # usar o módulo randint 2D\n",
    "print(aleat)\n",
    "maior =aleat.max() \n",
    "print('maior = ', maior, '\\n')\n",
    "menor =aleat.min() \n",
    "print('menor = ', menor, '\\n')\n",
    "\n"
   ]
  },
  {
   "cell_type": "markdown",
   "metadata": {},
   "source": [
    "[voltar ao topo](#top)"
   ]
  },
  {
   "cell_type": "markdown",
   "metadata": {},
   "source": [
    "<a id=\"Agregadas\"></a> \n",
    "## Funções agregadas em arrays multidimensionais\n",
    "\n",
    "É possivel o uso de funções agregadas em arrays multidimensionais. Nesse tipo de arrays a operação de agregação pode ser aplicada ao array como um todo, mas também podemos aplicá-las ao longo de uma linha ou coluna, para isso utilizamos o argumento axis = 0 ou -1 para coluna e axis= 1 para linhas."
   ]
  },
  {
   "cell_type": "markdown",
   "metadata": {},
   "source": [
    "Podemos randomicamente um array bidimensional 3X3 e mostrar a soma do array como um todo, ao longo das linhas e das colunas. Mostre os valores encontrados."
   ]
  },
  {
   "cell_type": "code",
   "execution_count": 14,
   "metadata": {},
   "outputs": [
    {
     "name": "stdout",
     "output_type": "stream",
     "text": [
      "[[0.25715916 0.23375593 0.09326785]\n",
      " [0.47895139 0.43035333 0.56421807]\n",
      " [0.23753424 0.53518479 0.10797088]] \n",
      "\n",
      "2.93839563194321 \n",
      "\n",
      "[0.58418293 1.47352278 0.88068991] \n",
      "\n",
      "[0.58418293 1.47352278 0.88068991] \n",
      "\n",
      "[[[76 57 37]\n",
      "  [63 21  9]\n",
      "  [90 43 34]]]\n",
      "somalin =  [[229 121  80]] \n",
      "\n",
      "somacol =  [[170  93 167]] \n",
      "\n"
     ]
    }
   ],
   "source": [
    "#Criar um array randomico bidimensional 3X3 Float\n",
    "arr = np.random.random(9).reshape((3, 3)) #A função reshape() redimensiona o array 1D para um array 2D\n",
    "print(arr,'\\n')\n",
    "#Somar todos os elementos do array\n",
    "print(arr.sum(),'\\n')\n",
    "\n",
    "#Somar todas as colunas do array\n",
    "print(arr.sum(axis=-1),'\\n')\n",
    "\n",
    "#Somar todas as linhas do array\n",
    "print(arr.sum(axis=1),'\\n')\n",
    "\n",
    "#####################\n",
    "alea = np.random.randint(1, 100, (1, 3, 3))  # usar o módulo randint 2D\n",
    "\n",
    "print(alea)\n",
    "\n",
    "somalin = alea.sum(axis=1) \n",
    "print('somalin = ', somalin, '\\n')\n",
    "\n",
    "somacol = alea.sum(axis=-1) \n",
    "print('somacol = ', somacol, '\\n')\n",
    "\n",
    "#x = np.array([[12, 94, 18],\n",
    "#  [11, 52, 31],\n",
    "#  [29, 41, 37],\n",
    "#  [80,  1, 71]])\n",
    "\n",
    "#print(x.sum(axis=0))  "
   ]
  },
  {
   "cell_type": "markdown",
   "metadata": {},
   "source": [
    "Como falado anteriormente, em arrays com mais de uma dimensão, as funções de agregação levam um argumento adicional especificando o eixo ao longo do qual o agregado é calculado. Por exemplo, podemos encontrar o valor mínimo dentro de cada coluna (axis=0/-1) ou cada linha(axis=1).\n"
   ]
  },
  {
   "cell_type": "markdown",
   "metadata": {},
   "source": [
    "Criar randomicamente um array bidimensional 3X3 e mostrar os valores máximo e mínimo do array como um todo, ao longo das linhas e das colunas. Mostre os valores encontrados."
   ]
  },
  {
   "cell_type": "code",
   "execution_count": 11,
   "metadata": {},
   "outputs": [
    {
     "name": "stdout",
     "output_type": "stream",
     "text": [
      "maior =  74 \n",
      "\n",
      "menor =  5 \n",
      "\n",
      "maiorcol =  [[74 28 71]] \n",
      "\n",
      "menorcol =  [[32 25  5]] \n",
      "\n",
      "maiorlin =  [[74 32 47]] \n",
      "\n",
      "menorlin =  [[26  5 28]] \n",
      "\n"
     ]
    }
   ],
   "source": [
    "#Coloque seu código aqui\n",
    "\n",
    "aleat = np.random.randint(1, 100, (1, 3, 3))  # usar o módulo randint 2D\n",
    "#print(aleat)\n",
    "maior =aleat.max() \n",
    "print('maior = ', maior, '\\n')\n",
    "menor =aleat.min()\n",
    "print('menor = ', menor, '\\n')\n",
    "\n",
    "macol = aleat.max(axis=-1) \n",
    "print('maiorcol = ', macol, '\\n')\n",
    "\n",
    "micol = aleat.min(axis=-1) \n",
    "print('menorcol = ', micol, '\\n')\n",
    "\n",
    "malin = aleat.max(axis=1) \n",
    "print('maiorlin = ', malin, '\\n')\n",
    "\n",
    "milin = aleat.min(axis=1) \n",
    "print('menorlin = ', milin, '\\n')"
   ]
  },
  {
   "cell_type": "markdown",
   "metadata": {},
   "source": [
    "<a id=\"Outras_Funcoes\"></a> \n",
    "### Outras funções de agregação\n",
    "\n",
    "NumPy fornece muitas outras funções de agregação, mas não vamos discuti-las em detalhes aqui.\n",
    "\n",
    "A tabela a seguir fornece uma lista de funções úteis de agregação disponíveis no NumPy: <br>\n",
    "\n",
    "\n",
    "|   Função          |                  Descrição                         |\n",
    "|-------------------|----------------------------------------------------|\n",
    "| ``np.sum``        | Computa a soma dos elementos                       |\n",
    "| ``np.prod``       | Computa o produto dos elementos                    |\n",
    "| ``np.mean``       | Computa média dos elementos                        |\n",
    "| ``np.std``        | Computa o desvio padrão                            |\n",
    "| ``np.var``        | Computa a variança                                 |\n",
    "| ``np.min``        | Encontra o menor valor                             |\n",
    "| ``np.max``        | Encontra o maior valor                             |\n",
    "| ``np.argmin``     | Encontra o índice do menor valor                   |\n",
    "| ``np.argmax``     | Encontra o index do maior valor                    |\n",
    "| ``np.median``     | Computa a mediana dos elementos                    |\n",
    "| ``np.percentile`` | Computa estatísticas baseadas em rank de elementos |\n",
    "| ``np.any``        | Avalia se ha algum elemento é verdadeiro           |\n",
    "| ``np.all``        | Avalia se todos os elementos são verdadeiro        |\n",
    "\n",
    "\n"
   ]
  },
  {
   "cell_type": "markdown",
   "metadata": {},
   "source": [
    "[voltar ao topo](#top)"
   ]
  },
  {
   "cell_type": "markdown",
   "metadata": {},
   "source": [
    "<a id=\"Exercicios\"></a> \n",
    "### <font color=\"red\">Exercícios</font>"
   ]
  },
  {
   "cell_type": "code",
   "execution_count": 22,
   "metadata": {},
   "outputs": [],
   "source": [
    "# Lista com os nomes dos presidentes\n",
    "presidentes = [\"Michel Temer\",\"Getúlio Vargas\",\"Artur da Costa e Silva\",\"Nereu Ramos\",\"Ernesto Geisel\",\"Castelo Branco\",\n",
    "               \"Augusto Rademaker\",\"Emílio Garrastazu Médici\",\"Aurélio de Lira Tavare\",\"Jair Bolsonaro\",\n",
    "               \"Fernando Henrique Cardoso\",\"Márcio de Sousa Melo\",\"Dilma Rousseff\",\"Eurico Gaspar Dutra\",\n",
    "               \"Itamar Franco\",\"Deodoro da Fonseca\",\"Carlos Luz\",\"João Figueiredo\",\"Augusto Tasso Fragoso\",\n",
    "               \"José Linhares\",\"Afonso Pena\",\"Campos Sales\",\"Luiz Inácio Lula da Silva\",\"Washington Luís\",\n",
    "               \"Isaías de Noronha\",\"João Mena Barreto\",\"Café Filho\",\"Hermes da Fonseca\",\"José Sarney\",\"Rodrigues Alves\",\n",
    "               \"Epitácio Pessoa\",\"Ranieri Mazzilli\",\"Juscelino Kubitschek\",\"Prudente de Morais\",\"Floriano Peixoto\",\n",
    "               \"Ranieri Mazzilli\",\"Delfim Moreira\",\"Getúlio Vargas\",\"Artur Bernardes\",\"Venceslau Brás\",\"Jânio Quadros\",\n",
    "               \"João Goulart\",\"Nilo Peçanha\",\"Fernando Collor\"]\n",
    "\n",
    "# Numpy array com as idades correspondentes do presidente ao chegar à presidência.\n",
    "idades = np.array([75, 68, 67, 67, 66, 66, 64, 63, 63, 63, 63, \n",
    "                    63, 63, 62, 62, 62, 61, 61, 61, 59, 58, 57, 57, 57, 56, 56, 55, 55, 54, \n",
    "                    54, 54, 53, 53, 53, 52, 51, 50, 48, 47, 46, 44, 42, 41, 40])\n"
   ]
  },
  {
   "cell_type": "markdown",
   "metadata": {},
   "source": [
    "Exiba a média e o desvio padrão das Idades dos Presidentes do Brasil."
   ]
  },
  {
   "cell_type": "code",
   "execution_count": 23,
   "metadata": {},
   "outputs": [
    {
     "name": "stdout",
     "output_type": "stream",
     "text": [
      "media = 57.09090909090909 \n",
      "\n",
      "Desvio Padrão =  7.739562419561004\n"
     ]
    }
   ],
   "source": [
    "#Coloque seu código aqui\n",
    "\n",
    "media = idades.mean()\n",
    "print(\"media =\", media, '\\n')\n",
    "\n",
    "std = idades.std()\n",
    "print('Desvio Padrão = ', std)"
   ]
  },
  {
   "cell_type": "markdown",
   "metadata": {},
   "source": [
    "Exiba os nomes dos presidentes mais novos e mais velhos que assumiram a presidência "
   ]
  },
  {
   "cell_type": "code",
   "execution_count": 24,
   "metadata": {},
   "outputs": [
    {
     "name": "stdout",
     "output_type": "stream",
     "text": [
      "Fernando Collor foi o presidente mais novo a assumir a presidência com 40 anos\n",
      "\n",
      "Michel Temer foi o presidente mais velho a assumir a presidência com 75 anos\n"
     ]
    }
   ],
   "source": [
    "#Coloque seu código aqui\n",
    "indnovo = idades.argmin()\n",
    "indvelho = idades.argmax()\n",
    "print(presidentes[indnovo], 'foi o presidente mais novo a assumir a presidência com', idades[indnovo], 'anos\\n')\n",
    "print(presidentes[indvelho], 'foi o presidente mais velho a assumir a presidência com', idades[indvelho], 'anos')"
   ]
  },
  {
   "cell_type": "markdown",
   "metadata": {},
   "source": [
    "Exiba o primeiro quartil (25%) e o terceiro quartil (75%) da amostra das idades"
   ]
  },
  {
   "cell_type": "code",
   "execution_count": 25,
   "metadata": {},
   "outputs": [
    {
     "name": "stdout",
     "output_type": "stream",
     "text": [
      "primeiro =  53.0 \n",
      "\n",
      "terceiro=  63.0\n"
     ]
    }
   ],
   "source": [
    "#Coloque seu código aqui\n",
    "primeiro = np.percentile(idades,25)\n",
    "print('primeiro = ',primeiro,'\\n')\n",
    "terceiro = np.percentile(idades,75)\n",
    "print('terceiro= ', terceiro)"
   ]
  },
  {
   "cell_type": "markdown",
   "metadata": {},
   "source": [
    "[voltar ao topo](#top)"
   ]
  },
  {
   "cell_type": "markdown",
   "metadata": {},
   "source": [
    "<a id=\"Desafio1\"></a> \n",
    "### <font color=\"red\">Desafio 1:</font>\n",
    "\n",
    "Desenvolva um código que compute e exiba a frequência das idades dos ex-presidentes. "
   ]
  },
  {
   "cell_type": "code",
   "execution_count": 51,
   "metadata": {},
   "outputs": [
    {
     "name": "stdout",
     "output_type": "stream",
     "text": [
      "75: 1     68: 1 \n",
      "\n",
      "67: 2     66: 2 \n",
      "\n",
      "64: 1     63: 6 \n",
      "\n",
      "62: 3     61: 3 \n",
      "\n",
      "59: 1     58: 1 \n",
      "\n",
      "57: 3     56: 2 \n",
      "\n",
      "55: 2     54: 3 \n",
      "\n",
      "53: 3     52: 1 \n",
      "\n",
      "51: 1     50: 1 \n",
      "\n",
      "48: 1     47: 1 \n",
      "\n",
      "46: 1     44: 1 \n",
      "\n",
      "42: 1     41: 1 \n",
      "\n",
      "          40: 1 \n",
      "\n"
     ]
    }
   ],
   "source": [
    "#Coloque seu código aqui\n",
    "\n",
    "freq = []\n",
    "idad = []\n",
    "\n",
    "for i in idades:\n",
    "    if i in idad:\n",
    "        freq[idad.index(i)] += 1\n",
    "    else:\n",
    "        idad.append(i)\n",
    "        freq.insert(idad.index(i),1)\n",
    "for j in range(len(idad)):\n",
    "    if j % 2 == 0:\n",
    "      x = ''\n",
    "      x = x + str(idad[j])+': '+str(freq[j])\n",
    "    else:    \n",
    "      x = x + '     ' + str(idad[j]) + ': '+ str(freq[j])     \n",
    "      print(x,'\\n' )\n",
    "        \n",
    "if len(idad) % 2 == 1:\n",
    "    print('         ',x,'\\n')"
   ]
  },
  {
   "cell_type": "markdown",
   "metadata": {},
   "source": [
    "<a id=\"Operacoes_Aritmeticas\"></a> \n",
    "Operações aritméticas em arrays\n",
    "---\n",
    "Adição, subtração, multiplicação e divisão são as operações aritméticas mais básicas na NumPy. Elas são semelhantes às operações aritméticas normais entre números, mas aplicadas a todos elementos do array. "
   ]
  },
  {
   "cell_type": "code",
   "execution_count": 52,
   "metadata": {},
   "outputs": [
    {
     "name": "stdout",
     "output_type": "stream",
     "text": [
      "arr     = [ 5  7  9 11 13]\n",
      "arr     = [ -5  -7  -9 -11 -13]\n",
      "arr + 5 = [10 12 14 16 18]\n",
      "arr * 2 = [10 14 18 22 26]\n",
      "arr** 2 = [ 25  49  81 121 169]\n",
      "arr / 2 = [2.5 3.5 4.5 5.5 6.5]\n",
      "arr// 2 = [2 3 4 5 6]\n"
     ]
    }
   ],
   "source": [
    "arr= np.array([5,7,9,11,13]) \n",
    "\n",
    "# Operaçoes aritméticas\n",
    "print(\"arr     =\", arr)\n",
    "print(\"arr     =\", -arr)      # Negação unária\n",
    "print(\"arr + 5 =\", arr + 5)   # Soma\n",
    "print(\"arr * 2 =\", arr * 2)   # Produto \n",
    "print(\"arr** 2 =\", arr ** 2)  # Potenciação\n",
    "print(\"arr / 2 =\", arr / 2)   # Divisão \n",
    "print(\"arr// 2 =\", arr // 2)  # quociente da divisão"
   ]
  },
  {
   "cell_type": "markdown",
   "metadata": {},
   "source": [
    "Os operadores aritméticos podem ser implementados por funções NumPy. A tabela abaixo exibe as funções aritméticas:\n",
    "\n",
    "| Operador\t    | Função Equivalente  |            Descrição                        |\n",
    "|---------------|---------------------|---------------------------------------------|\n",
    "|``+``          |``np.add``           |Adição (ex., ``1 + 1 = 2``)                  |\n",
    "|``-``          |``np.subtract``      |Subtração (ex., ``3 - 2 = 1``)               |\n",
    "|``-``          |``np.negative``      |Negação Unária (ex., ``-2``)                 |\n",
    "|``*``          |``np.multiply``      |Multiplicação (ex., ``2 * 3 = 6``)           |\n",
    "|``/``          |``np.divide``        |Divisão (ex., ``3 / 2 = 1.5``)               |  \n",
    "|``//``         |``np.floor_divide``  |Quociente da divisão (ex., ``3 // 2 = 1``)   |\n",
    "|``**``         |``np.power``         |Exponenciação (ex., ``2 ** 3 = 8``)          |\n",
    "|``%``          |``np.mod``           |Resto (ex., ``9 % 4 = 1``)                   |\n"
   ]
  },
  {
   "cell_type": "code",
   "execution_count": 53,
   "metadata": {},
   "outputs": [
    {
     "name": "stdout",
     "output_type": "stream",
     "text": [
      "[[ 1  2  3  4]\n",
      " [ 2  4  6  8]\n",
      " [ 5  7  9 11]\n",
      " [ 6  7  8  9]] \n",
      "\n",
      "[[ 1  2  5  6]\n",
      " [ 2  4  7  7]\n",
      " [ 3  6  9  8]\n",
      " [ 4  8 11  9]] \n",
      "\n",
      "[[ 2  4  8 10]\n",
      " [ 4  8 13 15]\n",
      " [ 8 13 18 19]\n",
      " [10 15 19 18]] \n",
      "\n",
      "[[ 0  0 -2 -2]\n",
      " [ 0  0 -1  1]\n",
      " [ 2  1  0  3]\n",
      " [ 2 -1 -3  0]] \n",
      "\n",
      "[[ 1  4 15 24]\n",
      " [ 4 16 42 56]\n",
      " [15 42 81 88]\n",
      " [24 56 88 81]] \n",
      "\n"
     ]
    }
   ],
   "source": [
    "mat= np.array([[1,2,3,4],[2, 4, 6, 8], [5,7,9,11], [6, 7, 8, 9]]) \n",
    "print(mat,'\\n')\n",
    "\n",
    "# Criar a matriz transposta (.T) mat_t\n",
    "mat_t = mat.T\n",
    "print(mat_t,'\\n')\n",
    "\n",
    "#Usando as funções aritméticas Numpy para:\n",
    "# Exibir a soma das duas matrizes\n",
    "soma= mat + mat_t\n",
    "print(soma,'\\n')\n",
    "\n",
    "# Exibir a subtração das duas matrizes\n",
    "sub= mat - mat_t\n",
    "print(sub,'\\n')\n",
    "\n",
    "# Exibir a multiplicação das matrizes\n",
    "mult= mat * mat_t\n",
    "print(mult,'\\n')\n",
    "\n"
   ]
  },
  {
   "cell_type": "markdown",
   "metadata": {},
   "source": [
    "[voltar ao topo](#top)"
   ]
  },
  {
   "cell_type": "markdown",
   "metadata": {},
   "source": [
    "<a id=\"Multiplicação\"></a> \n",
    "### Multiplicação de Matrizes\n",
    "\n",
    "O símbolo **``* ``** efetua a multiplicação por elementos, não a multiplicação por matriz. Em vez disso, usamos a função **``dot ``** para calcular produtos internos de vetores, multiplicar um vetor por uma matriz e multiplicar matrizes. "
   ]
  },
  {
   "cell_type": "code",
   "execution_count": 54,
   "metadata": {},
   "outputs": [
    {
     "name": "stdout",
     "output_type": "stream",
     "text": [
      "11\n",
      "11\n",
      "[ 5 11]\n",
      "[ 5 11]\n",
      "[[19 22]\n",
      " [43 50]]\n",
      "[[19 22]\n",
      " [43 50]]\n"
     ]
    }
   ],
   "source": [
    "x = np.array([[1,2],[3,4]])\n",
    "y = np.array([[5,6],[7,8]])\n",
    "\n",
    "v = np.array([1,2])\n",
    "w = np.array([3, 4])\n",
    "\n",
    "# Produto interno dos vetores; ambos produzem 11\n",
    "print(v.dot(w))\n",
    "print(np.dot(v, w))\n",
    "\n",
    "# Produto Matrix / vetor ; ambos produzem o array 1D [5 11]\n",
    "print(x.dot(v))\n",
    "print(np.dot(x, v))\n",
    "\n",
    "# Produto Matrix / vetor ; ambos produzem o array 2D\n",
    "# [[19 22]\n",
    "#  [43 50]]\n",
    "\n",
    "print(x.dot(y))\n",
    "print(np.dot(x, y))"
   ]
  },
  {
   "cell_type": "markdown",
   "metadata": {},
   "source": [
    "[voltar ao topo](#top)"
   ]
  },
  {
   "cell_type": "markdown",
   "metadata": {},
   "source": [
    "<a id=\"Operadores\"></a> \n",
    "### Operadores de comparação\n",
    "\n",
    "Na seção anterior vimos as funções e operadores aritméticos. Vimos que o uso de **``+``, ``-``, ``*``, ``/``,**  e outros em arrays que levam a operações em termos de elementos.\n",
    "NumPy também implementa operadores de comparação como **``<`` (menor que) e ``>`` (maior que) etc**.\n",
    "O resultado desses operadores de comparação é sempre uma matriz booleana. Uma matriz booleana é o resultado da aplicação de uma expressão relacional sobre o conjunto de dados da matriz. Os valores da matriz que atendem a expressão são representados pelo valor booleano True, do contrário False.\n",
    "\n",
    "Todas as seis operações **(``<``, ``<=``, ``>``, ``>=``, ``==``, ``!=``)** de comparação padrão estão disponíveis:"
   ]
  },
  {
   "cell_type": "code",
   "execution_count": 55,
   "metadata": {},
   "outputs": [
    {
     "name": "stdout",
     "output_type": "stream",
     "text": [
      "[ 2  4  6  8 10 12 14 16 18]\n",
      "\n",
      "\n",
      " [ True  True False False False False False False False]\n",
      "\n",
      "\n",
      " [ True  True  True  True  True  True False False False]\n",
      "\n",
      "\n",
      " [False False False False False False False False  True]\n"
     ]
    }
   ],
   "source": [
    "x = np.arange(2,20,2)    # Cria o array com números pares de 2 a 18\n",
    "print(x)\n",
    "                  \n",
    "print('\\n\\n', x < 6 )            # verifica quais elementos são menores que 6\n",
    "\n",
    "print('\\n\\n',np.less_equal(x, 12))      # utilizando uma função numpy verifica quais elementos são menores ou iguais a 12\n",
    "\n",
    "print('\\n\\n', x == 18 )            # verifica quais elementos são iguais a 18"
   ]
  },
  {
   "cell_type": "markdown",
   "metadata": {},
   "source": [
    " Um resumo dos operadores e as correspondentes funções Numpy de comparação. Pode-se usar ambos:\n",
    " \n",
    "| Operador\t    | Função equivalente  || Operador\t   | Função equivalente  |\n",
    "|---------------|---------------------||---------------|---------------------|\n",
    "|``==``         |``np.equal``         ||``!=``         |``np.not_equal``     |\n",
    "|``<``          |``np.less``          ||``<=``         |``np.less_equal``    |\n",
    "|``>``          |``np.greater``       ||``>=``         |``np.greater_equal`` |\n",
    " "
   ]
  },
  {
   "cell_type": "code",
   "execution_count": 58,
   "metadata": {},
   "outputs": [
    {
     "name": "stdout",
     "output_type": "stream",
     "text": [
      "[[11  4  3]\n",
      " [ 7  8  4]\n",
      " [ 9  4 11]\n",
      " [ 8  4 10]]\n",
      "\n",
      "\n",
      " [[ True False False]\n",
      " [ True  True False]\n",
      " [ True False  True]\n",
      " [ True False  True]]\n",
      "\n",
      "\n",
      " [[ True  True  True]\n",
      " [ True False  True]\n",
      " [ True  True  True]\n",
      " [False  True  True]]\n"
     ]
    }
   ],
   "source": [
    "x =  np.random.randint(1,12,size=(4,3))  # Cria matriz 4X3 com números inteiros randomicos \n",
    "print(x)\n",
    "\n",
    "# Verifica quais elementos são maiores ou iguais a 5. Mostre a matriz resultante\n",
    "print('\\n\\n', x > 5)\n",
    "\n",
    "# Verifica quais elementos são diferentes de 8. Mostre a matriz resultante\n",
    "\n",
    "print('\\n\\n', np.not_equal(x,8))"
   ]
  },
  {
   "cell_type": "markdown",
   "metadata": {},
   "source": [
    "[voltar ao topo](#top)"
   ]
  },
  {
   "cell_type": "markdown",
   "metadata": {},
   "source": [
    "<a id=\"Distintos\"></a> \n",
    "### Elementos Distintos em Arrays\n",
    "\n",
    "A função **``np.unique(array, return_index=False, return_inverse=False, return_counts=False)``** retorna os elementos únicos (distintos) ordenados de uma matriz.\n",
    "Existem três saídas opcionais, além da matriz com os elementos únicos:\n",
    "+ os índices da matriz de entrada que dão os valores únicos (return_index)\n",
    "+ os índices da matriz única que reconstroem a matriz de entrada (return_inverse)\n",
    "+ o número de vezes que cada valor único aparece na matriz de entrada (return_counts)<br>"
   ]
  },
  {
   "cell_type": "markdown",
   "metadata": {},
   "source": [
    "+ **Array 1D**"
   ]
  },
  {
   "cell_type": "code",
   "execution_count": 59,
   "metadata": {},
   "outputs": [
    {
     "data": {
      "text/plain": [
       "array([5, 2, 6, 2, 7, 5, 6, 8, 2, 9])"
      ]
     },
     "execution_count": 59,
     "metadata": {},
     "output_type": "execute_result"
    }
   ],
   "source": [
    "a1d = np.array([5,2,6,2,7,5,6,8,2,9]) \n",
    "\n",
    "a1d"
   ]
  },
  {
   "cell_type": "code",
   "execution_count": 60,
   "metadata": {},
   "outputs": [
    {
     "name": "stdout",
     "output_type": "stream",
     "text": [
      "[2 5 6 7 8 9]\n"
     ]
    }
   ],
   "source": [
    "# Retorna o array com valores distintos \n",
    "u = np.unique(a1d) \n",
    "print (u) \n"
   ]
  },
  {
   "cell_type": "code",
   "execution_count": 61,
   "metadata": {},
   "outputs": [
    {
     "name": "stdout",
     "output_type": "stream",
     "text": [
      "[2 5 6 7 8 9] \n",
      "\n",
      "[1 0 2 4 7 9]\n"
     ]
    }
   ],
   "source": [
    "# Retorna os valores distintos e seus índices no array original \n",
    "u,indices = np.unique(a1d, return_index = True) \n",
    "print(u, '\\n')\n",
    "print (indices) \n"
   ]
  },
  {
   "cell_type": "code",
   "execution_count": 62,
   "metadata": {},
   "outputs": [
    {
     "name": "stdout",
     "output_type": "stream",
     "text": [
      "[2 5 6 7 8 9] \n",
      "\n",
      "[1 0 2 0 3 1 2 4 0 5]\n",
      "[5 2 6 2 7 5 6 8 2 9]\n"
     ]
    }
   ],
   "source": [
    "# retorna a matriz de índices no array original \n",
    "u,indices = np.unique(a1d, return_inverse = True) \n",
    "print (u, '\\n') \n",
    "print(indices)\n",
    "\n",
    "#Reconstroi o array inicial\n",
    "print(u[indices]) \n"
   ]
  },
  {
   "cell_type": "code",
   "execution_count": 63,
   "metadata": {},
   "outputs": [
    {
     "name": "stdout",
     "output_type": "stream",
     "text": [
      "[2 5 6 7 8 9]\n",
      "[3 2 2 1 1 1]\n"
     ]
    }
   ],
   "source": [
    "#Retorna o array de contadores do número de vezes que cada elemento aparece repetido\n",
    "u,indices = np.unique(a1d,return_counts = True)  \n",
    "print (u) \n",
    "print (indices)\n"
   ]
  },
  {
   "cell_type": "markdown",
   "metadata": {},
   "source": [
    "+ **Array 2D**"
   ]
  },
  {
   "cell_type": "code",
   "execution_count": 64,
   "metadata": {},
   "outputs": [
    {
     "data": {
      "text/plain": [
       "array([[ 6,  1,  9],\n",
       "       [ 8,  4, 11],\n",
       "       [ 1,  2, 11],\n",
       "       [ 9,  3,  8]])"
      ]
     },
     "execution_count": 64,
     "metadata": {},
     "output_type": "execute_result"
    }
   ],
   "source": [
    "# Criação do array 2D\n",
    "a2d =  np.random.randint(1,12,size=(4,3)) \n",
    "a2d\n"
   ]
  },
  {
   "cell_type": "code",
   "execution_count": 65,
   "metadata": {},
   "outputs": [
    {
     "name": "stdout",
     "output_type": "stream",
     "text": [
      "[ 1  2  3  4  6  8  9 11]\n"
     ]
    }
   ],
   "source": [
    "# Retorna o array da matriz 2D com elementos distintos\n",
    "#Coloque seu código aqui\n",
    "u = np.unique(a2d) \n",
    "print (u) \n"
   ]
  },
  {
   "cell_type": "code",
   "execution_count": 66,
   "metadata": {},
   "outputs": [
    {
     "name": "stdout",
     "output_type": "stream",
     "text": [
      "[ 1  2  3  4  6  8  9 11] \n",
      "\n",
      "[ 1  7 10  4  0  3  2  5]\n"
     ]
    }
   ],
   "source": [
    "# Exibir o array com os valores distintos e seus índices na matriz 2D original \n",
    "#Coloque seu código aqui\n",
    "u,indices = np.unique(a2d, return_index = True) \n",
    "print(u, '\\n')\n",
    "print (indices) \n"
   ]
  },
  {
   "cell_type": "code",
   "execution_count": 67,
   "metadata": {},
   "outputs": [
    {
     "name": "stdout",
     "output_type": "stream",
     "text": [
      "[ 1  2  3  4  6  8  9 11] \n",
      "\n",
      "[4 0 6 5 3 7 0 1 7 6 2 5]\n",
      "[ 6  1  9  8  4 11  1  2 11  9  3  8]\n"
     ]
    }
   ],
   "source": [
    "# Exibir o array de índices do matriz 2D original \n",
    "#Coloque seu código aqui\n",
    "u,indices = np.unique(a2d, return_inverse = True) \n",
    "print (u, '\\n') \n",
    "print(indices)\n",
    "\n",
    "#Reconstruir a matriz 2D original\n",
    "#Coloque seu código aqui\n",
    "print(u[indices]) \n"
   ]
  },
  {
   "cell_type": "code",
   "execution_count": 68,
   "metadata": {},
   "outputs": [
    {
     "name": "stdout",
     "output_type": "stream",
     "text": [
      "[ 1  2  3  4  6  8  9 11]\n",
      "[2 1 1 1 1 2 2 2]\n"
     ]
    }
   ],
   "source": [
    "#Exibir o array de contadores do número de vezes que cada elemento aparece repetido\n",
    "#Coloque seu código aqui\n",
    "u,indices = np.unique(a2d,return_counts = True)  \n",
    "print (u) \n",
    "print (indices)"
   ]
  },
  {
   "cell_type": "markdown",
   "metadata": {},
   "source": [
    "<a id=\"Contagem\"></a> \n",
    "### Contagem \n",
    "\n",
    "É a aplicação da função ``np.count_nonzero()`` sobre uma matriz booleana, com uma expressão relacional, para retornar a quantidade de valores True:"
   ]
  },
  {
   "cell_type": "code",
   "execution_count": 70,
   "metadata": {},
   "outputs": [
    {
     "name": "stdout",
     "output_type": "stream",
     "text": [
      "[[11  4  3]\n",
      " [ 7  8  4]\n",
      " [ 9  4 11]\n",
      " [ 8  4 10]]\n",
      "5\n",
      "\n",
      " [3 3 3 3]\n",
      "\n",
      " [0 0 0]\n"
     ]
    }
   ],
   "source": [
    "# x = [[11  4  3]\n",
    "#     [ 7  8  4]\n",
    "#     [ 9  4 11]\n",
    "#     [ 8  4 10]]\n",
    "# Exibe a quantidade de valores abaixo de 7\n",
    "cont = np.count_nonzero(x < 7)\n",
    "print(cont)\n",
    "\n",
    "# Exibe a quantidade de valores maiores ou iguais a 3  por linha\n",
    "cont= np.count_nonzero(x >= 3, axis=1)\n",
    "print(\"\\n\",cont)\n",
    "\n",
    "# Exibe a quantidade de valores iguais a 2  por coluna\n",
    "cont= np.count_nonzero(x == 2, axis=0)\n",
    "print(\"\\n\",cont)"
   ]
  },
  {
   "cell_type": "markdown",
   "metadata": {},
   "source": [
    "Se estamos interessados em verificar rapidamente se algum ou todos os valores são verdadeiros, podemos usar ```np.any``` ou ```np.all```:"
   ]
  },
  {
   "cell_type": "code",
   "execution_count": 71,
   "metadata": {},
   "outputs": [
    {
     "name": "stdout",
     "output_type": "stream",
     "text": [
      "True\n",
      "False\n"
     ]
    }
   ],
   "source": [
    "# Existe algum valor em x maior 10\n",
    "print(np.any(x > 10))\n",
    "\n",
    "# Todos os elementos da matriz são menores que 10?\n",
    "print(np.all(x < 10))"
   ]
  },
  {
   "cell_type": "markdown",
   "metadata": {},
   "source": [
    "<a id=\"Revisita\"></a> \n",
    "### <font color=\"red\">Revisitando Desafio 1</font>\n",
    "Reescreva o desafio 1 utilizando os novos conceitos aprendidos"
   ]
  },
  {
   "cell_type": "code",
   "execution_count": 72,
   "metadata": {},
   "outputs": [
    {
     "name": "stdout",
     "output_type": "stream",
     "text": [
      "40: 1     41: 1 \n",
      "\n",
      "42: 1     44: 1 \n",
      "\n",
      "46: 1     47: 1 \n",
      "\n",
      "48: 1     50: 1 \n",
      "\n",
      "51: 1     52: 1 \n",
      "\n",
      "53: 3     54: 3 \n",
      "\n",
      "55: 2     56: 2 \n",
      "\n",
      "57: 3     58: 1 \n",
      "\n",
      "59: 1     61: 3 \n",
      "\n",
      "62: 3     63: 6 \n",
      "\n",
      "64: 1     66: 2 \n",
      "\n",
      "67: 2     68: 1 \n",
      "\n",
      "          75: 1 \n",
      "\n"
     ]
    }
   ],
   "source": [
    "# Coloque seu código aqui\n",
    "\n",
    "idad,freq =np.unique(idades,return_counts = True)  \n",
    "\n",
    "\n",
    "for j in range(len(idad)):\n",
    "    if j % 2 == 0:\n",
    "      x = ''\n",
    "      x = x + str(idad[j])+': '+str(freq[j])\n",
    "    else:    \n",
    "      x = x + '     ' + str(idad[j]) + ': '+ str(freq[j])     \n",
    "      print(x,'\\n' )\n",
    "        \n",
    "if len(idad) % 2 == 1:\n",
    "    print('         ',x,'\\n')"
   ]
  },
  {
   "cell_type": "markdown",
   "metadata": {},
   "source": [
    "<a id=\"Exercicios1\"></a> \n",
    "### <font color=\"red\">Exercícios</font>\n",
    "O array abaixo armazena as 288 leituras de temperaturas,realizadas a cada 5 minutos da 00:00 hora do dia 01/03/2020 até às 23:55 do mesmo dia, registradas em São Paulo. Desenvolva um código python para responder as seguintes perguntas:\n",
    "1. Qual foi a média de temperatura do dia.\n",
    "2. Qual foi a temperatura máxima registrada e em que hora ocorreu?\n",
    "3. Qual foi a temperatura mínima registrada e em que hora ocorreu?\n",
    "4. Qual o desvio-padrão e a variância das temperaturas?\n",
    "5. Qual a mediana da amostra? <br>\n",
    "OBS: Desenvolva uma função que possibilite calcular e retornar a hora da leitura, no formato: (hora,minuto)"
   ]
  },
  {
   "cell_type": "code",
   "execution_count": 85,
   "metadata": {},
   "outputs": [
    {
     "name": "stdout",
     "output_type": "stream",
     "text": [
      "Temperatura média: 23.49236111111111\n",
      "Temperatura máxima: 30.3 efetuadas às  15 : 5\n",
      "Temperatura mínima: 20.1 efetuadas às  3 : 20\n",
      "variancia: 11.700566647376544 \n",
      "desvio-padrão: 3.420609104732159\n",
      "Mediana: 21.9\n"
     ]
    }
   ],
   "source": [
    "temp = np.array([21.3, 21.3, 21.2, 21.2, 21.2, 21.1, 21, 20.9, 20.8, 20.8, 20.8, 20.7, 20.7, 20.7,\n",
    "                 20.7, 20.7, 20.7, 20.7, 20.6, 20.6, 20.6, 20.6, 20.5, 20.4, 20.5, 20.5, 20.4, \n",
    "                 20.4, 20.4, 20.4, 20.3, 20.3, 20.3, 20.3, 20.2, 20.2, 20.2, 20.2, 20.2, 20.2, \n",
    "                 20.1, 20.1, 20.1, 20.1, 20.1, 20.1, 20.1, 20.1, 20.1, 20.2, 20.2, 20.2, 20.2, \n",
    "                 20.2, 20.2, 20.2, 20.3, 20.3, 20.4, 20.4, 20.4, 20.4, 20.3, 20.3, 20.4, 20.3, \n",
    "                 20.3, 20.3, 20.3, 20.3, 20.3, 20.3, 20.3, 20.3, 20.3, 20.3, 20.3, 20.3, 20.3, \n",
    "                 20.3, 20.3, 20.3, 20.4, 20.4, 20.4, 20.5, 20.5, 20.6, 20.7, 20.7, 20.8, 20.9, \n",
    "                 21.1, 21.2, 21.4, 21.8, 22.1, 22.2, 22.2, 22.3, 22.4, 22.5, 22.6, 22.7, 22.8, \n",
    "                 23.1, 23.3, 23.4, 23.6, 23.8, 24.1, 24.5, 24.7, 24.6, 24.7, 24.9, 25.1, 25.3, \n",
    "                 25.4, 25.4, 25.8, 26.3, 26.3, 26.3, 26.3, 26.2, 26, 26, 26.3, 26.3, 26.5, 26.7, \n",
    "                 26.8, 27.1, 27.3, 27.2, 27.2, 27.3, 27.3, 27.2, 27.3, 27.2, 27.3, 27.7, 28.1, \n",
    "                 28.3, 28.2, 27.9, 27.6, 27.5, 27.5, 27.6, 28.1, 28.5, 28.6, 28.7, 28.9, 29.3, \n",
    "                 29.3, 29.2, 29.2, 29.2, 29.3, 29.6, 29.8, 30.2, 30.2, 29.4, 29.1, 28.8, 29.6, \n",
    "                 29.6, 29.6, 28.9, 28.9, 29.3, 29.7, 29.9, 29.8, 29.9, 30.2, 30.3, 29.9, 29.3, \n",
    "                 29.2, 29.2, 29.5, 29.7, 29.8, 30, 29.7, 29.6, 29.6, 29.4, 29.3, 29.1, 28.8, \n",
    "                 28.8, 28.5, 28.2, 27.8, 26.8, 25.9, 25.7, 25.5, 25.3, 25.2, 25.2, 25.1, 24.9, \n",
    "                 24.7, 24.6, 24.4, 24.2, 24, 23.9, 23.7, 23.6, 23.4, 23.4, 23.3, 23.2, 23.2, \n",
    "                 23.1, 23.2, 23.1, 23.1, 23, 22.8, 22.7, 22.5, 22.3, 22.1, 22.1, 21.9, 21.9, \n",
    "                 21.9, 21.8, 21.8, 21.7, 21.7, 21.6, 21.7, 21.8, 21.9, 21.9, 22, 21.9, 21.8, \n",
    "                 21.8, 21.7, 21.6, 21.5, 21.4, 21.4, 21.3, 21.2, 21.2, 21.2, 21.1, 21, 20.9, \n",
    "                 20.9, 20.9, 20.9, 20.8, 20.8, 20.8, 20.8, 20.7, 20.7, 20.7, 20.7, 20.7, 20.7, \n",
    "                 20.7, 20.7, 20.6, 20.6, 20.5, 20.5, 20.5, 20.4, 20.4, 20.4, 20.4, 20.3, 20.3])\n",
    "\n",
    "# Coloque o seu código aqui\n",
    "def calc_hora(posicao):\n",
    "    h = posicao // 12       # A cada hora são realizadas 12 leituras\n",
    "    m = (posicao % 12) * 5  # 1 leitura a cada 5 minutos \n",
    "    return h,m\n",
    "\n",
    "tmedia = temp.mean()\n",
    "print('Temperatura média:', tmedia)\n",
    "tmaxima = temp.max()\n",
    "hora,minuto = calc_hora(temp.argmax())\n",
    "print('Temperatura máxima:', tmaxima, 'efetuadas às ', hora, ':',minuto)\n",
    "tminima = temp.min()\n",
    "hora,minuto = calc_hora(temp.argmin())\n",
    "print('Temperatura mínima:', tminima, 'efetuadas às ', hora, ':',minuto)\n",
    "var = temp.var()\n",
    "sd = temp.std()\n",
    "print('variancia:', var, '\\ndesvio-padrão:',sd)\n",
    "mediana = np.median(temp)\n",
    "print('Mediana:',mediana)"
   ]
  },
  {
   "cell_type": "markdown",
   "metadata": {},
   "source": [
    "[voltar ao topo](#top)"
   ]
  },
  {
   "cell_type": "markdown",
   "metadata": {},
   "source": [
    "<a id=\"Booleanos\"></a> \n",
    "### Operadores booleanos\n",
    "\n",
    "Quando há necessidade de representarmos mais de uma expressão relacional é preciso uní-las através do operadores lógicos (*binário do Python*),  ``&``(E), ``|`` (OU), ``^`` (OU Exlusivo) e ``~``(NÃO).\n",
    "A combinação de operadores de comparação e operadores booleanos em arrays pode levar a uma ampla gama de operações lógicas eficientes.\n",
    "Por exemplo, podemos abordar esse tipo de questão composta da seguinte forma:"
   ]
  },
  {
   "cell_type": "code",
   "execution_count": 86,
   "metadata": {},
   "outputs": [
    {
     "name": "stdout",
     "output_type": "stream",
     "text": [
      "[[False False  True  True]\n",
      " [ True False False False]]\n",
      "\n",
      "\n",
      "[[ True  True  True False]\n",
      " [False False False False]]\n",
      "\n",
      "\n",
      "[[ True False  True False]\n",
      " [False False False False]]\n",
      "\n",
      "\n",
      "[[ True  True False False]\n",
      " [False  True  True  True]]\n"
     ]
    }
   ],
   "source": [
    "A = np.array([[1, 2, 3, 4],[5, 6, 7,8]])\n",
    "\n",
    "# True somente quando os dois são True. Do contrário, False\n",
    "print((A > 2) & (A < 6))\n",
    "print(\"\\n\")\n",
    "\n",
    "# False somente quando os dois são False. Do contrário, True\n",
    "print((A == 2) | (A < 4))\n",
    "print(\"\\n\")\n",
    "\n",
    "# False quando os dois são False ou True. Do contrário, True\n",
    "print((A == 2) ^ (A < 4))\n",
    "print(\"\\n\")\n",
    "\n",
    "# False somente quando True e True quando False.\n",
    "print(~((A > 2) & (A < 6)))"
   ]
  },
  {
   "cell_type": "markdown",
   "metadata": {},
   "source": [
    "A tabela a seguir resume os operadores binários booleanos e suss funções equivalentes:<br>\n",
    "\n",
    "\n",
    "|Operador     |Função equivalente   ||Operador       | Função equivalente  | \n",
    "|-------------|---------------------||---------------|---------------------| \n",
    "|``&``        |``np.bitwise_and``   || &#124;        |``np.bitwise_or``    | \n",
    "|``^``        |``np.bitwise_xor``   ||``~``          |``np.bitwise_not``   | "
   ]
  },
  {
   "cell_type": "markdown",
   "metadata": {},
   "source": [
    "<a id=\"Selecao_Booleana\"></a> \n",
    "### Seleção em matrizes booleanas\n",
    "Na seção anterior, analisamos agregados calculados diretamente em matrizes booleanas. Um padrão mais poderoso é usar matrizes booleanas como máscaras, para selecionar subconjuntos específicos dos próprios dados. Como já visto, a obtenção da matriz booleana é feita através de uma expressão relacional sobre a matriz gerando uma matriz booleana. Para *selecionarmos* os valores da matriz, podemos simplesmente indexar esta matriz booleana; isto é conhecido como uma operação *mascaramento*:"
   ]
  },
  {
   "cell_type": "code",
   "execution_count": 87,
   "metadata": {},
   "outputs": [
    {
     "name": "stdout",
     "output_type": "stream",
     "text": [
      "[[5 1 3 2]\n",
      " [7 8 3 5]\n",
      " [2 4 6 8]]\n"
     ]
    }
   ],
   "source": [
    "arr = np.array([[5, 1, 3, 2], [7, 8, 3, 5], [2, 4, 6, 8]])\n",
    "print(arr)"
   ]
  },
  {
   "cell_type": "markdown",
   "metadata": {},
   "source": [
    "Selecione os elementos maiores ou iguais a 6. "
   ]
  },
  {
   "cell_type": "code",
   "execution_count": 88,
   "metadata": {
    "scrolled": true
   },
   "outputs": [
    {
     "data": {
      "text/plain": [
       "array([7, 8, 6, 8])"
      ]
     },
     "execution_count": 88,
     "metadata": {},
     "output_type": "execute_result"
    }
   ],
   "source": [
    "arr[arr>=6]"
   ]
  },
  {
   "cell_type": "markdown",
   "metadata": {},
   "source": [
    "Selecione os elementos maiores 3 e menores ou iguais a 5. "
   ]
  },
  {
   "cell_type": "code",
   "execution_count": 89,
   "metadata": {},
   "outputs": [
    {
     "data": {
      "text/plain": [
       "array([5, 5, 4])"
      ]
     },
     "execution_count": 89,
     "metadata": {},
     "output_type": "execute_result"
    }
   ],
   "source": [
    "arr[(arr > 3) & (arr <= 5)]"
   ]
  },
  {
   "cell_type": "markdown",
   "metadata": {},
   "source": [
    "<a id=\"Desafio2\"></a> \n",
    "### <font color=\"red\">Desafio 2 </Font>\n",
    "O array abaixo exibe os dados meteorológicos históricos (temperatura em ºC e velocidade do vento em Km/h) da região da Basiléia (Suiça) entre os dias 2 e 4 de maio de 2020. As leituras são realizadas em intervalos de 30 minutos a partir da 00:00 hora do dia.\n",
    "Na Basiléia, até 7ºC a temperatura é considerada *muito fria* e, a partir dos 18ºC, a temperatura é considerada *agradável*.\n",
    "Utilize o processo de seleção em *matrizes booleanas (mascaramento)* para responder rapidamente as perguntas abaixo:\n",
    "1. Quantidade de temperaturas considerada agradável?\n",
    "2. Quantidade de temperaturas considerada muito fria?\n",
    "3. A temperatura mais alta registrada, dia e a hora em que ocorreu?\n",
    "4. A temperatura mais baixa registrada, dia e a hora em que ocorreu?\n",
    "6. Qual a velocidade do vento quando registrou-se a temperatura mais baixa?\n",
    "7. A velocidade média horária do vento nesses dias?"
   ]
  },
  {
   "cell_type": "code",
   "execution_count": 107,
   "metadata": {},
   "outputs": [
    {
     "name": "stdout",
     "output_type": "stream",
     "text": [
      "quantidade de Temperatura agradável: 13\n",
      "quantidade de Temperatura muito fria: 6\n",
      "Temperatura máxima: 21.13053 aconteceu no dia: 4 às 17 :00\n",
      "Temperatura mínima: 5.0705285 aconteceu no dia: 3 às 6 :00\n",
      "Velocidade do vento na mínima: 8.262696\n",
      "Velocidade média do vento: 8.722213391666665\n"
     ]
    }
   ],
   "source": [
    "clima = np.array([[12.240529, 13.056318], [11.640529, 13.628123], [11.310529, 12.74829], [10.820529, 12.0940895],\n",
    "                  [10.280529, 10.925647], [9.980529, 10.656], [9.840529, 10.669312], [10.030529, 10.137212], \n",
    "                  [10.870529, 11.733703], [11.470529, 10.511835], [11.730529, 10.555628], [12.840529, 11.380612],\n",
    "                  [13.950529, 14.241816], [13.810529, 15.508508], [13.970529, 17.446657], [13.810529, 18.996767],\n",
    "                  [13.150529, 19.801605], [12.740529, 18.259577], [12.900529, 16.374392], [11.980529, 12.889466], \n",
    "                  [11.560529,9.045838], [10.370529, 7.0533133], [9.580529, 6.415762], [8.840529, 6.8491225], \n",
    "                  [7.8505287, 6.270311], [6.9705286, 5.5434246], [6.9405284, 4.9121733], [7.540529, 5.7198505], \n",
    "                  [6.8805285, 5.986595], [5.6405287, 6.8491225], [5.0705285, 8.262696], [5.2805285, 7.2468624], \n",
    "                  [7.8205285, 8.931355], [10.240529, 9.354396], [13.100529, 7.5066204], [15.020529, 2.028842], \n",
    "                  [16.22053, 3.5039446], [16.600529, 9.369556], [17.010529, 0.753493], [17.79053, 0.5956885], \n",
    "                  [18.350529, 0.5956885], [18.72053, 1.9210378], [19.340528, 4.4097047], [19.080528, 10.403253], \n",
    "                  [17.98053, 10.935387], [16.37053, 9.418663], [15.610529, 6.399148], [14.780529, 6.7077804], \n",
    "                  [13.560529, 7.539638], [13.160529, 5.9568853], [12.540529, 6.3154216], [12.850529, 4.5833187], \n",
    "                  [12.390529, 3.767465], [12.190529, 3.7862556], [12.040529, 4.295571], [12.450529, 3.207881], \n",
    "                  [14.210529, 2.1967907], [15.940529, 5.5943995], [17.12053, 5.694981], [17.97053, 7.0078893], \n",
    "                  [19.090528, 7.947476], [18.57053, 9.155017], [19.530529, 10.144211], [20.410528, 12.566062], \n",
    "                  [20.98053, 13.505193], [21.13053, 15.130956], [21.030529, 13.226431], [20.850529, 10.17913], \n",
    "                  [19.64053, 12.01461], [17.240528, 8.599398], [16.30053, 5.651197], [15.140529, 5.328]])\n",
    "\n",
    "# Coloque seu código aqui\n",
    "def calc_diahora(posicao):\n",
    "    d = (posicao // 24) + 2 # Soma 2 porque o primeiro dia é dia 02/05  \n",
    "    h = posicao % 24      # A cada hora são realizadas 12 leituras\n",
    "     \n",
    "    return d,h\n",
    "cont= np.count_nonzero(clima[:,0] > 18)  # clima[:,0] seleciona toda a coluna 0 - temperatura agradável\n",
    "print('quantidade de Temperatura agradável:', cont)\n",
    "cont= np.count_nonzero(clima[:,0] < 7)  # clima[:,0] seleciona toda a coluna 0 - temperatura agradável\n",
    "print('quantidade de Temperatura muito fria:', cont)\n",
    "tmaxima = clima[:,0].max()\n",
    "dia,hora = calc_diahora(clima[:,0].argmax())\n",
    "print('Temperatura máxima:', tmaxima, 'aconteceu no dia:', dia,'às', hora, ':00')\n",
    "tminima = clima[:,0].min()\n",
    "dia,hora = calc_diahora(clima[:,0].argmin())\n",
    "print('Temperatura mínima:', tminima, 'aconteceu no dia:', dia,'às', hora,  ':00')\n",
    "velo = clima[clima[:,0].argmin(), 1]\n",
    "print('Velocidade do vento na mínima:',velo)\n",
    "vmedia =clima[:,1].mean()\n",
    "print('Velocidade média do vento:', vmedia)      "
   ]
  },
  {
   "cell_type": "markdown",
   "metadata": {},
   "source": [
    "[voltar ao topo](#top)"
   ]
  },
  {
   "cell_type": "markdown",
   "metadata": {},
   "source": [
    "### <font color=\"red\">FAÇA OS EXERCÍCIOS DA LISTA DE EXERCÍCIOS</font>"
   ]
  }
 ],
 "metadata": {
  "celltoolbar": "Raw Cell Format",
  "kernelspec": {
   "display_name": "Python 3",
   "language": "python",
   "name": "python3"
  },
  "language_info": {
   "codemirror_mode": {
    "name": "ipython",
    "version": 3
   },
   "file_extension": ".py",
   "mimetype": "text/x-python",
   "name": "python",
   "nbconvert_exporter": "python",
   "pygments_lexer": "ipython3",
   "version": "3.7.6"
  }
 },
 "nbformat": 4,
 "nbformat_minor": 2
}
