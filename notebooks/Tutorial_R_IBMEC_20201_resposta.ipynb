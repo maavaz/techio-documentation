{
 "cells": [
  {
   "attachments": {
    "image.png": {
     "image/png": "[encoded data removed]"
    }
   },
   "cell_type": "markdown",
   "metadata": {},
   "source": [
    "<img src=attachment:image.png width=\"150\"> "
   ]
  },
  {
   "cell_type": "markdown",
   "metadata": {},
   "source": [
    "<br>      \n",
    "<div id=\"homesweethome\"></div>\n",
    "\n",
    " <br>    \n",
    "\n",
    "<div style=\"width: 100%; text-align: center; color: white; background-color: ##191970; font-size: 3em; font-weight: 400; padding: .5em .5em .6em .5em; line-height: 1.4em;\">INTRODUÇÃO À PROGRAMAÇÃO E AO CALCULO NÚMERICO\n",
    "</div>\n",
    "\n",
    "<br>\n",
    "\n",
    "<div style=\"width: 100%; text-align: center; color: white; background-color: ##191970; font-size: 2.2em; font-weight: 700; padding: .5em .5em .6em .5em; line-height: 1em;\">Introdução a Linguagem R</div>\n",
    "\n",
    "<br>"
   ]
  },
  {
   "cell_type": "markdown",
   "metadata": {},
   "source": [
    "<a name=\"top\"></a>Conteúdo\n",
    "===\n",
    "\n",
    "- [Introdução ao R](#Introducao)\n",
    "    - [Operadores em R](#Operador)\n",
    "    - [Variáveis](#Variaveis)\n",
    "        - [Regra de definição de nomes de variáveis](#Regra)\n",
    "    - [Comando de Atribuição](#Atribuicao)\n",
    "    - [Comandos de Saída em R](#Saída) \n",
    "    - [Estruturas de Fluxo em R](#Fluxo)\n",
    "       - [Estrutura Condicional (if,else)](#Condicional) \n",
    "       - [Estruturas de Repetição (for; while)](#Repetição)\n",
    "       - [Exercicio 1](#Exercicio1)\n",
    "    - [Criando Funções](#Funcao)  \n",
    "       - [Exercicio 2](#Exercicio2)\n",
    "    - [Estruturas de Dados em R](#Estrutura)\n",
    "       - [Vetores](#Vetor)\n",
    "            - [Acesso aos elementos do Vetor](#Acesso)\n",
    "            - [Fatiamento (Slice) em  Vetor](#Fatia)\n",
    "            - [Exercício 3 ](#Exercicio3)\n",
    "            - [Seleção condicional em Vetores](#Selecao)\n",
    "            - [Nomeando os elementos do vetor](#Nomes)\n",
    "            - [Exercício 4](#Exercicio4)\n",
    "            - [Operações aritméticas com vetores](#Aritmetica)\n",
    "            - [ Outras funções de manipulação de vetores](#Outras)\n",
    "       - [Matrizes](#Matriz) \n",
    "            - [Nomes das linhas e colunas em uma matriz](#NomMat)\n",
    "            - [Exercício 5](#Exercicio5) \n",
    "       - [DataFrames](#DataFrame)\n",
    "            - [Extraindo dados do DataFrame](#Extrair)\n",
    "            - [Adicionando dados ao DataFrame](#Adicao)\n",
    "            - [Operações usando DataFrames](#Operacao)\n",
    "            - [Exercício 6](#Exercicio6)\n",
    "       - [Importação de dados](#Importacao)    \n",
    "             "
   ]
  },
  {
   "cell_type": "markdown",
   "metadata": {},
   "source": [
    "R é uma linguagem e um ambiente de desenvolvimento integrado voltada à manipulação, análise e visualização de dados. Uma linguagem de código aberto utilizada por cientistas, estatísticos e, mais recentemente, cientistas de dados como um meio conveniente para a análise exploratória de dados interativos.\n",
    "`` Atenção:``  Se você necessitar fazer consultas sobre comandos, métodos e funções da linguagem, está disponível abaixo o link para sua documentação. Para acesso, execute o código abaixo:"
   ]
  },
  {
   "cell_type": "code",
   "execution_count": null,
   "metadata": {},
   "outputs": [],
   "source": [
    "from IPython.core.display import HTML\n",
    "HTML(\"<iframe src=https://cran.r-project.org/doc/manuals/r-release/R-intro.html width=900 height=500></iframe>\")"
   ]
  },
  {
   "cell_type": "markdown",
   "metadata": {},
   "source": [
    "---\n",
    "##  Introdução ao R<a id=\"Introducao\"></a>\n",
    "---"
   ]
  },
  {
   "cell_type": "markdown",
   "metadata": {},
   "source": [
    "## Operadores em R<a id=\"Operador\"></a> \n",
    "---\n",
    "Vamos utilizar o R como uma calculadora para apresentarmos os operadores/funções aritméticas:\n",
    "\n",
    "> - Adição            : **+**\n",
    "> - Subtração         : **-**\n",
    "> - Multiplicação     : *****\n",
    "> - Divisão           : **/**\n",
    "> - Exponenciação     : **^**\n",
    "> - Resto da divisão  : **%%**\n",
    "> - Quociente inteiro : **%/%**\n",
    "> - Exponencial     : **exp()**\n",
    "> - Raiz quadrada   : **sqrt()**\n",
    "> - Fatorial        : **factorial()**                   \n",
    "> - Logaritmos      : **log(); log2(); log10()**\n",
    "\n",
    "OBS: A ordem de execução dos operadores tem o parênteses como a maior prioridade, seguido de Multiplicação (atenção !!), divisão, adição e a subtração como sendo a de menor Prioridade."
   ]
  },
  {
   "cell_type": "code",
   "execution_count": 11,
   "metadata": {},
   "outputs": [
    {
     "data": {
      "text/html": [
       "9"
      ],
      "text/latex": [
       "9"
      ],
      "text/markdown": [
       "9"
      ],
      "text/plain": [
       "[1] 9"
      ]
     },
     "metadata": {},
     "output_type": "display_data"
    },
    {
     "data": {
      "text/html": [
       "15"
      ],
      "text/latex": [
       "15"
      ],
      "text/markdown": [
       "15"
      ],
      "text/plain": [
       "[1] 15"
      ]
     },
     "metadata": {},
     "output_type": "display_data"
    },
    {
     "data": {
      "text/html": [
       "1.25"
      ],
      "text/latex": [
       "1.25"
      ],
      "text/markdown": [
       "1.25"
      ],
      "text/plain": [
       "[1] 1.25"
      ]
     },
     "metadata": {},
     "output_type": "display_data"
    },
    {
     "data": {
      "text/html": [
       "256"
      ],
      "text/latex": [
       "256"
      ],
      "text/markdown": [
       "256"
      ],
      "text/plain": [
       "[1] 256"
      ]
     },
     "metadata": {},
     "output_type": "display_data"
    },
    {
     "data": {
      "text/html": [
       "2"
      ],
      "text/latex": [
       "2"
      ],
      "text/markdown": [
       "2"
      ],
      "text/plain": [
       "[1] 2"
      ]
     },
     "metadata": {},
     "output_type": "display_data"
    },
    {
     "data": {
      "text/html": [
       "120"
      ],
      "text/latex": [
       "120"
      ],
      "text/markdown": [
       "120"
      ],
      "text/plain": [
       "[1] 120"
      ]
     },
     "metadata": {},
     "output_type": "display_data"
    }
   ],
   "source": [
    "# Pressionar o botão \"Run\" ou  \"Ctrl Enter\" para executar o código abaixo e ver as saídas.\n",
    "\n",
    "5 + 4  # Adição\n",
    "\n",
    "3 * 5  # Multiplicação\n",
    "\n",
    "5 / 4  # Divisão\n",
    "\n",
    "4 ^ 4  # Exponenciação\n",
    "\n",
    "14 %% 3 # Resto da Divisão\n",
    "\n",
    "factorial(5) # Fatorial"
   ]
  },
  {
   "cell_type": "markdown",
   "metadata": {},
   "source": [
    "---\n",
    "## Variáveis<a id=\"Variaveis\"></a> \n",
    "---\n",
    "Para um programa, escrito em uma linguagem qualquer, manipular os dados, estes precisam estar armazenados em locais da memória do computador. Esses locais usados para armazenar dados são denominados de variáveis. Por definição,\n",
    "\n",
    "As Variáveis representam locais de memória usados para armazenar, temporariamente, os dados(valores) que deverão ser utilizados durante a execução do programa ou na seção do terminal.\n",
    "\n",
    "Toda variável tem que ter:\n",
    "\n",
    "> - Um nome - é como a variável será chamada ao guardar e recuperar os dados da memória. O nome deve seguir a regra descrita abaixo e;\n",
    "> - Um tipo - esse tipo (inteiro, real etc.) é definido quando variável é criada, baseando-se nos dados a ela atribuído;"
   ]
  },
  {
   "cell_type": "markdown",
   "metadata": {},
   "source": [
    "### Regra de definição de nomes de variáveis:<a id=\"Regra\"></a> \n",
    "Os nomes de variáveis permitem todos caracteres alfanuméricos (e em alguns países isso inclui letras acentuadas) mais **.(ponto)** e **_ (sublinhado)**, com a restrição de que um nome comece (primeiro caracter) com .(ponto) ou letra e, se começar com .(ponto), o segundo caracter não pode ser um dígito. Os nomes possuem tamanho ilimitado."
   ]
  },
  {
   "attachments": {
    "image.png": {
     "image/png": "[encoded data removed]"
    }
   },
   "cell_type": "markdown",
   "metadata": {},
   "source": [
    "## Comando de Atribuição<a id=\"Atribuicao\"></a> \n",
    "---\n",
    "O **comando de atribuição** tem a função de mover (atribuir) um valor para o interior de uma variável. Uma variável é criada no momento da execução do comando. O R pode usar quatro tipos/formas de representação do comando de atribuição, a saber:\n",
    "<img src=attachment:image.png width=\"400\"> \n",
    "\n",
    "**OBS:** O comando **ls()** lista todas as variáveis/objetos criados pelo usuário em uma sessão. O comando **ls.str()** além de exibir as variáveis, exibe também a sua estrutura e seu conteúdo."
   ]
  },
  {
   "cell_type": "code",
   "execution_count": 1,
   "metadata": {
    "scrolled": true
   },
   "outputs": [
    {
     "data": {
      "text/html": [
       "5"
      ],
      "text/latex": [
       "5"
      ],
      "text/markdown": [
       "5"
      ],
      "text/plain": [
       "[1] 5"
      ]
     },
     "metadata": {},
     "output_type": "display_data"
    },
    {
     "data": {
      "text/html": [
       "10"
      ],
      "text/latex": [
       "10"
      ],
      "text/markdown": [
       "10"
      ],
      "text/plain": [
       "[1] 10"
      ]
     },
     "metadata": {},
     "output_type": "display_data"
    },
    {
     "data": {
      "text/html": [
       "100"
      ],
      "text/latex": [
       "100"
      ],
      "text/markdown": [
       "100"
      ],
      "text/plain": [
       "[1] 100"
      ]
     },
     "metadata": {},
     "output_type": "display_data"
    },
    {
     "data": {
      "text/html": [
       "2"
      ],
      "text/latex": [
       "2"
      ],
      "text/markdown": [
       "2"
      ],
      "text/plain": [
       "[1] 2"
      ]
     },
     "metadata": {},
     "output_type": "display_data"
    },
    {
     "data": {
      "text/plain": [
       "a :  num 5\n",
       "log_10 :  num 2\n",
       "total :  num 10\n",
       "x :  num 100"
      ]
     },
     "metadata": {},
     "output_type": "display_data"
    }
   ],
   "source": [
    "# Pressionar o botão \"Run\" ou  \"Ctrl Enter\" para executar o código abaixo e ver as saídas.\n",
    "\n",
    "a <- 5 #Mover 5 para a variável a\n",
    "a\n",
    "\n",
    "a * 2 -> total # Mover 10 para a variável total\n",
    "total\n",
    "\n",
    "x = total ^ 2 # Mover 100 para a variável x\n",
    "x\n",
    "\n",
    "assign(\"log_10\", log10(x)) # Mover 2 para a variável log_10, resultante da resultado do logaritmo de 100 na base 10 \n",
    "log_10\n",
    "\n",
    "ls.str() #Exibindo os nomes, tipos e conteúdo das variáveis criadas"
   ]
  },
  {
   "cell_type": "markdown",
   "metadata": {},
   "source": [
    "[voltar ao topo](#top)"
   ]
  },
  {
   "attachments": {
    "image.png": {
     "image/png": "[encoded data removed]"
    }
   },
   "cell_type": "markdown",
   "metadata": {},
   "source": [
    "---\n",
    "## Comandos de Saída em R<a id=\"Saída\"></a> \n",
    "---\n",
    "As funções de saída de dados em R mostram uma série de argumentos. Aqui, apenas mostraremos as funções na sua forma mais básica. Sugerimos acessar a documentação da linguagem para ver as diversas formas de utilização dessas funções.\n",
    "A função **print()** é uma das principais funções para exibir valores na console do R.\n",
    "O formato geral da função é:\n",
    "![image.png](attachment:image.png)"
   ]
  },
  {
   "cell_type": "code",
   "execution_count": 18,
   "metadata": {},
   "outputs": [
    {
     "name": "stdout",
     "output_type": "stream",
     "text": [
      "[1] 17\n",
      "[1] Fim da Exibição\n",
      "[1] \"Fim da Exibição\"\n"
     ]
    }
   ],
   "source": [
    "#Execute o código abaixo!!\n",
    "\n",
    "x <- 34\n",
    "y <- 2\n",
    "z <- x / y\n",
    "\n",
    "print(z) # mostrar o conteúdo da variável z\n",
    "\n",
    "print(\"Fim da Exibição\", quote=FALSE) # Exibe a mensagem sem aspas\n",
    "\n",
    "print(\"Fim da Exibição\", quote=TRUE) # Exibe a mensagem com aspas\n"
   ]
  },
  {
   "attachments": {
    "image.png": {
     "image/png": "[encoded data removed]"
    }
   },
   "cell_type": "markdown",
   "metadata": {},
   "source": [
    "A função **cat()** concatena e exibe mensagens e variáveis (argumentos) depois de transformá-los em caracteres.\n",
    "O formato geral é:                    \n",
    "![image.png](attachment:image.png)"
   ]
  },
  {
   "cell_type": "code",
   "execution_count": 22,
   "metadata": {},
   "outputs": [
    {
     "name": "stdout",
     "output_type": "stream",
     "text": [
      "\n",
      "Raiz quadrada de 25 é igual a 5\n",
      "O fatorial de  5 é igual a 120"
     ]
    }
   ],
   "source": [
    "#Execute o código abaixo!!\n",
    "\n",
    "a = 25\n",
    "\n",
    "quad = sqrt(a)\n",
    "cat(\"\\nRaiz quadrada de\", a, \"é igual a\", quad)\n",
    "\n",
    "fac = factorial(quad) \n",
    "cat(\"\\nO fatorial de \",quad, \"é igual a\", fac)\n",
    " "
   ]
  },
  {
   "cell_type": "markdown",
   "metadata": {},
   "source": [
    "---\n",
    "## Estruturas de Fluxo em R<a id=\"Fluxo\"></a> \n",
    "---\n",
    "Como em toda as linguagens de Programação, R possui um conjunto de estruturas que possibilitam executar comandos 1 ou mais vezes de acordo com as condições associadas. Exemplos dessas estruturas são: Estrutura Condiconal e de Repetição.\n",
    "\n",
    "### Estrutura Condicional (if,else)<a id=\"Condicional\"></a> \n",
    " \n",
    "A sintaxe do **if, else** é exibida abaixo. \n",
    "\n",
    "``` R\n",
    "if (condição) {\n",
    "    ### comandos TRUE\n",
    "} else {\n",
    "    ### comandos FALSE\n",
    "}\n",
    "\n",
    "```\n",
    "\n",
    "**Operadores Relacionais:**\n",
    "As condições são formadas por expressões condicionais formadas por dois operandos separados por um operador. Os operadores que possibilitam a comparação entre os dois operandos. Os dois operandos, obrigatoriamente, devem ser do mesmo tipo e o resultado da expressão é um valor booleano(True ou False). Abaixo os operadores relacionais da linguagem:<br>\n",
    "\n",
    "| Operador |\t     Descrição      |\n",
    "|:---------|-----------------------:|\n",
    "|   <      |     menor que          |\n",
    "|   <=     |     menor ou igual     |\n",
    "|   >      |     maior que          |\n",
    "|   >=     |     maior ou igual     |\n",
    "|   ==     |     igual              |\n",
    "|  !=      |     diferente          |\n",
    "\n",
    "As expressões compostas são formadas por expressões lógicas. Os operadores lógicos são mostrados abaixo: <br>\n",
    "\n",
    "| Operador |\t     Descrição      |\n",
    "|:---------|-----------------------:|\n",
    "|   ! \t   |       Negação          |\n",
    "|   |      |         OU             |\n",
    "|   &      |          E             | \n",
    "|  xor     |         OU Exclusivo   |\n",
    "\n",
    "OBS: Expressões com E lógico serão verdadeiras se e somente se todos operandos são verdadeiros; Expressões com OU lógico serão verdadeiras bastando um operando ser verdadeiro e Expressões com XOR so serão verdadeiras se os operandos forem diferentes, ie, se um é verdadeiro o outro terá que ser falso. "
   ]
  },
  {
   "cell_type": "code",
   "execution_count": 2,
   "metadata": {},
   "outputs": [
    {
     "name": "stdout",
     "output_type": "stream",
     "text": [
      "\n",
      "Condicional Simples\n",
      "5  é menor que  10\n",
      "\n",
      "Condicional Composta\n",
      "\n",
      "Operadores diferentes \n",
      " x = 5 \n",
      " y = 10\n",
      "\n",
      "Condicional Aninhada\n",
      "5  é menor que  10"
     ]
    }
   ],
   "source": [
    "#Execute o código abaixo!!\n",
    "\n",
    "x <- 5\n",
    "y <- 10\n",
    "#Condicional Simples\n",
    "cat('\\nCondicional Simples\\n')\n",
    "if (x <= y) {\n",
    "  cat(x, ' é menor que ',y )\n",
    "  cat(\"\\n\")\n",
    "}\n",
    "\n",
    "#Condicional Composta\n",
    "cat('\\nCondicional Composta\\n')\n",
    "if (x == y) {\n",
    "    cat('\\nOperadores iguais =', str(x))\n",
    "} else{\n",
    "    cat('\\nOperadores diferentes \\n x =', x, '\\n y =', y)    \n",
    "}\n",
    "cat(\"\\n\")\n",
    "\n",
    "# Condcional aninhada\n",
    "cat('\\nCondicional Aninhada\\n')\n",
    "if (x == y) {\n",
    "    cat (x, \"é igual a\", y)\n",
    "} else if (x > y) {\n",
    "    cat(x, ' é maior que ',y )\n",
    "  } else {\n",
    "    cat(x, ' é menor que ',y )\n",
    "    }\n"
   ]
  },
  {
   "cell_type": "markdown",
   "metadata": {},
   "source": [
    "### Estruturas de Repetição (for; while)<a id=\"Repetição\"></a>\n",
    "- __for__\n",
    "\n",
    "A estrutura **for** repete o conjunto de comandos entre chaves de acordo com comprimento da sequência indicada no parênteses do **for**.<br>\n",
    "O formato geral:<br>\n",
    "\n",
    "``` \n",
    "\n",
    "for (variável in sequência) {\n",
    "     comandos a serem repetidos\n",
    "} \n",
    "\n",
    "```"
   ]
  },
  {
   "cell_type": "code",
   "execution_count": 4,
   "metadata": {},
   "outputs": [
    {
     "name": "stdout",
     "output_type": "stream",
     "text": [
      "[1] 1\n",
      "[1] 2\n",
      "[1] 3\n",
      "[1] 4\n",
      "[1] 5\n",
      "[1] 6\n",
      "[1] 7\n",
      "[1] 8\n",
      "[1] 9\n",
      "[1] 10\n"
     ]
    }
   ],
   "source": [
    "#Execute o código abaixo!!\n",
    "\n",
    "#Exibe os números de 1 até 10, logo a estrutura repete o comando print(i) 10 vezes.\n",
    "\n",
    "for (i in 1:10) {\n",
    "    print(i)\n",
    "}\n"
   ]
  },
  {
   "cell_type": "markdown",
   "metadata": {},
   "source": [
    "- __while__\n",
    "\n",
    "A estrutura **while** repete a sequência de comandos entre chaves enquanto a condição entre parênteses for verdadeira.<br>\n",
    " \n",
    "Formato Geral:<br>\n",
    "\n",
    "```\n",
    "\n",
    "while (condição){\n",
    "     comandos a serem repetidos\n",
    "}\n",
    "\n",
    "```"
   ]
  },
  {
   "cell_type": "code",
   "execution_count": 13,
   "metadata": {},
   "outputs": [
    {
     "name": "stdout",
     "output_type": "stream",
     "text": [
      "[1] 1\n",
      "[1] 2\n",
      "[1] 3\n",
      "[1] 4\n",
      "[1] 5\n",
      "[1] 6\n",
      "[1] 7\n",
      "[1] 8\n",
      "[1] 9\n"
     ]
    }
   ],
   "source": [
    "#Execute o código abaixo!!\n",
    "\n",
    "#Exibe os números de 1 até 9 enquanto a variável i for menor que 10.\n",
    "i <- 1\n",
    "while (i < 10) {\n",
    "    print(i)\n",
    "    i <- i + 1\n",
    "}\n"
   ]
  },
  {
   "cell_type": "markdown",
   "metadata": {},
   "source": [
    "- __repeat and break___\n",
    "\n",
    "A estrutura **repeat** repetirá o código entre chaves sem condições. Para que a estrutura pare de repetir é necessário utilizar o comando **break ()** associada a uma condição de parada em uma estrutura **if**. <br>\n",
    "Formato Geral:\n",
    "\n",
    "```\n",
    "repeat {\n",
    "    Comandos a serem repetidos\n",
    "if (Condição para que a repetição pare) \n",
    "    break()\n",
    "}\n",
    "```"
   ]
  },
  {
   "cell_type": "code",
   "execution_count": 14,
   "metadata": {},
   "outputs": [
    {
     "name": "stdout",
     "output_type": "stream",
     "text": [
      "[1] 1\n",
      "[1] 2\n",
      "[1] 3\n",
      "[1] 4\n",
      "[1] 5\n"
     ]
    }
   ],
   "source": [
    "#Execute o código abaixo!!\n",
    "#Exibe os números de 1 até 5. Quando x for igua a 6 o break \"escapa\" para fora da estrutura repeat\n",
    "x <- 1\n",
    "repeat {\n",
    "    print(x)\n",
    "    x = x+1\n",
    "    if (x == 6){\n",
    "        break\n",
    "    }\n",
    "}"
   ]
  },
  {
   "cell_type": "markdown",
   "metadata": {},
   "source": [
    "### Exercício 1<a id=\"Exercicio1\"></a> "
   ]
  },
  {
   "cell_type": "markdown",
   "metadata": {},
   "source": [
    "Escreva um código para exibir a letra da música abaixo: <br>\n",
    "> 1 elefante(s) incomoda(m) muita gente<br>\n",
    "> 2 elefante(s) incomoda(m) incomoda(m) muito mais<br>\n",
    "> 3 elefante(s) incomoda(m) muita gente<br>\n",
    "> 4 elefante(s) incomoda(m) incomoda(m) incomoda(m) incomoda(m) muito mais<br>\n",
    "\n",
    "OBS: Veja a sintaxe do comando **paste**(Concatenar)"
   ]
  },
  {
   "cell_type": "code",
   "execution_count": 26,
   "metadata": {},
   "outputs": [
    {
     "name": "stdout",
     "output_type": "stream",
     "text": [
      " 1 elefante(s) incomoda(m) muita gente\n",
      " 2 elefante(s) incomoda(m) incomoda(m) muito mais\n",
      " 3 elefante(s) incomoda(m) incomoda(m) incomoda(m) muita gente\n",
      " 4 elefante(s) incomoda(m) incomoda(m) incomoda(m) incomoda(m) muito mais\n"
     ]
    }
   ],
   "source": [
    "#Coloque seu código aqui!!!!\n",
    "x <- ''\n",
    "for (i in 1:4) {\n",
    "    x <- paste (x,i, 'elefante(s)', sep = \" \")\n",
    "    for (j in 1:i){\n",
    "        x <-paste(x,'incomoda(m)', sep = \" \")\n",
    "    }\n",
    "    if (i %% 2 != 0){\n",
    "        x <- paste(x,'muita gente\\n',sep=\" \")\n",
    "    }\n",
    "    else{\n",
    "        x <- paste(x,'muito mais\\n',sep=\" \")\n",
    "    }\n",
    "        \n",
    "}\n",
    "\n",
    "cat(x)"
   ]
  },
  {
   "cell_type": "markdown",
   "metadata": {},
   "source": [
    "[voltar ao topo](#top)"
   ]
  },
  {
   "cell_type": "markdown",
   "metadata": {},
   "source": [
    "## Criando Funções<a id=\"Funcao\"></a> \n",
    "Na programação, as funções podem ser vistas como pequenos \"programa\" com vários comandos agrupados em um nome que poderá ser chamada/executada em diferentes partes do programa. A utilização de funções, muito comum na programação, visa subdividir um programa em partes (módulos) menores que realizam uma tarefa bem definida.\n",
    "O formato geral para criação de função é vista abaixo:<br>\n",
    "``` R\n",
    "nomedafuncao <- function(lista de argumentos){\n",
    "corpo da função\n",
    "return(valor)   #Retorno da função    \n",
    "} \n",
    "```"
   ]
  },
  {
   "cell_type": "code",
   "execution_count": 30,
   "metadata": {},
   "outputs": [],
   "source": [
    "#Definição da função media\n",
    "media<-function(valores){\n",
    "    md <- sum(valores)/length(valores)\n",
    "    return(md)\n",
    "}"
   ]
  },
  {
   "cell_type": "code",
   "execution_count": 31,
   "metadata": {},
   "outputs": [
    {
     "name": "stdout",
     "output_type": "stream",
     "text": [
      "[1] 4.25\n"
     ]
    }
   ],
   "source": [
    "#Execute o código abaixo!!\n",
    "vet<- c(1.0, 4.0, 5.0, 7.0)\n",
    "\n",
    "m <- media(vet)   #Chamando a função média\n",
    "\n",
    "print(m)"
   ]
  },
  {
   "cell_type": "markdown",
   "metadata": {},
   "source": [
    "### Exercício 2<a id=\"Exercicio2\"></a> "
   ]
  },
  {
   "attachments": {
    "image.png": {
     "image/png": "[encoded data removed]"
    }
   },
   "cell_type": "markdown",
   "metadata": {},
   "source": [
    "Crie uma função para calcular a variancia de um vetor de numeros recebidos como parâmetro de entrada da função. A seguir, crie um vetor com 10 numeros reais, chame a função criada e mostre o resultado do cálculo da variância.\n",
    "<img src=attachment:image.png width=\"150\"> "
   ]
  },
  {
   "cell_type": "code",
   "execution_count": 34,
   "metadata": {},
   "outputs": [
    {
     "name": "stdout",
     "output_type": "stream",
     "text": [
      "[1] 10.7224\n"
     ]
    }
   ],
   "source": [
    "#Coloque seu código aqui!!\n",
    "\n",
    "variancia <- function(x) {\n",
    "  media <- mean(x)\n",
    "  n <- length(x)\n",
    "  var <- sum((x - media)^2)/n\n",
    "  return(var)\n",
    "}\n",
    "\n",
    "\n",
    "vet<-c(1.0,8.5,2.5,4.8,9.4)\n",
    "var<-variancia(vet)\n",
    "print(var)"
   ]
  },
  {
   "cell_type": "markdown",
   "metadata": {},
   "source": [
    "---\n",
    "## Estruturas de Dados em R<a id=\"Estrutura\"></a> \n",
    "---\n",
    "Semelhante a diversas linguagens de programação, a linguagem R possui os seguintes tipos de dados mais comuns:\n",
    "\n",
    "> + Vetor\n",
    "> + Matriz\n",
    "> + Lista\n",
    "> + Dataframe\n",
    "\n",
    "### Vetor<a id=\"Vetor\"></a>\n",
    "---\n",
    "Um vetor é coleção unidimensional homogênena de dados (números, caracteres, strings). Para criar um vetor, use a **função c()**, com um número arbitrário de argumentos.\n"
   ]
  },
  {
   "cell_type": "code",
   "execution_count": 13,
   "metadata": {},
   "outputs": [
    {
     "name": "stdout",
     "output_type": "stream",
     "text": [
      "[1] 1 2 3 4 5\n",
      "\n",
      "[1] \"a\" \"b\" \"c\"\n",
      "\n",
      "[1] 5.7 3.3 6.5 7.7\n",
      "\n",
      "[1] 1 1 1 2 2 2 3 3 3\n",
      "\n",
      " [1]  1  2  3  4  5  6  7  8  9 10\n"
     ]
    }
   ],
   "source": [
    "# Criando o vetor vetx de números inteiros com 5 elementos\n",
    "vetx <- c(1,2,3,4,5)\n",
    "print(vetx)\n",
    "\n",
    "#Pulando de Linha \n",
    "cat(\"\\n\")\n",
    "\n",
    "# Criando o vetor vletra de caracteres com 3 elementos\n",
    "vletra =  c('a', 'b', 'c')\n",
    "print(vletra)\n",
    "\n",
    "#Pulando de Linha \n",
    "cat(\"\\n\")\n",
    "\n",
    "# Criando o vetor vreal do real com 4 elementos\n",
    "assign(\"vreal\", c(5.7, 3.3, 6.5, 7.7))\n",
    "print(vreal)\n",
    "\n",
    "#Pulando de Linha \n",
    "cat(\"\\n\")\n",
    "\n",
    "# Criando um vetor com função rep() - repetição de valores e parâmetro each= informando que cada número deve ser repetido 3 x\n",
    "numeros <- rep(1:3,each=3)\n",
    "print(numeros)\n",
    "\n",
    "#Pula linha\n",
    "cat(\"\\n\")\n",
    "\n",
    "# Utilizando o operador : (slice)\n",
    "numeros <- 1:10\n",
    "print(numeros)\n"
   ]
  },
  {
   "cell_type": "markdown",
   "metadata": {},
   "source": [
    "A função de atribuição assign() pode ser usada para atribuir valores para criar um vetor. "
   ]
  },
  {
   "cell_type": "code",
   "execution_count": 31,
   "metadata": {},
   "outputs": [
    {
     "name": "stdout",
     "output_type": "stream",
     "text": [
      "x = 10.4 5.6 3.1 6.4 21.7\n",
      " 5.6 3.1 6.4 21.7"
     ]
    }
   ],
   "source": [
    "assign(\"x\", c(10.4, 5.6, 3.1, 6.4, 21.7))\n",
    "\n",
    "cat(\"x =\", x)\n"
   ]
  },
  {
   "cell_type": "markdown",
   "metadata": {},
   "source": [
    "[voltar ao topo](#top)"
   ]
  },
  {
   "cell_type": "markdown",
   "metadata": {},
   "source": [
    "### Acesso aos elementos do Vetor<a id=\"Acesso\"></a>\n",
    "---\n",
    "Diferentemente dos vetores em Python, o acesso de elementos do vetor se inicia na **posição 1**. Em R, um índice negativo significa **excluir** o elemento na posição indicada. "
   ]
  },
  {
   "cell_type": "code",
   "execution_count": 36,
   "metadata": {},
   "outputs": [
    {
     "name": "stdout",
     "output_type": "stream",
     "text": [
      "Terceiro elemento = 12"
     ]
    },
    {
     "data": {
      "text/html": [
       "<ol class=list-inline>\n",
       "\t<li>2</li>\n",
       "\t<li>12</li>\n",
       "\t<li>7</li>\n",
       "\t<li>8</li>\n",
       "\t<li>15</li>\n",
       "\t<li>99</li>\n",
       "\t<li>0</li>\n",
       "\t<li>2</li>\n",
       "\t<li>20</li>\n",
       "</ol>\n"
      ],
      "text/latex": [
       "\\begin{enumerate*}\n",
       "\\item 2\n",
       "\\item 12\n",
       "\\item 7\n",
       "\\item 8\n",
       "\\item 15\n",
       "\\item 99\n",
       "\\item 0\n",
       "\\item 2\n",
       "\\item 20\n",
       "\\end{enumerate*}\n"
      ],
      "text/markdown": [
       "1. 2\n",
       "2. 12\n",
       "3. 7\n",
       "4. 8\n",
       "5. 15\n",
       "6. 99\n",
       "7. 0\n",
       "8. 2\n",
       "9. 20\n",
       "\n",
       "\n"
      ],
      "text/plain": [
       "[1]  2 12  7  8 15 99  0  2 20"
      ]
     },
     "metadata": {},
     "output_type": "display_data"
    },
    {
     "data": {
      "text/html": [
       "<ol class=list-inline>\n",
       "\t<li>2</li>\n",
       "\t<li>10</li>\n",
       "\t<li>12</li>\n",
       "\t<li>7</li>\n",
       "\t<li>8</li>\n",
       "\t<li>15</li>\n",
       "\t<li>99</li>\n",
       "\t<li>0</li>\n",
       "\t<li>2</li>\n",
       "\t<li>20</li>\n",
       "</ol>\n"
      ],
      "text/latex": [
       "\\begin{enumerate*}\n",
       "\\item 2\n",
       "\\item 10\n",
       "\\item 12\n",
       "\\item 7\n",
       "\\item 8\n",
       "\\item 15\n",
       "\\item 99\n",
       "\\item 0\n",
       "\\item 2\n",
       "\\item 20\n",
       "\\end{enumerate*}\n"
      ],
      "text/markdown": [
       "1. 2\n",
       "2. 10\n",
       "3. 12\n",
       "4. 7\n",
       "5. 8\n",
       "6. 15\n",
       "7. 99\n",
       "8. 0\n",
       "9. 2\n",
       "10. 20\n",
       "\n",
       "\n"
      ],
      "text/plain": [
       " [1]  2 10 12  7  8 15 99  0  2 20"
      ]
     },
     "metadata": {},
     "output_type": "display_data"
    },
    {
     "data": {
      "text/html": [
       "<ol class=list-inline>\n",
       "\t<li>12</li>\n",
       "\t<li>7</li>\n",
       "\t<li>8</li>\n",
       "\t<li>15</li>\n",
       "\t<li>99</li>\n",
       "\t<li>0</li>\n",
       "\t<li>2</li>\n",
       "\t<li>20</li>\n",
       "</ol>\n"
      ],
      "text/latex": [
       "\\begin{enumerate*}\n",
       "\\item 12\n",
       "\\item 7\n",
       "\\item 8\n",
       "\\item 15\n",
       "\\item 99\n",
       "\\item 0\n",
       "\\item 2\n",
       "\\item 20\n",
       "\\end{enumerate*}\n"
      ],
      "text/markdown": [
       "1. 12\n",
       "2. 7\n",
       "3. 8\n",
       "4. 15\n",
       "5. 99\n",
       "6. 0\n",
       "7. 2\n",
       "8. 20\n",
       "\n",
       "\n"
      ],
      "text/plain": [
       "[1] 12  7  8 15 99  0  2 20"
      ]
     },
     "metadata": {},
     "output_type": "display_data"
    }
   ],
   "source": [
    "vetor <- c(2,14,12,7,8,15,99,0,2,20) # Criando o vetor\n",
    "\n",
    "cat(\"Terceiro elemento =\", vetor[3] )  # Exibe o terceiro elemento do vetor\n",
    "\n",
    "x = vetor[-2] #exclui o segundo elemento do vetor\n",
    "x\n",
    "\n",
    "vetor[2] = 10 # substituir o valor da posição 2 do vetor\n",
    "vetor\n",
    "\n",
    "x = vetor[-c(1,2)]   ### Exclui os dois primeiros valores \n",
    "\n",
    "x"
   ]
  },
  {
   "cell_type": "markdown",
   "metadata": {},
   "source": [
    "### Fatiamento (Slice) em  Vetor<a id=\"Fatia\"></a>\n",
    "---\n",
    "Um vetor pode ser subdividido/fatiado (Slice) utilizando os índices numéricos que representam as posições dos elementos do vetor. Os exemplos a seguir mostram essa técnica:"
   ]
  },
  {
   "cell_type": "code",
   "execution_count": 26,
   "metadata": {},
   "outputs": [
    {
     "name": "stdout",
     "output_type": "stream",
     "text": [
      "[1] \"bb\" \"cc\"\n",
      "\n",
      "[1] \"bb\" \"cc\" \"cc\"\n",
      "\n",
      "[1] \"bb\" \"aa\" \"cc\"\n",
      "\n",
      "[1] \"bb\" \"cc\" \"dd\"\n"
     ]
    }
   ],
   "source": [
    "vchar = c(\"aa\", \"bb\", \"cc\", \"dd\", \"ee\") \n",
    "\n",
    "# Extrair do vetor vchar os elementos da 2º e 3º posições\n",
    "\n",
    "resp <- vchar[c(2, 3)] \n",
    "print(resp)\n",
    "\n",
    "#Pulando de Linha \n",
    "cat(\"\\n\")\n",
    "\n",
    "# Extração duplicando os elementos duplicados (extrai os elementos 1 ou + vezes. Extrai o elemento da 3ª posição 2 x\n",
    "\n",
    "resp <-vchar[c(2, 3, 3)]\n",
    "print(resp)\n",
    "\n",
    "#Pulando de Linha \n",
    "cat(\"\\n\")\n",
    "\n",
    "# Os elementos podem ser recuperados fora da ordem do vetor vchar\n",
    "\n",
    "resp<-vchar[c(2, 1, 3)] \n",
    "print(resp)\n",
    "\n",
    "#Pulando de Linha \n",
    "cat(\"\\n\")\n",
    "\n",
    "# recuperando intervalo de valores através do operador : \n",
    "resp <- vchar[2:4] \n",
    "print(resp)\n"
   ]
  },
  {
   "cell_type": "markdown",
   "metadata": {},
   "source": [
    "### Exercício 3<a id=\"Exercicio3\"></a>\n",
    "\n",
    "Crie um vetor com os valores: 5, 10, 20, 40, 80\n",
    "> 1. Selecione o elemento na posição 3\n",
    "> 2. Selecione o valor 80\n",
    "> 3. Selecione os valores 40 e 5\n",
    "> 4. Selecione todos os valores, menos o 80 e o 5\n",
    "> 5. Insira o valor 168 entre os valores 20 e 40, criando um novo objeto"
   ]
  },
  {
   "cell_type": "code",
   "execution_count": 231,
   "metadata": {},
   "outputs": [
    {
     "name": "stdout",
     "output_type": "stream",
     "text": [
      "[1] 20\n",
      "[1] 80\n",
      "[1]  5 80\n",
      "[1] 10 20 40\n",
      "[1]   5  10  20 168  40  80\n"
     ]
    }
   ],
   "source": [
    "#Coloque seu código aqui!!\n",
    "vet <- c( 5, 10, 20, 40, 80)\n",
    "#(1)\n",
    "x <- vet[3]\n",
    "print(x)\n",
    "\n",
    "#(2)\n",
    "#x <- vet[vet==80]\n",
    "x<-vet[5]\n",
    "print(x)\n",
    "#(3)\n",
    "x <- vet[c(1,5)]\n",
    "print(x)\n",
    "\n",
    "#(4)\n",
    "x <- vet[2:4]\n",
    "print(x)\n",
    "\n",
    "#(5)\n",
    "vet <- c(vet[1:3],168,vet[4:5])\n",
    "print(vet)"
   ]
  },
  {
   "cell_type": "markdown",
   "metadata": {},
   "source": [
    "### Seleção condicional em vetores<a id=\"Selecao\"></a>\n",
    "\n",
    "Semelhante ao Python, para se realizar a seleção de valores baseados em condições, precisamos utilizar essa condição lógica dentro dos colchetes []:"
   ]
  },
  {
   "cell_type": "code",
   "execution_count": 29,
   "metadata": {},
   "outputs": [
    {
     "data": {
      "text/html": [
       "<ol class=list-inline>\n",
       "\t<li>12.5</li>\n",
       "\t<li>35.6</li>\n",
       "\t<li>42.8</li>\n",
       "\t<li>70.9</li>\n",
       "\t<li>120.4</li>\n",
       "\t<li>15.78</li>\n",
       "\t<li>50</li>\n",
       "</ol>\n"
      ],
      "text/latex": [
       "\\begin{enumerate*}\n",
       "\\item 12.5\n",
       "\\item 35.6\n",
       "\\item 42.8\n",
       "\\item 70.9\n",
       "\\item 120.4\n",
       "\\item 15.78\n",
       "\\item 50\n",
       "\\end{enumerate*}\n"
      ],
      "text/markdown": [
       "1. 12.5\n",
       "2. 35.6\n",
       "3. 42.8\n",
       "4. 70.9\n",
       "5. 120.4\n",
       "6. 15.78\n",
       "7. 50\n",
       "\n",
       "\n"
      ],
      "text/plain": [
       "[1]  12.50  35.60  42.80  70.90 120.40  15.78  50.00"
      ]
     },
     "metadata": {},
     "output_type": "display_data"
    },
    {
     "data": {
      "text/html": [
       "8.99"
      ],
      "text/latex": [
       "8.99"
      ],
      "text/markdown": [
       "8.99"
      ],
      "text/plain": [
       "[1] 8.99"
      ]
     },
     "metadata": {},
     "output_type": "display_data"
    },
    {
     "data": {
      "text/html": [
       "<ol class=list-inline>\n",
       "\t<li>70.9</li>\n",
       "\t<li>120.4</li>\n",
       "</ol>\n"
      ],
      "text/latex": [
       "\\begin{enumerate*}\n",
       "\\item 70.9\n",
       "\\item 120.4\n",
       "\\end{enumerate*}\n"
      ],
      "text/markdown": [
       "1. 70.9\n",
       "2. 120.4\n",
       "\n",
       "\n"
      ],
      "text/plain": [
       "[1]  70.9 120.4"
      ]
     },
     "metadata": {},
     "output_type": "display_data"
    },
    {
     "data": {
      "text/html": [
       "<ol class=list-inline>\n",
       "\t<li>70.9</li>\n",
       "\t<li>120.4</li>\n",
       "</ol>\n"
      ],
      "text/latex": [
       "\\begin{enumerate*}\n",
       "\\item 70.9\n",
       "\\item 120.4\n",
       "\\end{enumerate*}\n"
      ],
      "text/markdown": [
       "1. 70.9\n",
       "2. 120.4\n",
       "\n",
       "\n"
      ],
      "text/plain": [
       "[1]  70.9 120.4"
      ]
     },
     "metadata": {},
     "output_type": "display_data"
    }
   ],
   "source": [
    "# Execute o código abaixo!!!\n",
    "\n",
    "\n",
    "vetpreco = c(8.99, 9.70, 12.50, 35.60, 42.80, 70.90, 120.40, 15.78, 50) # Criar o vetor preço\n",
    "\n",
    "vetpreco[vetpreco > 10]  ### Seleciona os elementos maiores que 10\n",
    "\n",
    "vetpreco[vetpreco < 9]   ### Seleciona os elementos menores que 5\n",
    "\n",
    "vetpreco[vetpreco >= 70.9]  ### Seleciona os elementos maiores ou iguais a 8.5\n",
    "\n",
    "vetpreco[vetpreco > 60 & vetpreco< 130]  ### Seleciona os elementos maiores que zero e menores que 10\n",
    "\n"
   ]
  },
  {
   "cell_type": "markdown",
   "metadata": {},
   "source": [
    "[voltar ao topo](#top)"
   ]
  },
  {
   "cell_type": "markdown",
   "metadata": {},
   "source": [
    "### Nomeando os elementos do vetor<a id=\"Nomes\"></a>\n",
    "O R permite a associação de nomes aos elementos/índices de um vetor, de modo que é possível acessar os elementos por meio deste nome escolhido, em vez de utilizar apenas o índice."
   ]
  },
  {
   "cell_type": "code",
   "execution_count": 21,
   "metadata": {},
   "outputs": [
    {
     "data": {
      "text/html": [
       "'$names'"
      ],
      "text/latex": [
       "'\\$names'"
      ],
      "text/markdown": [
       "'$names'"
      ],
      "text/plain": [
       "[1] \"$names\""
      ]
     },
     "metadata": {},
     "output_type": "display_data"
    },
    {
     "name": "stdout",
     "output_type": "stream",
     "text": [
      " jan  fev  mar  abr  mai  jun  jul  ago  set  out  nov  dez \n",
      " 100 2000 -300 3000 -200 1200  250 -100 3200  200 1400 -150 \n",
      "\n",
      " mar \n",
      "-300 \n",
      "\n",
      " dez  nov  out \n",
      "-150 1400  200 \n"
     ]
    },
    {
     "data": {
      "text/html": [
       "<dl class=dl-horizontal>\n",
       "\t<dt>jan</dt>\n",
       "\t\t<dd>31</dd>\n",
       "\t<dt>fev</dt>\n",
       "\t\t<dd>28</dd>\n",
       "\t<dt>mar</dt>\n",
       "\t\t<dd>31</dd>\n",
       "\t<dt>abr</dt>\n",
       "\t\t<dd>30</dd>\n",
       "\t<dt>mai</dt>\n",
       "\t\t<dd>31</dd>\n",
       "\t<dt>jun</dt>\n",
       "\t\t<dd>30</dd>\n",
       "\t<dt>jul</dt>\n",
       "\t\t<dd>31</dd>\n",
       "\t<dt>ago</dt>\n",
       "\t\t<dd>31</dd>\n",
       "\t<dt>set</dt>\n",
       "\t\t<dd>30</dd>\n",
       "\t<dt>out</dt>\n",
       "\t\t<dd>31</dd>\n",
       "\t<dt>nov</dt>\n",
       "\t\t<dd>30</dd>\n",
       "\t<dt>dez</dt>\n",
       "\t\t<dd>31</dd>\n",
       "</dl>\n"
      ],
      "text/latex": [
       "\\begin{description*}\n",
       "\\item[jan] 31\n",
       "\\item[fev] 28\n",
       "\\item[mar] 31\n",
       "\\item[abr] 30\n",
       "\\item[mai] 31\n",
       "\\item[jun] 30\n",
       "\\item[jul] 31\n",
       "\\item[ago] 31\n",
       "\\item[set] 30\n",
       "\\item[out] 31\n",
       "\\item[nov] 30\n",
       "\\item[dez] 31\n",
       "\\end{description*}\n"
      ],
      "text/markdown": [
       "jan\n",
       ":   31fev\n",
       ":   28mar\n",
       ":   31abr\n",
       ":   30mai\n",
       ":   31jun\n",
       ":   30jul\n",
       ":   31ago\n",
       ":   31set\n",
       ":   30out\n",
       ":   31nov\n",
       ":   30dez\n",
       ":   31\n",
       "\n"
      ],
      "text/plain": [
       "jan fev mar abr mai jun jul ago set out nov dez \n",
       " 31  28  31  30  31  30  31  31  30  31  30  31 "
      ]
     },
     "metadata": {},
     "output_type": "display_data"
    },
    {
     "data": {
      "text/html": [
       "<dl class=dl-horizontal>\n",
       "\t<dt>jan</dt>\n",
       "\t\t<dd>31</dd>\n",
       "\t<dt>fev</dt>\n",
       "\t\t<dd>28</dd>\n",
       "\t<dt>mar</dt>\n",
       "\t\t<dd>31</dd>\n",
       "\t<dt>abr</dt>\n",
       "\t\t<dd>30</dd>\n",
       "</dl>\n"
      ],
      "text/latex": [
       "\\begin{description*}\n",
       "\\item[jan] 31\n",
       "\\item[fev] 28\n",
       "\\item[mar] 31\n",
       "\\item[abr] 30\n",
       "\\end{description*}\n"
      ],
      "text/markdown": [
       "jan\n",
       ":   31fev\n",
       ":   28mar\n",
       ":   31abr\n",
       ":   30\n",
       "\n"
      ],
      "text/plain": [
       "jan fev mar abr \n",
       " 31  28  31  30 "
      ]
     },
     "metadata": {},
     "output_type": "display_data"
    },
    {
     "data": {
      "text/html": [
       "<dl class=dl-horizontal>\n",
       "\t<dt>jan</dt>\n",
       "\t\t<dd>31</dd>\n",
       "\t<dt>mar</dt>\n",
       "\t\t<dd>31</dd>\n",
       "\t<dt>mai</dt>\n",
       "\t\t<dd>31</dd>\n",
       "</dl>\n"
      ],
      "text/latex": [
       "\\begin{description*}\n",
       "\\item[jan] 31\n",
       "\\item[mar] 31\n",
       "\\item[mai] 31\n",
       "\\end{description*}\n"
      ],
      "text/markdown": [
       "jan\n",
       ":   31mar\n",
       ":   31mai\n",
       ":   31\n",
       "\n"
      ],
      "text/plain": [
       "jan mar mai \n",
       " 31  31  31 "
      ]
     },
     "metadata": {},
     "output_type": "display_data"
    },
    {
     "data": {
      "text/html": [
       "<strong>mar:</strong> 31"
      ],
      "text/latex": [
       "\\textbf{mar:} 31"
      ],
      "text/markdown": [
       "**mar:** 31"
      ],
      "text/plain": [
       "mar \n",
       " 31 "
      ]
     },
     "metadata": {},
     "output_type": "display_data"
    },
    {
     "data": {
      "text/html": [
       "<strong>$names</strong> = <ol class=list-inline>\n",
       "\t<li>'jan'</li>\n",
       "\t<li>'fev'</li>\n",
       "\t<li>'mar'</li>\n",
       "\t<li>'abr'</li>\n",
       "\t<li>'mai'</li>\n",
       "\t<li>'jun'</li>\n",
       "\t<li>'jul'</li>\n",
       "\t<li>'ago'</li>\n",
       "\t<li>'set'</li>\n",
       "\t<li>'out'</li>\n",
       "\t<li>'nov'</li>\n",
       "\t<li>'dez'</li>\n",
       "</ol>\n"
      ],
      "text/latex": [
       "\\textbf{\\$names} = \\begin{enumerate*}\n",
       "\\item 'jan'\n",
       "\\item 'fev'\n",
       "\\item 'mar'\n",
       "\\item 'abr'\n",
       "\\item 'mai'\n",
       "\\item 'jun'\n",
       "\\item 'jul'\n",
       "\\item 'ago'\n",
       "\\item 'set'\n",
       "\\item 'out'\n",
       "\\item 'nov'\n",
       "\\item 'dez'\n",
       "\\end{enumerate*}\n"
      ],
      "text/markdown": [
       "**$names** = 1. 'jan'\n",
       "2. 'fev'\n",
       "3. 'mar'\n",
       "4. 'abr'\n",
       "5. 'mai'\n",
       "6. 'jun'\n",
       "7. 'jul'\n",
       "8. 'ago'\n",
       "9. 'set'\n",
       "10. 'out'\n",
       "11. 'nov'\n",
       "12. 'dez'\n",
       "\n",
       "\n"
      ],
      "text/plain": [
       "$names\n",
       " [1] \"jan\" \"fev\" \"mar\" \"abr\" \"mai\" \"jun\" \"jul\" \"ago\" \"set\" \"out\" \"nov\" \"dez\"\n"
      ]
     },
     "metadata": {},
     "output_type": "display_data"
    },
    {
     "data": {
      "text/html": [
       "'double'"
      ],
      "text/latex": [
       "'double'"
      ],
      "text/markdown": [
       "'double'"
      ],
      "text/plain": [
       "[1] \"double\""
      ]
     },
     "metadata": {},
     "output_type": "display_data"
    }
   ],
   "source": [
    "#Execute o código abaixo!!\n",
    "\n",
    "vsaldo = c(100, 2000, -300, 3000, -200, 1200, 250, -100, 3200, 200, 1400, -150) \n",
    "meses <-  c(\"jan\", \"fev\", \"mar\", \"abr\", \"mai\", \"jun\", \"jul\", \"ago\", \"set\", \"out\", \"nov\", \"dez\") \n",
    "\n",
    "# associando os elementos do vetor  vsaldo ao vetor de nomes de meses.\n",
    "names(vsaldo) = meses\n",
    "\n",
    "print (vsaldo)\n",
    "\n",
    "#Pula Linha\n",
    "cat(\"\\n\")\n",
    "\n",
    "# seleciona o saldo do mês de março (\"mar\")\n",
    "saldo <- vsaldo[\"mar\"] \n",
    "\n",
    "print(saldo)\n",
    "\n",
    "#Pula Linha\n",
    "cat(\"\\n\")\n",
    "\n",
    "# Seleção na ordem inversa\n",
    "ultimo <- vsaldo[c(\"dez\", \"nov\", \"out\")] \n",
    "   \n",
    "print(ultimo)\n",
    "\n",
    "\n",
    "# últimos dias de cada mês\n",
    "\n",
    "dias <- c(31, 28, 31, 30, 31, 30, 31, 31, 30, 31, 30, 31)\n",
    "\n",
    "names(dias)<- meses  #Associando os meses aos últimos dias de cada mês\n",
    "\n",
    "dias  # Exibindo o vetor dias e seus \"índices\" meses\n",
    "\n",
    "dias[1:4] #Exibe os dados da primeira a quarta posição de dias\n",
    "\n",
    "dias[c(\"jan\",\"mar\",\"mai\")] #seleciona os dias dos 3 meses informados\n",
    "\n",
    "dias[meses =='mar']      # exibe o último dia do mês de março\n",
    "\n",
    "attributes(dias)   # Exibe todos os meses\n",
    "\n",
    "typeof(dias)  #tipo do vetor dias"
   ]
  },
  {
   "cell_type": "markdown",
   "metadata": {},
   "source": [
    "### Exercício 4<a id=\"Exercicio4\"></a>\n",
    "\n",
    "Um programador anotou a temperatura média diária de um ambiente durante sete dias consecutivos, armazenando-as como um vetor. Em outro vetor, incluiu os nomes dos dias abreviados.  Com os dois vetores abaixo, um para armazenar valores de temperatura e outro para armazenar as siglas de dias responder as perguntas abaixo:\n",
    "> 1. Selecione o nome dos dias onde as temperaturas ficaram acima do 30º\n",
    "> 2. A temperatura na terça-feira\n",
    "> 3. As Temperaturas da quarta, quinta e sexta"
   ]
  },
  {
   "cell_type": "code",
   "execution_count": 43,
   "metadata": {},
   "outputs": [
    {
     "data": {
      "text/html": [
       "<ol class=list-inline>\n",
       "\t<li>'Sex'</li>\n",
       "\t<li>'Sab'</li>\n",
       "\t<li>'Dom'</li>\n",
       "</ol>\n"
      ],
      "text/latex": [
       "\\begin{enumerate*}\n",
       "\\item 'Sex'\n",
       "\\item 'Sab'\n",
       "\\item 'Dom'\n",
       "\\end{enumerate*}\n"
      ],
      "text/markdown": [
       "1. 'Sex'\n",
       "2. 'Sab'\n",
       "3. 'Dom'\n",
       "\n",
       "\n"
      ],
      "text/plain": [
       "[1] \"Sex\" \"Sab\" \"Dom\""
      ]
     },
     "metadata": {},
     "output_type": "display_data"
    },
    {
     "data": {
      "text/html": [
       "<strong>Ter:</strong> 25.7"
      ],
      "text/latex": [
       "\\textbf{Ter:} 25.7"
      ],
      "text/markdown": [
       "**Ter:** 25.7"
      ],
      "text/plain": [
       " Ter \n",
       "25.7 "
      ]
     },
     "metadata": {},
     "output_type": "display_data"
    },
    {
     "data": {
      "text/html": [
       "<dl class=dl-horizontal>\n",
       "\t<dt>Qua</dt>\n",
       "\t\t<dd>28.3</dd>\n",
       "\t<dt>Qui</dt>\n",
       "\t\t<dd>30</dd>\n",
       "\t<dt>Dom</dt>\n",
       "\t\t<dd>34.9</dd>\n",
       "</dl>\n"
      ],
      "text/latex": [
       "\\begin{description*}\n",
       "\\item[Qua] 28.3\n",
       "\\item[Qui] 30\n",
       "\\item[Dom] 34.9\n",
       "\\end{description*}\n"
      ],
      "text/markdown": [
       "Qua\n",
       ":   28.3Qui\n",
       ":   30Dom\n",
       ":   34.9\n",
       "\n"
      ],
      "text/plain": [
       " Qua  Qui  Dom \n",
       "28.3 30.0 34.9 "
      ]
     },
     "metadata": {},
     "output_type": "display_data"
    }
   ],
   "source": [
    "# Coloque seu código aqui !!!\n",
    "\n",
    "temperature <-c(22.1, 25.7, 28.3, 30, 34, 33.8, 34.9)\n",
    "week_days <- c(\"Seg\", \"Ter\", \"Qua\", \"Qui\", \"Sex\", \"Sab\", \"Dom\")\n",
    "\n",
    "# nomeando dias_semana\n",
    "names(temperature) <- week_days\n",
    "#names(week_days)<-temperature\n",
    "\n",
    "week_days[temperature > 30] #  nome dos dias onde as temperaturas ficaram acima do 30º (1)\n",
    "\n",
    "temperature[week_days == \"Ter\"] # temperatura na terça-feira (2)\n",
    "\n",
    "temperature[c(\"Qua\", \"Qui\",\"Dom\")] #Temperaturas quarta, quinta e sexta (3)\n",
    "\n",
    " "
   ]
  },
  {
   "cell_type": "markdown",
   "metadata": {},
   "source": [
    "### Operações aritméticas com vetores <a id=\"Aritmetica\"></a>"
   ]
  },
  {
   "cell_type": "markdown",
   "metadata": {},
   "source": [
    "Vetores podem ser usados em expressões aritméticas operando elemento por elemento. Vetores que ocorrem na mesma expressão não precisam ser todos do mesmo comprimento. Se não forem, o valor da expressão é um vetor com o mesmo comprimento do vetor mais longo que ocorre na expressão. Vetores mais curtos na expressão serão *reutilizados* quantas vezes for necessária até que correspondam ao comprimento do vetor mais longo."
   ]
  },
  {
   "cell_type": "code",
   "execution_count": 3,
   "metadata": {},
   "outputs": [
    {
     "name": "stdout",
     "output_type": "stream",
     "text": [
      "[1] 1 3 5\n",
      "\n",
      "[1] 2 4 6\n",
      "\n",
      "[1] 4.000000 2.666667 2.400000\n",
      "\n",
      "[1] 11.4  6.6 13.0 15.4\n",
      "\n",
      "[1]  4  8 16 32\n",
      "\n",
      "     [,1]\n",
      "[1,]   20\n"
     ]
    }
   ],
   "source": [
    "# Criando o vetor de números inteiros ímpares\n",
    "veti <- c(1,3,5)\n",
    "print(veti)\n",
    "\n",
    "#Pulando de Linha \n",
    "cat(\"\\n\")\n",
    "\n",
    "# Criando o vetor de números pares a partir da operação soma\n",
    "vetp =  veti + c(1, 1, 1)\n",
    "print(vetp)\n",
    "\n",
    "#Pulando de Linha \n",
    "cat(\"\\n\")\n",
    "\n",
    "vetres = (vetp * 2) / veti #\n",
    "\n",
    "print(vetres)\n",
    "\n",
    "#Pulando de Linha \n",
    "cat(\"\\n\")\n",
    "\n",
    "# Criando o vetor vreal do real com 4 elementos\n",
    "vreal = c(5.7, 3.3, 6.5, 7.7) * 2\n",
    "print(vreal)\n",
    "\n",
    "#Pulando de Linha \n",
    "cat(\"\\n\")\n",
    "\n",
    "# Criando um vetor de inteiros onde os elementos são potencias de base 2\n",
    "vpot = c(2, 2, 2, 2) ** c(2, 3, 4, 5)\n",
    "print(vpot)\n",
    "\n",
    "#Pulando de Linha \n",
    "cat(\"\\n\")\n",
    "\n",
    "\n",
    "# produto de 2 matrizes unidimensionais\n",
    "vprod = c(1, 2, 3) %*% c(2, 3, 4)  # 2 * 1 + 3 * 2 + 4 * 3\n",
    "print(vprod)"
   ]
  },
  {
   "cell_type": "markdown",
   "metadata": {},
   "source": [
    "### Outras funções de manipulação de vetores <a id=\"Outras\"></a>\n",
    "Abaixo apresentamos alguns exemplos de outras funções de manipulação de vetores, tais como ordenação, estatísticas..."
   ]
  },
  {
   "cell_type": "code",
   "execution_count": 5,
   "metadata": {},
   "outputs": [
    {
     "name": "stdout",
     "output_type": "stream",
     "text": [
      "    4 1 2 3 <-- vet1\n",
      "\n",
      "    2 3 4 1 <--ìndices ordenados vet1\n",
      "\n",
      "    1 2 3 4 <-- vet1 ordenado em ordem crescente\n",
      "\n",
      "    8 7 6 5 <-- vet2 ordenado em ordem decrescente\n",
      "\n",
      "    10 <-- Soma dos elemento de vet1\n",
      "\n",
      "    4 5 7 10 <-- Soma cumulativa dos elemento de vet1\n",
      "\n",
      "1 1 1 2 2 2 3 3 3 4 4 4 5 5 5 \n",
      "\n",
      "1 2 3 4 5 \n",
      "\n",
      "[1] FALSE FALSE  TRUE FALSE FALSE  TRUE FALSE\n"
     ]
    }
   ],
   "source": [
    "# Execute o código abaixo!!\n",
    "\n",
    "vet1 <- c(4,1,2,3)\n",
    "vet2 <- c(8,7,6,5)\n",
    "\n",
    "# A função order() ordena o vetor em ordem crescente ou decrescente, mas exibe a ordenação pelos índices do vetor\n",
    "\n",
    "vet3<- order(vet1, decreasing = FALSE)\n",
    "\n",
    "cat(\"   \",vet1, \"<-- vet1\\n\\n\")\n",
    "cat(\"   \",vet3, \"<--ìndices ordenados vet1\\n\\n\")\n",
    "\n",
    "#Para exibir o vetor ordenado utiliza-se o operador [ ] que seleciona um elemento através da posição dele no vetor\n",
    "\n",
    "vet3<- vet1[order(vet1, decreasing = FALSE)]\n",
    "\n",
    "cat (\"   \",vet3, \"<-- vet1 ordenado em ordem crescente\\n\\n\")\n",
    "\n",
    "# A função sort() ordena o vetor em ordem crescente ou decrescente, exibindo o vetor ordenado\n",
    "\n",
    "vet3 <- sort(vet2, , decreasing = TRUE)\n",
    "\n",
    "cat (\"   \",vet3 , \"<-- vet2 ordenado em ordem decrescente\\n\\n\")\n",
    "\n",
    "\n",
    "# sum() retorna a soma dos elementos e cumsum() retorna a soma cumulativa dos elementos\n",
    "\n",
    "cat (\"   \",sum(vet1), \"<-- Soma dos elemento de vet1\\n\\n\")\n",
    "\n",
    "\n",
    "cat (\"   \",cumsum(vet1), \"<-- Soma cumulativa dos elemento de vet1\\n\\n\")\n",
    "\n",
    "# A função unique() remove duplicatas de um vetor\n",
    "vet <- rep(1:5,each=3)\n",
    "\n",
    "cat(vet, \"\\n\\n\")\n",
    "\n",
    "vet <- unique(vet)\n",
    "\n",
    "cat(vet, \"\\n\\n\")\n",
    "\n",
    "# A função is.na(x) retorna um vetor lógico de mesmo tamanho de x com TRUE nas possições cirrespondentes a NA:\n",
    "\n",
    "vet <- c(1,2,NA,4,5,NA,7)\n",
    "\n",
    "vetres<-is.na(vet)\n",
    "\n",
    "print(vetres)"
   ]
  },
  {
   "cell_type": "markdown",
   "metadata": {},
   "source": [
    "[voltar ao topo](#top)"
   ]
  },
  {
   "cell_type": "markdown",
   "metadata": {},
   "source": [
    "## Matrizes <a id=\"Matriz\"></a>"
   ]
  },
  {
   "attachments": {
    "image.png": {
     "image/png": "[encoded data removed]"
    }
   },
   "cell_type": "markdown",
   "metadata": {},
   "source": [
    "Matrizes são generalizações multidimensionais de vetores, isto é, possuem mais de uma dimensão. É uma coleção de elementos do mesmo tipo de dados (numérico, caráter ou lógico), dispostos em um número fixo de linhas e colunas, indexados por dois ou mais índices. Em R, as matrizes são criadas pela função matrix(). \n",
    "O **formato geral** é:\n",
    "<img src=attachment:image.png width=\"450\"> "
   ]
  },
  {
   "cell_type": "code",
   "execution_count": 19,
   "metadata": {},
   "outputs": [
    {
     "name": "stdout",
     "output_type": "stream",
     "text": [
      "\n",
      "Criando a matriz 2x2 matx\n",
      "     [,1] [,2]\n",
      "[1,]    1    3\n",
      "[2,]    2    4\n",
      "\n",
      "uma matriz unidimensional--> Não especificou linhas nem colunas\n",
      "      [,1]\n",
      " [1,]    1\n",
      " [2,]    2\n",
      " [3,]    3\n",
      " [4,]    4\n",
      " [5,]    5\n",
      " [6,]    6\n",
      " [7,]    7\n",
      " [8,]    8\n",
      " [9,]    9\n",
      "[10,]   10\n",
      "[11,]   11\n",
      "[12,]   12\n",
      "\n",
      "Criando a matriz 3x3 maty\n",
      "     [,1] [,2] [,3]\n",
      "[1,]   10   20   30\n",
      "[2,]  100  200  300\n",
      "[3,] 1000 2000 3000\n",
      "\n",
      "Criando uma matriz 3 X 3 com números inteiros gerados de 1 até 9\n",
      "     [,1] [,2] [,3]\n",
      "[1,]    1    4    7\n",
      "[2,]    2    5    8\n",
      "[3,]    3    6    9\n",
      "\n",
      "Criando a matriz 3 X 3 com números inteiros gerados de 1 até 9, mas  organizados por linha  (byrow)\n",
      "     [,1] [,2] [,3]\n",
      "[1,]    1    2    3\n",
      "[2,]    4    5    6\n",
      "[3,]    7    8    9\n",
      "\n",
      "Criando a matriz 3 X 3 com números inteiros gerados de 1 até 9, mas  organizados por Coluna  (byrow)\n",
      "     [,1] [,2] [,3]\n",
      "[1,]    1    4    7\n",
      "[2,]    2    5    8\n",
      "[3,]    3    6    9\n",
      "\n",
      "Criando uma matriz textual\n",
      "     [,1]   [,2]   \n",
      "[1,] \"ar\"   \"terra\"\n",
      "[2,] \"água\" \"fogo\" \n"
     ]
    }
   ],
   "source": [
    "# Execute o código abaixo!!\n",
    "\n",
    "# Criando a matriz 2x2 matx \n",
    "matx <- matrix(c(1,2,3,4),ncol = 2)\n",
    "\n",
    "cat(\"\\nCriando a matriz 2x2 matx\\n\")\n",
    "\n",
    "print(matx)\n",
    " \n",
    "\n",
    "new_mat = matrix(1:12) #Se não especifica o número de linhas(nrow) e/ou colunas(ncol), o R cria a uma matriz unidimensional\n",
    "\n",
    "cat(\"\\numa matriz unidimensional--> Não especificou linhas nem colunas\\n\")\n",
    "print(new_mat) \n",
    "\n",
    "# Criando a matriz 3x3 maty\n",
    "\n",
    "maty <- matrix(c(10, 100, 1000, 20, 200, 2000, 30, 300, 3000),ncol = 3)\n",
    "\n",
    "cat(\"\\nCriando a matriz 3x3 maty\\n\")\n",
    "print(maty)\n",
    "\n",
    "# Criando uma matriz 3 X 3 com números inteiros gerados de 1 até 9 \n",
    "\n",
    "matx <- matrix(data = 1:9, nrow=3 ,ncol = 3)\n",
    "\n",
    "cat(\"\\nCriando uma matriz 3 X 3 com números inteiros gerados de 1 até 9\\n\")\n",
    "\n",
    "print(matx) \n",
    "\n",
    "# Criando a matriz 3 X 3 com números inteiros gerados de 1 até 9, mas  organizados por linha  (byrow)\n",
    "\n",
    "matz <- matrix(data = 1:9, nrow=3 ,ncol = 3, byrow=TRUE)\n",
    "\n",
    "cat(\"\\nCriando a matriz 3 X 3 com números inteiros gerados de 1 até 9, mas  organizados por linha  (byrow)\\n\")\n",
    "\n",
    "print(matz) \n",
    "\n",
    "# Criando a matriz 3 X 3 com números inteiros gerados de 1 até 9, mas  organizados por coluna  (byrow=FALSE)\n",
    "\n",
    "matz <- matrix(data = 1:9, nrow=3 ,ncol = 3, byrow=FALSE)\n",
    "\n",
    "cat(\"\\nCriando a matriz 3 X 3 com números inteiros gerados de 1 até 9, mas  organizados por Coluna  (byrow)\\n\")\n",
    "\n",
    "print(matz) \n",
    "\n",
    "\n",
    "# Criando uma matriz de texto\n",
    "\n",
    "elemat <- matrix(c(\"ar\",\"água\",\"terra\",\"fogo\"),ncol=2,nrow=2)\n",
    "\n",
    "cat(\"\\nCriando uma matriz textual\\n\")\n",
    "\n",
    "print(elemat)\n"
   ]
  },
  {
   "cell_type": "markdown",
   "metadata": {},
   "source": [
    "[voltar ao topo](#top)"
   ]
  },
  {
   "cell_type": "markdown",
   "metadata": {},
   "source": [
    "### Nomes das linhas e colunas em uma matriz <a id=\"NomMat\"></a>\n",
    "Dar nomes as linhas e colunas de uma matriz facilita a utilização e leitura dos dados de seus dados e, por conta disso, a linguagem R possui duas funções **rownames() e colnames()** para efetuar as operações de nomear as linhas e colunas, respectivamente. Uma vez com nomes das linhas e colunas, podemos utilizar os mesmos para realizar filtros na matriz."
   ]
  },
  {
   "cell_type": "code",
   "execution_count": 25,
   "metadata": {},
   "outputs": [
    {
     "name": "stdout",
     "output_type": "stream",
     "text": [
      "        Jan  Fev  Mar\n",
      "Ana    1000 -100  300\n",
      "André  -200  250 1000\n",
      "Carlos  120  -20 2000\n",
      "\n",
      " Jan  Fev  Mar \n",
      "-200  250 1000 \n",
      "\n",
      " Jan  Fev  Mar \n",
      "-200  250 1000 \n",
      "\n",
      "   Ana  André Carlos \n",
      "  1200   1050   2100 \n",
      "\n",
      " Jan  Fev  Mar \n",
      " 920  130 3300 \n"
     ]
    }
   ],
   "source": [
    "#Execute o código abaixo!!\n",
    "#Criando uma matriz 3x3\n",
    "Mat = matrix(c(1000, -200, 120,-100, 250, -20, 300, 1000, 2000), ncol=3, nrow = 3)\n",
    "\n",
    "# Renomeando as colunas e linhas da matriz\n",
    "colnames(Mat) <- c(\"Jan\", \"Fev\", \"Mar\")\n",
    "rownames(Mat) <- c(\"Ana\", \"André\", \"Carlos\")\n",
    "\n",
    "print(Mat)\n",
    "\n",
    "cat(\"\\n\")\n",
    "\n",
    "# Para Exibir apenas as transaçoes realizadas pelo cliente André\n",
    "\n",
    "trans = Mat[\"André\",]\n",
    "print(trans)\n",
    "\n",
    "cat(\"\\n\")\n",
    "#Realizando a mesma operação através do fatiamento\n",
    "trans = Mat[2:2,1:3]\n",
    "print(trans)\n",
    "\n",
    "cat(\"\\n\")\n",
    "\n",
    "\n",
    "\n",
    "# realiza a soma das transações por correntista (soma das linhas)\n",
    "corr = rowSums(Mat)\n",
    "print(corr)\n",
    "\n",
    "cat(\"\\n\")\n",
    "\n",
    "# realiza a soma das transações a cada mês (soma das colunas)\n",
    "mes = colSums(Mat)\n",
    "print(mes)"
   ]
  },
  {
   "cell_type": "markdown",
   "metadata": {},
   "source": [
    "### Exercício 5<a id=\"Exercicio5\"></a>"
   ]
  },
  {
   "cell_type": "markdown",
   "metadata": {},
   "source": [
    "Faça um programa R para calcular a média ponderadas das notas dos alunos de uma turma, sabendo que a <b>nota1</b> tem <b>peso = 3</b>, a <b>nota2</b> tem <b>peso = 3</b> e a <b>nota3</b> tem <b>peso = 4</b>. Imprimir a matricula, média e o conceito final de cada aluno, conforme tabela abaixo:<br>\n",
    "\n",
    "| Intervalo |   Conceito   |\n",
    "|:--------- |-------------:|\n",
    "|9.0 a 10.0 |      A       |\n",
    "| 7.0 a 8.9 |      B       |\n",
    "| 5.0 a 6.9 |      C       |\n",
    "| 0.0 a 4.9 |      D       |\n",
    "\n",
    "\n",
    "As matriculas dos alunos encontram-se armazenadas no vetor **vmat** e as três notas encontram-se armazenadas na matriz **mnota**, nas linhas correspondentes.\n",
    "Fazer 2 funções:\n",
    "+ Função para calcular a media ponderada das notas. Argumentos de entrada vetor notas, Saída a média. \n",
    "+ Função para informar o conceito final. A função irá receber como argumento de entrada a média das notas e retornar o conceito conforme a tabela acima.\n"
   ]
  },
  {
   "cell_type": "code",
   "execution_count": 50,
   "metadata": {},
   "outputs": [
    {
     "name": "stdout",
     "output_type": "stream",
     "text": [
      " Matricula =  1004 \n",
      " Média =  5.85 \n",
      " Conceito = C \n",
      "\n",
      " Matricula =  1005 \n",
      " Média =  8.66 \n",
      " Conceito = B \n",
      "\n",
      " Matricula =  1010 \n",
      " Média =  4.07 \n",
      " Conceito = D \n",
      "\n",
      " Matricula =  1015 \n",
      " Média =  6.05 \n",
      " Conceito = C \n",
      "\n",
      " Matricula =  1021 \n",
      " Média =  9.57 \n",
      " Conceito = A \n",
      "\n",
      " Matricula =  1030 \n",
      " Média =  9.76 \n",
      " Conceito = A \n",
      "\n",
      " Matricula =  1035 \n",
      " Média =  6.95 \n",
      " Conceito = B \n",
      "\n",
      " Matricula =  1040 \n",
      " Média =  6.09 \n",
      " Conceito = C \n",
      "\n",
      " Matricula =  1042 \n",
      " Média =  1.63 \n",
      " Conceito = D \n",
      "\n",
      " Matricula =  1050 \n",
      " Média =  7.99 \n",
      " Conceito = B \n",
      "\n"
     ]
    }
   ],
   "source": [
    "# Coloque seu código aqui!!\n",
    "\n",
    "vmat = c(1004,1005,1010, 1015, 1021, 1030, 1035, 1040, 1042, 1050)\n",
    "mnotas = matrix(c(6.5, 3.4, 7.2, 8.3, 7.9, 9.5, 2.4, 3.7, 5.6, 4.8, 6.7, 6.5, 8.9, 9.8, 9.9, 10.0, 9.2, 10.0,\n",
    "                 7.8, 6.7, 6.5, 4.6, 6.9, 6.6, 2.1, 0.0, 2.5, 7.8, 9.9, 6.7), ncol=3, nrow = 10, byrow=TRUE)\n",
    "\n",
    "ponder <- function(notas){\n",
    "    media <- notas[1] * 0.3 + notas[2] * 0.3 + notas[3] * 0.4\n",
    "    return (media)\n",
    "}\n",
    "\n",
    "conceito <- function(media){\n",
    "  vnot = c(4.9, 6.9, 8.9, 10.0) \n",
    "  vcon = c('D', 'C', 'B', 'A')\n",
    "  i <- 1\n",
    "  while (vnot [i] < media)  {\n",
    "      i <- i + 1\n",
    "  }\n",
    "  return(vcon[i])    \n",
    "\n",
    "}\n",
    "\n",
    "for (i in 1:10) { \n",
    "   media = ponder(mnotas[i, 1:3])\n",
    "   conc = conceito(media)\n",
    "   cat(paste(' Matricula = ', vmat[i], '\\n', 'Média = ', media, '\\n', 'Conceito =', conc, '\\n\\n' ), sep='')\n",
    "}"
   ]
  },
  {
   "attachments": {
    "image.png": {
     "image/png": "[encoded data removed]"
    }
   },
   "cell_type": "markdown",
   "metadata": {},
   "source": [
    "Faça um programa para calcular o valor das parcelas de um financiamento no regime de juros compostos com capitalização mensal para 10 clientes. A matriz **mfin** contém os valores de financiamento e o número de parcelas. Calcular e exibir o valor da parcela. Abaixo apresentamos a tabela contendo os prazos de financiamentos e a taxa de juros anual:<br>\n",
    "\n",
    "|  Prazo   |   taxa a.a.   |\n",
    "|:---------|--------------:|\n",
    "|   6      |     7%        |\n",
    "|   12     |     10%       |\n",
    "|   18     |     12%       |\n",
    "|   24     |     15%       |\n",
    "|   30     |     18%       |\n",
    "\n",
    "\n",
    " \n",
    "Fazer duas funções:\n",
    "+ Função que calcula o valor da prestação. Argumentos de entrada: vetor financiamento e prazo, e juros mensal do financiamento; saída: Prestação. \n",
    "\n",
    "+ Função que calcula a taxa mensal do financiamento. Argumento de entrada: prazo; saída: taxa. A taxa da tabela é anual, mas como a capitalização é mensal, é necessário fazer a equivalência. \n",
    "As fórmulas de cálculo da prestação e equivalência é mostrada abaixo: \n",
    "\n",
    "<img src=attachment:image.png width=\"280\">              \n"
   ]
  },
  {
   "cell_type": "code",
   "execution_count": 35,
   "metadata": {},
   "outputs": [
    {
     "name": "stdout",
     "output_type": "stream",
     "text": [
      "parcela =  1104.87 \n",
      "parcela =  802.31 \n",
      "parcela =  728.04 \n",
      "parcela =  3795.18 \n",
      "parcela =  4011.36 \n",
      "parcela =  1516.48 \n",
      "parcela =  2913.48 \n",
      "parcela =  3945.34 \n",
      "parcela =  1736.77 \n"
     ]
    }
   ],
   "source": [
    "mfin = matrix(c(6500, 6, 4720, 6, 8300, 12,  79000, 24, 83500, 24, 37000, 30, 48000, 18, 65000, 18, \n",
    "                19800, 12, 10000, 6), ncol=2, nrow = 10, byrow=TRUE)\n",
    "\n",
    "axames <- function(prazo){\n",
    "  vtaxa = c(0.07,0.1,0.12, 0.15, 0.18)   \n",
    "  tx = vtaxa[prazo%/%6]\n",
    "  tmes = (1+tx)**(1/12) - 1\n",
    "  return(tmes) \n",
    "}\n",
    "\n",
    "valfin <- function(fin, tx) {\n",
    "    prest = fin[1] * ((1 + tx)**fin[2] * tx)/((1 + tx)**fin[2] - 1)\n",
    "    return (prest)\n",
    "}\n",
    "i <- 1\n",
    "\n",
    "while (i < 10) {\n",
    "    txmes = taxames(mfin[i, 2])\n",
    "    presta = valfin(mfin[i,1:2], txmes)\n",
    "    cat(paste('parcela = ', round(presta, digits = 2), '\\n' ), sep='')\n",
    "    i <- i + 1\n",
    "}\n"
   ]
  },
  {
   "cell_type": "markdown",
   "metadata": {},
   "source": [
    "[voltar ao topo](#top)"
   ]
  },
  {
   "cell_type": "markdown",
   "metadata": {},
   "source": [
    "## DataFrames<a id=\"DataFrame\"></a>"
   ]
  },
  {
   "cell_type": "markdown",
   "metadata": {},
   "source": [
    "Até agora as estruturas de dados apresentadas (vetor e matriz) armazenam dados de mesmo tipo. DataFrame são estruturas de dados tabulares, parecidos com as matrizes bi-dimensionais, mas podem ter diferentes tipos de dados em suas colunas, isto é, cada coluna contém valores variáveis de mesmo tipo e cada linha contém um conjunto de valores das diferentes colunas (um por coluna). Os DataFrames possuem as seguintes características:\n",
    "\n",
    "> + As colunas deve ter um nome, não devem ser vazias.\n",
    "> + Os nomes das linhas devem ser exclusivos (índices).\n",
    "> + Os dados armazenados em um dataframe podem ser do tipo numérico, real ou caractere.\n",
    "> + Cada coluna deve conter o mesmo número de itens de dados.<br>\n",
    "\n",
    "Observe o DataFrame a seguir onde cada coluna representa um tipo de dados referente as informações dos alunos e cada linha representa um aluno:\n",
    "\n",
    "<table class=\"table table-condensed\">\n",
    "<thead>\n",
    "<tr class=\"header\">\n",
    "<th align=\"center\">nome</th>\n",
    "<th align=\"center\">altura</th>\n",
    "<th>idade</th>\n",
    "<th align=\"center\">sexo</th>\n",
    "<th align=\"center\">peso</th>\n",
    "<th align=\"center\">uf</th>\n",
    "<th align=\"center\">renda (S.M.)</th>\n",
    "</tr>\n",
    "</thead>\n",
    "<tbody>\n",
    "<tr class=\"odd\">\n",
    "<td align=\"left\">João</td>\n",
    "<td align=\"center\">1.70</td>\n",
    "<td>22</td>\n",
    "<td align=\"center\">M</td>\n",
    "<td align=\"center\">78.3</td>\n",
    "<td align=\"center\">PB</td>\n",
    "<td align=\"center\">2</td>\n",
    "</tr>\n",
    "<tr class=\"even\">\n",
    "<td align=\"left\">Pedro</td>\n",
    "<td align=\"center\">1.87</td>\n",
    "<td>21</td>\n",
    "<td align=\"center\">M</td>\n",
    "<td align=\"center\">92.1</td>\n",
    "<td align=\"center\">AL</td>\n",
    "<td align=\"center\">5</td>\n",
    "</tr>\n",
    "<tr class=\"odd\">\n",
    "<td align=\"left\">Ana</td>\n",
    "<td align=\"center\">1.69</td>\n",
    "<td>18</td>\n",
    "<td align=\"center\">F</td>\n",
    "<td align=\"center\">66.5</td>\n",
    "<td align=\"center\">PE</td>\n",
    "<td align=\"center\">10</td>\n",
    "</tr>\n",
    "<tr class=\"even\">\n",
    "<td align=\"left\">Teo</td>\n",
    "<td align=\"center\">1.75</td>\n",
    "<td>20</td>\n",
    "<td align=\"center\">M</td>\n",
    "<td align=\"center\">88.1</td>\n",
    "<td align=\"center\">RJ</td>\n",
    "<td align=\"center\">20</td>\n",
    "</tr>\n",
    "<tr class=\"odd\">\n",
    "<td align=\"left\">Fernanda</td>\n",
    "<td align=\"center\">1.66</td>\n",
    "<td>23</td>\n",
    "<td align=\"center\">F</td>\n",
    "<td align=\"center\">58.0</td>\n",
    "<td align=\"center\">SP</td>\n",
    "<td align=\"center\">10</td>\n",
    "</tr>\n",
    "<tr class=\"even\">\n",
    "<td align=\"left\">Gustavo</td>\n",
    "<td align=\"center\">1.73</td>\n",
    "<td>19</td>\n",
    "<td align=\"center\">M</td>\n",
    "<td align=\"center\">75.4</td>\n",
    "<td align=\"center\">CE</td>\n",
    "<td align=\"center\">NA</td>\n",
    "</tr>\n",
    "</tbody>\n",
    "</table>"
   ]
  },
  {
   "cell_type": "code",
   "execution_count": 87,
   "metadata": {},
   "outputs": [
    {
     "data": {
      "text/html": [
       "<ol>\n",
       "\t<li><table>\n",
       "<thead><tr><th scope=col>nome</th><th scope=col>altura</th><th scope=col>sexo</th><th scope=col>peso</th><th scope=col>uf</th><th scope=col>renda</th></tr></thead>\n",
       "<tbody>\n",
       "\t<tr><td>João    </td><td>1.70    </td><td>M       </td><td>78.3    </td><td>PB      </td><td> 2      </td></tr>\n",
       "\t<tr><td>Pedro   </td><td>1.87    </td><td>M       </td><td>92.1    </td><td>AL      </td><td> 5      </td></tr>\n",
       "\t<tr><td>Ana     </td><td>1.69    </td><td>F       </td><td>66.5    </td><td>PE      </td><td>10      </td></tr>\n",
       "\t<tr><td>Teo     </td><td>1.75    </td><td>M       </td><td>88.1    </td><td>RJ      </td><td>20      </td></tr>\n",
       "\t<tr><td>Fernanda</td><td>1.66    </td><td>F       </td><td>58.0    </td><td>SP      </td><td>10      </td></tr>\n",
       "\t<tr><td>Gustavo </td><td>1.73    </td><td>M       </td><td>75.4    </td><td>CE      </td><td>NA      </td></tr>\n",
       "</tbody>\n",
       "</table>\n",
       "</li>\n",
       "</ol>\n"
      ],
      "text/latex": [
       "\\begin{enumerate}\n",
       "\\item \\begin{tabular}{r|llllll}\n",
       " nome & altura & sexo & peso & uf & renda\\\\\n",
       "\\hline\n",
       "\t João     & 1.70     & M        & 78.3     & PB       &  2      \\\\\n",
       "\t Pedro    & 1.87     & M        & 92.1     & AL       &  5      \\\\\n",
       "\t Ana      & 1.69     & F        & 66.5     & PE       & 10      \\\\\n",
       "\t Teo      & 1.75     & M        & 88.1     & RJ       & 20      \\\\\n",
       "\t Fernanda & 1.66     & F        & 58.0     & SP       & 10      \\\\\n",
       "\t Gustavo  & 1.73     & M        & 75.4     & CE       & NA      \\\\\n",
       "\\end{tabular}\n",
       "\n",
       "\\end{enumerate}\n"
      ],
      "text/markdown": [
       "1. \n",
       "| nome | altura | sexo | peso | uf | renda |\n",
       "|---|---|---|---|---|---|\n",
       "| João     | 1.70     | M        | 78.3     | PB       |  2       |\n",
       "| Pedro    | 1.87     | M        | 92.1     | AL       |  5       |\n",
       "| Ana      | 1.69     | F        | 66.5     | PE       | 10       |\n",
       "| Teo      | 1.75     | M        | 88.1     | RJ       | 20       |\n",
       "| Fernanda | 1.66     | F        | 58.0     | SP       | 10       |\n",
       "| Gustavo  | 1.73     | M        | 75.4     | CE       | NA       |\n",
       "\n",
       "\n",
       "\n",
       "\n"
      ],
      "text/plain": [
       "[[1]]\n",
       "      nome altura sexo peso uf renda\n",
       "1     João   1.70    M 78.3 PB     2\n",
       "2    Pedro   1.87    M 92.1 AL     5\n",
       "3      Ana   1.69    F 66.5 PE    10\n",
       "4      Teo   1.75    M 88.1 RJ    20\n",
       "5 Fernanda   1.66    F 58.0 SP    10\n",
       "6  Gustavo   1.73    M 75.4 CE    NA\n"
      ]
     },
     "metadata": {},
     "output_type": "display_data"
    },
    {
     "name": "stdout",
     "output_type": "stream",
     "text": [
      "     nome               altura          sexo                peso      \n",
      " Length:6           Min.   :1.660   Length:6           Min.   :58.00  \n",
      " Class :character   1st Qu.:1.692   Class :character   1st Qu.:68.72  \n",
      " Mode  :character   Median :1.715   Mode  :character   Median :76.85  \n",
      "                    Mean   :1.733                      Mean   :76.40  \n",
      "                    3rd Qu.:1.745                      3rd Qu.:85.65  \n",
      "                    Max.   :1.870                      Max.   :92.10  \n",
      "                                                                      \n",
      "      uf                renda     \n",
      " Length:6           Min.   : 2.0  \n",
      " Class :character   1st Qu.: 5.0  \n",
      " Mode  :character   Median :10.0  \n",
      "                    Mean   : 9.4  \n",
      "                    3rd Qu.:10.0  \n",
      "                    Max.   :20.0  \n",
      "                    NA's   :1     \n"
     ]
    }
   ],
   "source": [
    "# Criação do DataFrame\n",
    "func <- data.frame( \n",
    "   nome = c(\"João\",\"Pedro\",\"Ana\",\"Teo\",\"Fernanda\", \"Gustavo\"),\n",
    "   altura = c(1.7,1.87,1.69,1.75,1.66, 1.73), \n",
    "   sexo = c('M', 'M', 'F', 'M', 'F', 'M'),\n",
    "   peso = c(78.3, 92.1, 66.5, 88.1, 58, 75.4),\n",
    "   uf =c(\"PB\", \"AL\", \"PE\", \"RJ\", \"SP\", \"CE\"),\n",
    "   renda = c(2, 5, 10, 20, 10, NA),\n",
    "   stringsAsFactors = FALSE\n",
    ")\n",
    "\n",
    "list(func) \n",
    "\n",
    "#Resumo do DataFrame\n",
    "\n",
    "print(summary(func))  "
   ]
  },
  {
   "cell_type": "markdown",
   "metadata": {},
   "source": [
    "### Extraindo dados do DataFrame<a id=\"Extrair\"></a>"
   ]
  },
  {
   "cell_type": "markdown",
   "metadata": {},
   "source": [
    "Pode-se extrair uma coluna (dados) específica do um Dataframe usando apenas o nome da coluna. O formato de será o nome do Dataframe seguido do nome da coluna, separados pelo símbolo **$**."
   ]
  },
  {
   "cell_type": "code",
   "execution_count": 66,
   "metadata": {},
   "outputs": [
    {
     "name": "stdout",
     "output_type": "stream",
     "text": [
      "[1] \"João\"     \"Pedro\"    \"Ana\"      \"Teo\"      \"Fernanda\" \"Gustavo\" \n",
      "[1] \"Ana\"\n",
      "[1] \"Ana\"      \"Teo\"      \"Fernanda\"\n",
      "      nome altura\n",
      "1     João   1.70\n",
      "2    Pedro   1.87\n",
      "3      Ana   1.69\n",
      "4      Teo   1.75\n",
      "5 Fernanda   1.66\n",
      "6  Gustavo   1.73\n",
      "   nome altura sexo peso uf renda\n",
      "1  João   1.70    M 78.3 PB     2\n",
      "2 Pedro   1.87    M 92.1 AL     5\n"
     ]
    }
   ],
   "source": [
    "#Extraindo a coluna Nome do DataFrame alun.\n",
    "x <- func$nome\n",
    "\n",
    "#Exibindo os dados extraídos da coluna\n",
    "print(x)\n",
    "\n",
    "#Exibido o terceiro nome extraído da coluna\n",
    "print(x[3])\n",
    "\n",
    "#Exibindo terceiro, quarto e quinto nomes (slice)\n",
    "print(x[3:5])\n",
    "\n",
    "# Extraindo as colunas na notação matricial. Extraindo as 2 primeiras colunas\n",
    "r <- func[ ,1:2]\n",
    "print(r)\n",
    "\n",
    "#Extraindo a duas primeiras linhas na notação matricial. \n",
    "r <- func[1:2,]\n",
    "print(r)"
   ]
  },
  {
   "cell_type": "markdown",
   "metadata": {},
   "source": [
    "### Adicionando dados ao Dataframe<a id=\"Adicao\"></a>"
   ]
  },
  {
   "cell_type": "markdown",
   "metadata": {},
   "source": [
    "Pode-se incluir novas linhas e colunas ao DataFrame. Para inclusão de novas,utiliza-se o comando rbind. "
   ]
  },
  {
   "cell_type": "code",
   "execution_count": 88,
   "metadata": {},
   "outputs": [
    {
     "name": "stdout",
     "output_type": "stream",
     "text": [
      "      nome altura sexo peso uf renda       escol\n",
      "1     João   1.70    M 78.3 PB     2 Fundamental\n",
      "2    Pedro   1.87    M 92.1 AL     5       Médio\n",
      "3      Ana   1.69    F 66.5 PE    10       Médio\n",
      "4      Teo   1.75    M 88.1 RJ    20    Superior\n",
      "5 Fernanda   1.66    F 58.0 SP    10    Superior\n",
      "6  Gustavo   1.73    M 75.4 CE    NA Fundamental\n",
      "\n",
      "      nome altura sexo peso uf renda       escol\n",
      "1     João   1.70    M 78.3 PB     2 Fundamental\n",
      "2    Pedro   1.87    M 92.1 AL     5       Médio\n",
      "3      Ana   1.69    F 66.5 PE    10       Médio\n",
      "4      Teo   1.75    M 88.1 RJ    20    Superior\n",
      "5 Fernanda   1.66    F 58.0 SP    10    Superior\n",
      "6  Gustavo   1.73    M 75.4 CE    NA Fundamental\n",
      "7   Silvia   1.67    F 61.4 RJ    12    Superior\n",
      "      nome altura sexo peso uf renda       escol\n",
      "1     João   1.70    M 78.3 PB     2 Fundamental\n",
      "2    Pedro   1.87    M 92.1 AL     5       Médio\n",
      "3      Ana   1.69    F 66.5 PE    10       Médio\n",
      "4      Teo   1.75    M 88.1 RJ    20    Superior\n",
      "5 Fernanda   1.66    F 58.0 SP    10    Superior\n",
      "6  Gustavo   1.73    M 75.4 CE    NA Fundamental\n",
      "7   Silvia   1.67    F 61.4 RJ    12    Superior\n",
      "8  Rodrigo   1.75    M 77.3 SP     6       Médio\n"
     ]
    }
   ],
   "source": [
    "# Adicionando a coluna escol(escolaridade).\n",
    "\n",
    "func$escol <- c('Fundamental',\"Médio\",\"Médio\",\"Superior\",\"Superior\",\"Fundamental\")\n",
    "\n",
    "print(func)\n",
    "\n",
    "cat('\\n')\n",
    "func1<- data.frame( \n",
    "   nome = c(\"Silvia\"),\n",
    "   altura = c(1.67), \n",
    "   sexo = c('F'),\n",
    "   peso = c(61.4),\n",
    "   uf =c(\"RJ\"),\n",
    "   renda = c(12),\n",
    "   escol = c(\"Superior\"),\n",
    "   stringsAsFactors = FALSE\n",
    ")\n",
    "\n",
    "func <- rbind(func, func1)\n",
    "print(func)\n",
    "cat('\\n')\n",
    "\n",
    "func<-rbind(func,list(\"Rodrigo\",1.75, 'M', 77.3, \"SP\", 6,\"Médio\"))\n",
    "\n",
    "print(func)"
   ]
  },
  {
   "cell_type": "markdown",
   "metadata": {},
   "source": [
    "[voltar ao topo](#top)"
   ]
  },
  {
   "cell_type": "markdown",
   "metadata": {},
   "source": [
    "### Operações usando DataFrames <a id=\"Operacao\"></a>"
   ]
  },
  {
   "cell_type": "markdown",
   "metadata": {},
   "source": [
    "#### Ordenar a tabela \n",
    "Ordenando a tabela em ordem alfabética (ascendente) pela coluna **nome**. Função **order()**."
   ]
  },
  {
   "cell_type": "code",
   "execution_count": 93,
   "metadata": {},
   "outputs": [
    {
     "name": "stdout",
     "output_type": "stream",
     "text": [
      "      nome altura sexo peso uf renda       escol\n",
      "3      Ana   1.69    F 66.5 PE    10       Médio\n",
      "5 Fernanda   1.66    F 58.0 SP    10    Superior\n",
      "6  Gustavo   1.73    M 75.4 CE    NA Fundamental\n",
      "1     João   1.70    M 78.3 PB     2 Fundamental\n",
      "2    Pedro   1.87    M 92.1 AL     5       Médio\n",
      "8  Rodrigo   1.75    M 77.3 SP     6       Médio\n",
      "7   Silvia   1.67    F 61.4 RJ    12    Superior\n",
      "4      Teo   1.75    M 88.1 RJ    20    Superior\n"
     ]
    }
   ],
   "source": [
    "func<-func[order(func$nome),] # ordena os dados do DataFrame func pela ordem de nomes  \n",
    "                              # para colocar em ordem decrescente use o argumento decreasing=TRUE \n",
    "print(func)"
   ]
  },
  {
   "cell_type": "markdown",
   "metadata": {},
   "source": [
    "#### Calcular a média \n",
    "\n",
    "Podemos calcular a média de cada coluna da dataframe usando a função **mean()**.  "
   ]
  },
  {
   "cell_type": "code",
   "execution_count": 97,
   "metadata": {},
   "outputs": [
    {
     "data": {
      "text/html": [
       "74.6375"
      ],
      "text/latex": [
       "74.6375"
      ],
      "text/markdown": [
       "74.6375"
      ],
      "text/plain": [
       "[1] 74.6375"
      ]
     },
     "metadata": {},
     "output_type": "display_data"
    },
    {
     "data": {
      "text/html": [
       "74.6375"
      ],
      "text/latex": [
       "74.6375"
      ],
      "text/markdown": [
       "74.6375"
      ],
      "text/plain": [
       "[1] 74.6375"
      ]
     },
     "metadata": {},
     "output_type": "display_data"
    },
    {
     "data": {
      "text/html": [
       "&lt;NA&gt;"
      ],
      "text/latex": [
       "<NA>"
      ],
      "text/markdown": [
       "&lt;NA&gt;"
      ],
      "text/plain": [
       "[1] NA"
      ]
     },
     "metadata": {},
     "output_type": "display_data"
    }
   ],
   "source": [
    "mean(func[,\"peso\"]) # média da coluna peso\n",
    "#ou use   \n",
    "mean(func$peso)  \n",
    "\n",
    "mean(func$renda) # média da coluna renada retornou NA porque há uma linha contendo esse valor. R não calcula a média.\n",
    "\n"
   ]
  },
  {
   "cell_type": "markdown",
   "metadata": {},
   "source": [
    "Se quisermos saber a média da renda dos funcionários nos diferentes grupos de escolaridade, o R provê uma função que permite executar uma determinada função de agrupamento(pex. média, max, min) para cada um dos grupos. Isso facilita muito, principalmente quando tivermos muitas categorias/grupos, o melhor é usar a função **tapply()**. \n",
    "Ela funciona assim: **tapply(dados, grupos, função)**. "
   ]
  },
  {
   "cell_type": "code",
   "execution_count": 108,
   "metadata": {},
   "outputs": [
    {
     "name": "stdout",
     "output_type": "stream",
     "text": [
      "      nome altura sexo peso uf renda       escol\n",
      "3      Ana   1.69    F 66.5 PE    10       Médio\n",
      "5 Fernanda   1.66    F 58.0 SP    10    Superior\n",
      "6  Gustavo   1.73    M 75.4 CE     7 Fundamental\n",
      "1     João   1.70    M 78.3 PB     2 Fundamental\n",
      "2    Pedro   1.87    M 92.1 AL     5       Médio\n",
      "8  Rodrigo   1.75    M 77.3 SP     6       Médio\n",
      "7   Silvia   1.67    F 61.4 RJ    12    Superior\n",
      "4      Teo   1.75    M 88.1 RJ    20    Superior\n",
      "\n",
      "      nome altura sexo peso uf renda       escol\n",
      "3      Ana   1.69    F 66.5 PE    10       Médio\n",
      "5 Fernanda   1.66    F 58.0 SP    10    Superior\n",
      "6  Gustavo   1.73    M 75.4 CE     7 Fundamental\n",
      "1     João   1.70    M 78.3 PB     2 Fundamental\n",
      "2    Pedro   1.87    M 92.1 AL     5       Médio\n",
      "8  Rodrigo   1.75    M 77.3 SP     6       Médio\n",
      "7   Silvia   1.67    F 61.4 RJ    12    Superior\n",
      "4      Teo   1.75    M 88.1 RJ    20    Superior\n"
     ]
    },
    {
     "data": {
      "text/html": [
       "<dl class=dl-horizontal>\n",
       "\t<dt>Fundamental</dt>\n",
       "\t\t<dd>4.5</dd>\n",
       "\t<dt>Médio</dt>\n",
       "\t\t<dd>7</dd>\n",
       "\t<dt>Superior</dt>\n",
       "\t\t<dd>14</dd>\n",
       "</dl>\n"
      ],
      "text/latex": [
       "\\begin{description*}\n",
       "\\item[Fundamental] 4.5\n",
       "\\item[Médio] 7\n",
       "\\item[Superior] 14\n",
       "\\end{description*}\n"
      ],
      "text/markdown": [
       "Fundamental\n",
       ":   4.5Médio\n",
       ":   7Superior\n",
       ":   14\n",
       "\n"
      ],
      "text/plain": [
       "Fundamental       Médio    Superior \n",
       "        4.5         7.0        14.0 "
      ]
     },
     "metadata": {},
     "output_type": "display_data"
    }
   ],
   "source": [
    "print(func)\n",
    "cat('\\n')      \n",
    "ind = which(func$nome == 'Gustavo') # A função which retorna o índice das linha que atendem a seleção (nome = Gustavo)\n",
    "\n",
    "func$renda[ind] <- 7    #Alterando a renda da linha com o Nome Gustavo para 7 (antes NA), para que possa calcular a média\n",
    "\n",
    "print(func)\n",
    "\n",
    "tapply(func$renda, func$escol, mean)"
   ]
  },
  {
   "cell_type": "markdown",
   "metadata": {},
   "source": [
    "[voltar ao topo](#top)"
   ]
  },
  {
   "cell_type": "markdown",
   "metadata": {},
   "source": [
    "### Exercício 6<a id=\"Exercicio6\"></a>\n",
    "\n",
    "> 1. O último ranking das 15 universidades brasileiras contou 5 universidades em São Paulo, 4 no Rio de Janeiro, 2 em Minas gerais, 2 no Rio Grande do Sul, 1 na Bahia e 1 em Santa Catarina. Crie um data frame para armazenar estas informações (Nome do Estado e quantidade de Universidades).\n",
    "> 2. Com o data frame criado, mostre qual os estados que possuem menos de 3 universidades (usando seleção condicional!).\n",
    "> 3. Crie uma nova coluna (região) neste data frame indicando que Rio, São Paulo e Minas estão localizadas região Sudeste, Rio Grande do Sul e Santa Catarina na região sul e Bahia está na região Nordeste.\n",
    "> 4. Selecione os estados da região Sudeste que possuem menos de 3 universidades.\n",
    "> 5. Qual o estado com maior número de Universidades"
   ]
  },
  {
   "cell_type": "code",
   "execution_count": 146,
   "metadata": {},
   "outputs": [
    {
     "name": "stdout",
     "output_type": "stream",
     "text": [
      "            estados qtde\n",
      "1    Rio de janeiro    4\n",
      "2         São Paulo    5\n",
      "3      Minas Gerais    2\n",
      "4 Rio Grande do Sul    2\n",
      "5    Santa Catarina    1\n",
      "6             Bahia    1\n"
     ]
    },
    {
     "data": {
      "text/html": [
       "<table>\n",
       "<thead><tr><th></th><th scope=col>estados</th><th scope=col>qtde</th></tr></thead>\n",
       "<tbody>\n",
       "\t<tr><th scope=row>3</th><td>Minas Gerais     </td><td>2                </td></tr>\n",
       "\t<tr><th scope=row>4</th><td>Rio Grande do Sul</td><td>2                </td></tr>\n",
       "\t<tr><th scope=row>5</th><td>Santa Catarina   </td><td>1                </td></tr>\n",
       "\t<tr><th scope=row>6</th><td>Bahia            </td><td>1                </td></tr>\n",
       "</tbody>\n",
       "</table>\n"
      ],
      "text/latex": [
       "\\begin{tabular}{r|ll}\n",
       "  & estados & qtde\\\\\n",
       "\\hline\n",
       "\t3 & Minas Gerais      & 2                \\\\\n",
       "\t4 & Rio Grande do Sul & 2                \\\\\n",
       "\t5 & Santa Catarina    & 1                \\\\\n",
       "\t6 & Bahia             & 1                \\\\\n",
       "\\end{tabular}\n"
      ],
      "text/markdown": [
       "\n",
       "| <!--/--> | estados | qtde |\n",
       "|---|---|---|\n",
       "| 3 | Minas Gerais      | 2                 |\n",
       "| 4 | Rio Grande do Sul | 2                 |\n",
       "| 5 | Santa Catarina    | 1                 |\n",
       "| 6 | Bahia             | 1                 |\n",
       "\n"
      ],
      "text/plain": [
       "  estados           qtde\n",
       "3 Minas Gerais      2   \n",
       "4 Rio Grande do Sul 2   \n",
       "5 Santa Catarina    1   \n",
       "6 Bahia             1   "
      ]
     },
     "metadata": {},
     "output_type": "display_data"
    },
    {
     "data": {
      "text/html": [
       "<table>\n",
       "<thead><tr><th></th><th scope=col>estados</th><th scope=col>qtde</th></tr></thead>\n",
       "<tbody>\n",
       "\t<tr><th scope=row>3</th><td>Minas Gerais     </td><td>2                </td></tr>\n",
       "\t<tr><th scope=row>4</th><td>Rio Grande do Sul</td><td>2                </td></tr>\n",
       "\t<tr><th scope=row>5</th><td>Santa Catarina   </td><td>1                </td></tr>\n",
       "\t<tr><th scope=row>6</th><td>Bahia            </td><td>1                </td></tr>\n",
       "</tbody>\n",
       "</table>\n"
      ],
      "text/latex": [
       "\\begin{tabular}{r|ll}\n",
       "  & estados & qtde\\\\\n",
       "\\hline\n",
       "\t3 & Minas Gerais      & 2                \\\\\n",
       "\t4 & Rio Grande do Sul & 2                \\\\\n",
       "\t5 & Santa Catarina    & 1                \\\\\n",
       "\t6 & Bahia             & 1                \\\\\n",
       "\\end{tabular}\n"
      ],
      "text/markdown": [
       "\n",
       "| <!--/--> | estados | qtde |\n",
       "|---|---|---|\n",
       "| 3 | Minas Gerais      | 2                 |\n",
       "| 4 | Rio Grande do Sul | 2                 |\n",
       "| 5 | Santa Catarina    | 1                 |\n",
       "| 6 | Bahia             | 1                 |\n",
       "\n"
      ],
      "text/plain": [
       "  estados           qtde\n",
       "3 Minas Gerais      2   \n",
       "4 Rio Grande do Sul 2   \n",
       "5 Santa Catarina    1   \n",
       "6 Bahia             1   "
      ]
     },
     "metadata": {},
     "output_type": "display_data"
    },
    {
     "name": "stdout",
     "output_type": "stream",
     "text": [
      "            estados qtde   regiao\n",
      "1    Rio de janeiro    4  Sudeste\n",
      "2         São Paulo    5  Sudeste\n",
      "3      Minas Gerais    2  Sudeste\n",
      "4 Rio Grande do Sul    2      Sul\n",
      "5    Santa Catarina    1      Sul\n",
      "6             Bahia    1 Nordeste\n"
     ]
    },
    {
     "data": {
      "text/html": [
       "<ol class=list-inline>\n",
       "\t<li>'Rio de janeiro'</li>\n",
       "\t<li>'São Paulo'</li>\n",
       "</ol>\n"
      ],
      "text/latex": [
       "\\begin{enumerate*}\n",
       "\\item 'Rio de janeiro'\n",
       "\\item 'São Paulo'\n",
       "\\end{enumerate*}\n"
      ],
      "text/markdown": [
       "1. 'Rio de janeiro'\n",
       "2. 'São Paulo'\n",
       "\n",
       "\n"
      ],
      "text/plain": [
       "[1] \"Rio de janeiro\" \"São Paulo\"     "
      ]
     },
     "metadata": {},
     "output_type": "display_data"
    },
    {
     "data": {
      "text/html": [
       "<table>\n",
       "<thead><tr><th></th><th scope=col>estados</th></tr></thead>\n",
       "<tbody>\n",
       "\t<tr><th scope=row>2</th><td>São Paulo</td></tr>\n",
       "</tbody>\n",
       "</table>\n"
      ],
      "text/latex": [
       "\\begin{tabular}{r|l}\n",
       "  & estados\\\\\n",
       "\\hline\n",
       "\t2 & São Paulo\\\\\n",
       "\\end{tabular}\n"
      ],
      "text/markdown": [
       "\n",
       "| <!--/--> | estados |\n",
       "|---|---|\n",
       "| 2 | São Paulo |\n",
       "\n"
      ],
      "text/plain": [
       "  estados  \n",
       "2 São Paulo"
      ]
     },
     "metadata": {},
     "output_type": "display_data"
    }
   ],
   "source": [
    "#Coloque seu código aqui!!\n",
    "\n",
    "# (1)\n",
    "\n",
    "rank <- data.frame( \n",
    "   estados = c('Rio de janeiro', 'São Paulo', 'Minas Gerais', 'Rio Grande do Sul', 'Santa Catarina', 'Bahia'),\n",
    "   qtde = c(4, 5, 2, 2, 1, 1), \n",
    "   stringsAsFactors = FALSE\n",
    ")\n",
    "print(rank)\n",
    "\n",
    "# (2)\n",
    "\n",
    "rank[rank$qtde < 3,]\n",
    "# ou utilize a função subset(dataframe, seleção(linhas), colunas)\n",
    "subset(rank, qtde < 3)\n",
    "\n",
    "# (3)\n",
    "rank$regiao <- c('Sudeste',\"Sudeste\",\"Sudeste\",\"Sul\",\"Sul\",\"Nordeste\")\n",
    "print(rank)\n",
    "\n",
    "# (4)\n",
    "rank[rank$regiao == 'Sudeste' & rank$qtde >= 3,'estados']\n",
    "\n",
    "# (5)\n",
    "subset(rank, qtde == max(qtde), select = estados)"
   ]
  },
  {
   "cell_type": "markdown",
   "metadata": {},
   "source": [
    "#### aggregate e by \n",
    "\n",
    "As funções **by e aggregate** podem ser utilizadas para aplicar uma função de agregação em todas as colunas de uma tabela, enquanto a função **tapply** faz isso apenas uma coluna por vez. As duas funções retornam os mesmos resultados, mas de formas diferentes. \n",
    " "
   ]
  },
  {
   "cell_type": "code",
   "execution_count": 185,
   "metadata": {},
   "outputs": [
    {
     "data": {
      "text/html": [
       "<table>\n",
       "<thead><tr><th scope=col>Group.1</th><th scope=col>x</th></tr></thead>\n",
       "<tbody>\n",
       "\t<tr><td>Nordeste</td><td>1.000000</td></tr>\n",
       "\t<tr><td>Sudeste </td><td>3.666667</td></tr>\n",
       "\t<tr><td>Sul     </td><td>1.500000</td></tr>\n",
       "</tbody>\n",
       "</table>\n"
      ],
      "text/latex": [
       "\\begin{tabular}{r|ll}\n",
       " Group.1 & x\\\\\n",
       "\\hline\n",
       "\t Nordeste & 1.000000\\\\\n",
       "\t Sudeste  & 3.666667\\\\\n",
       "\t Sul      & 1.500000\\\\\n",
       "\\end{tabular}\n"
      ],
      "text/markdown": [
       "\n",
       "| Group.1 | x |\n",
       "|---|---|\n",
       "| Nordeste | 1.000000 |\n",
       "| Sudeste  | 3.666667 |\n",
       "| Sul      | 1.500000 |\n",
       "\n"
      ],
      "text/plain": [
       "  Group.1  x       \n",
       "1 Nordeste 1.000000\n",
       "2 Sudeste  3.666667\n",
       "3 Sul      1.500000"
      ]
     },
     "metadata": {},
     "output_type": "display_data"
    },
    {
     "data": {
      "text/html": [
       "<dl class=dl-horizontal>\n",
       "\t<dt>Nordeste</dt>\n",
       "\t\t<dd>1</dd>\n",
       "\t<dt>Sudeste</dt>\n",
       "\t\t<dd>11</dd>\n",
       "\t<dt>Sul</dt>\n",
       "\t\t<dd>3</dd>\n",
       "</dl>\n"
      ],
      "text/latex": [
       "\\begin{description*}\n",
       "\\item[Nordeste] 1\n",
       "\\item[Sudeste] 11\n",
       "\\item[Sul] 3\n",
       "\\end{description*}\n"
      ],
      "text/markdown": [
       "Nordeste\n",
       ":   1Sudeste\n",
       ":   11Sul\n",
       ":   3\n",
       "\n"
      ],
      "text/plain": [
       "rank[, \"regiao\"]\n",
       "Nordeste  Sudeste      Sul \n",
       "       1       11        3 "
      ]
     },
     "metadata": {},
     "output_type": "display_data"
    }
   ],
   "source": [
    "#Calculando a média de universidades por região\n",
    "x <- aggregate(rank[,2], by=list(rank[,3]), FUN=mean, na.rm=TRUE)\n",
    "x\n",
    "\n",
    "#Calculando a qtde de universidades por região. retorna uma lista.\n",
    "y <- by(rank[,2],rank[,'regiao'],sum) \n",
    "y[1:3]"
   ]
  },
  {
   "cell_type": "markdown",
   "metadata": {},
   "source": [
    "## Importação de dados<a id=\"Importacao\"></a>\n",
    " \n",
    "Para efetuar a leitura de arquivos do tipo CSV (separado por vírgulas) pode-se usar o comando **read.csv** para armazenar os dados desse arquivo em um objeto do R: \n",
    " \n",
    "Formato Geral: \n",
    " \n",
    " **dados <- read.csv(\"caminho_e_nome_do_arquivo.csv\", opções)** \n",
    " \n",
    "**opções:**  \n",
    "**sep:** caractere utilizado para separação dos campos e valores. Normalmente são utilizados a virgula(,) e o ponto e vírgula (;)<br> \n",
    "**dec:** caractere utilizado para separar as casas decimais. Normalmente ponto (.) ou vírgula (,). <br>\n",
    "**header:** TRUE, assume que a primeira linha da tabela contém rótulos das variáveis. FALSE, assume que os dados se iniciam na primeira linha. \n",
    " "
   ]
  },
  {
   "cell_type": "code",
   "execution_count": 204,
   "metadata": {},
   "outputs": [
    {
     "data": {
      "text/plain": [
       "         Data        Compra          Venda      \n",
       " 04/05/2020: 1   Min.   :5.426   Min.   :5.427  \n",
       " 05/05/2020: 1   1st Qu.:5.580   1st Qu.:5.581  \n",
       " 06/05/2020: 1   Median :5.667   Median :5.668  \n",
       " 07/05/2020: 1   Mean   :5.671   Mean   :5.672  \n",
       " 08/05/2020: 1   3rd Qu.:5.772   3rd Qu.:5.772  \n",
       " 11/05/2020: 1   Max.   :5.937   Max.   :5.937  \n",
       " (Other)   :15                                  "
      ]
     },
     "metadata": {},
     "output_type": "display_data"
    }
   ],
   "source": [
    "x <- read.csv(\"CotacoesMoedasPeriodo.csv\", sep=';',dec='.', header=TRUE) #Lendo o arquivo metereologia.csv na pasta do notebook\n",
    "summary(x)"
   ]
  },
  {
   "cell_type": "code",
   "execution_count": 220,
   "metadata": {},
   "outputs": [
    {
     "data": {
      "text/html": [
       "5.9366"
      ],
      "text/latex": [
       "5.9366"
      ],
      "text/markdown": [
       "5.9366"
      ],
      "text/plain": [
       "[1] 5.9366"
      ]
     },
     "metadata": {},
     "output_type": "display_data"
    },
    {
     "data": {
      "text/html": [
       "5.9372"
      ],
      "text/latex": [
       "5.9372"
      ],
      "text/markdown": [
       "5.9372"
      ],
      "text/plain": [
       "[1] 5.9372"
      ]
     },
     "metadata": {},
     "output_type": "display_data"
    },
    {
     "data": {
      "text/html": [
       "5.4264"
      ],
      "text/latex": [
       "5.4264"
      ],
      "text/markdown": [
       "5.4264"
      ],
      "text/plain": [
       "[1] 5.4264"
      ]
     },
     "metadata": {},
     "output_type": "display_data"
    },
    {
     "data": {
      "text/html": [
       "5.427"
      ],
      "text/latex": [
       "5.427"
      ],
      "text/markdown": [
       "5.427"
      ],
      "text/plain": [
       "[1] 5.427"
      ]
     },
     "metadata": {},
     "output_type": "display_data"
    }
   ],
   "source": [
    "# Exibir os maiores valores de compra e de venda\n",
    "#max(x[list(x$Compra, x$Venda),])\n",
    "max(x[,\"Compra\"])\n",
    "max(x[,\"Venda\"])\n",
    "#Exibir os menores valores de compra e venda\n",
    "min(x[,\"Compra\"])\n",
    "min(x[,\"Venda\"])"
   ]
  },
  {
   "cell_type": "markdown",
   "metadata": {},
   "source": [
    "[voltar ao topo](#top)"
   ]
  }
 ],
 "metadata": {
  "kernelspec": {
   "display_name": "R",
   "language": "R",
   "name": "ir"
  },
  "language_info": {
   "codemirror_mode": "r",
   "file_extension": ".r",
   "mimetype": "text/x-r-source",
   "name": "R",
   "pygments_lexer": "r",
   "version": "3.6.1"
  }
 },
 "nbformat": 4,
 "nbformat_minor": 4
}
